{
 "cells": [
  {
   "cell_type": "markdown",
   "metadata": {},
   "source": [
    "# Individual Assignment 1 | Titanic Dataset"
   ]
  },
  {
   "cell_type": "code",
   "execution_count": 276,
   "metadata": {},
   "outputs": [],
   "source": [
    "# Importing libraries\n",
    "import numpy as np\n",
    "import pandas as pd\n",
    "import matplotlib.pyplot as plt\n",
    "import seaborn as sns\n",
    "from sklearn.preprocessing import OneHotEncoder, LabelEncoder, StandardScaler, MinMaxScaler, OrdinalEncoder\n",
    "from sklearn.feature_extraction import FeatureHasher\n",
    "from sklearn.model_selection import train_test_split\n",
    "from imblearn.over_sampling import SMOTE\n",
    "from sklearn.linear_model import LogisticRegression\n",
    "from sklearn.metrics import accuracy_score, roc_curve, auc, confusion_matrix, ConfusionMatrixDisplay\n",
    "from sklearn.feature_selection import VarianceThreshold"
   ]
  },
  {
   "cell_type": "markdown",
   "metadata": {},
   "source": [
    "## 🚢 Task 1: Titanic Dataset: Initial Exploration\n",
    "\n",
    "The Titanic dataset contains information about passengers aboard the Titanic, including survival status, class, age, fare, and other details. The goal of this initial exploration is to:\n",
    "- Load the dataset.\n",
    "- Understand its structure and content.\n",
    "- Identify missing values and potential issues.\n",
    "- Visualize key aspects of the data.\n",
    "- Answer key data analysis questions.\n",
    "\n",
    "---\n"
   ]
  },
  {
   "cell_type": "code",
   "execution_count": 277,
   "metadata": {},
   "outputs": [
    {
     "data": {
      "text/html": [
       "<div>\n",
       "<style scoped>\n",
       "    .dataframe tbody tr th:only-of-type {\n",
       "        vertical-align: middle;\n",
       "    }\n",
       "\n",
       "    .dataframe tbody tr th {\n",
       "        vertical-align: top;\n",
       "    }\n",
       "\n",
       "    .dataframe thead th {\n",
       "        text-align: right;\n",
       "    }\n",
       "</style>\n",
       "<table border=\"1\" class=\"dataframe\">\n",
       "  <thead>\n",
       "    <tr style=\"text-align: right;\">\n",
       "      <th></th>\n",
       "      <th>pclass</th>\n",
       "      <th>survived</th>\n",
       "      <th>name</th>\n",
       "      <th>sex</th>\n",
       "      <th>age</th>\n",
       "      <th>sibsp</th>\n",
       "      <th>parch</th>\n",
       "      <th>ticket</th>\n",
       "      <th>fare</th>\n",
       "      <th>cabin</th>\n",
       "      <th>embarked</th>\n",
       "      <th>boat</th>\n",
       "      <th>body</th>\n",
       "      <th>home.dest</th>\n",
       "    </tr>\n",
       "  </thead>\n",
       "  <tbody>\n",
       "    <tr>\n",
       "      <th>0</th>\n",
       "      <td>1</td>\n",
       "      <td>1</td>\n",
       "      <td>Allen, Miss. Elisabeth Walton</td>\n",
       "      <td>female</td>\n",
       "      <td>29.0000</td>\n",
       "      <td>0</td>\n",
       "      <td>0</td>\n",
       "      <td>24160</td>\n",
       "      <td>211.3375</td>\n",
       "      <td>B5</td>\n",
       "      <td>S</td>\n",
       "      <td>2</td>\n",
       "      <td>NaN</td>\n",
       "      <td>St Louis, MO</td>\n",
       "    </tr>\n",
       "    <tr>\n",
       "      <th>1</th>\n",
       "      <td>1</td>\n",
       "      <td>1</td>\n",
       "      <td>Allison, Master. Hudson Trevor</td>\n",
       "      <td>male</td>\n",
       "      <td>0.9167</td>\n",
       "      <td>1</td>\n",
       "      <td>2</td>\n",
       "      <td>113781</td>\n",
       "      <td>151.5500</td>\n",
       "      <td>C22 C26</td>\n",
       "      <td>S</td>\n",
       "      <td>11</td>\n",
       "      <td>NaN</td>\n",
       "      <td>Montreal, PQ / Chesterville, ON</td>\n",
       "    </tr>\n",
       "    <tr>\n",
       "      <th>2</th>\n",
       "      <td>1</td>\n",
       "      <td>0</td>\n",
       "      <td>Allison, Miss. Helen Loraine</td>\n",
       "      <td>female</td>\n",
       "      <td>2.0000</td>\n",
       "      <td>1</td>\n",
       "      <td>2</td>\n",
       "      <td>113781</td>\n",
       "      <td>151.5500</td>\n",
       "      <td>C22 C26</td>\n",
       "      <td>S</td>\n",
       "      <td>NaN</td>\n",
       "      <td>NaN</td>\n",
       "      <td>Montreal, PQ / Chesterville, ON</td>\n",
       "    </tr>\n",
       "    <tr>\n",
       "      <th>3</th>\n",
       "      <td>1</td>\n",
       "      <td>0</td>\n",
       "      <td>Allison, Mr. Hudson Joshua Creighton</td>\n",
       "      <td>male</td>\n",
       "      <td>30.0000</td>\n",
       "      <td>1</td>\n",
       "      <td>2</td>\n",
       "      <td>113781</td>\n",
       "      <td>151.5500</td>\n",
       "      <td>C22 C26</td>\n",
       "      <td>S</td>\n",
       "      <td>NaN</td>\n",
       "      <td>135.0</td>\n",
       "      <td>Montreal, PQ / Chesterville, ON</td>\n",
       "    </tr>\n",
       "    <tr>\n",
       "      <th>4</th>\n",
       "      <td>1</td>\n",
       "      <td>0</td>\n",
       "      <td>Allison, Mrs. Hudson J C (Bessie Waldo Daniels)</td>\n",
       "      <td>female</td>\n",
       "      <td>25.0000</td>\n",
       "      <td>1</td>\n",
       "      <td>2</td>\n",
       "      <td>113781</td>\n",
       "      <td>151.5500</td>\n",
       "      <td>C22 C26</td>\n",
       "      <td>S</td>\n",
       "      <td>NaN</td>\n",
       "      <td>NaN</td>\n",
       "      <td>Montreal, PQ / Chesterville, ON</td>\n",
       "    </tr>\n",
       "  </tbody>\n",
       "</table>\n",
       "</div>"
      ],
      "text/plain": [
       "   pclass  survived                                             name     sex  \\\n",
       "0       1         1                    Allen, Miss. Elisabeth Walton  female   \n",
       "1       1         1                   Allison, Master. Hudson Trevor    male   \n",
       "2       1         0                     Allison, Miss. Helen Loraine  female   \n",
       "3       1         0             Allison, Mr. Hudson Joshua Creighton    male   \n",
       "4       1         0  Allison, Mrs. Hudson J C (Bessie Waldo Daniels)  female   \n",
       "\n",
       "       age  sibsp  parch  ticket      fare    cabin embarked boat   body  \\\n",
       "0  29.0000      0      0   24160  211.3375       B5        S    2    NaN   \n",
       "1   0.9167      1      2  113781  151.5500  C22 C26        S   11    NaN   \n",
       "2   2.0000      1      2  113781  151.5500  C22 C26        S  NaN    NaN   \n",
       "3  30.0000      1      2  113781  151.5500  C22 C26        S  NaN  135.0   \n",
       "4  25.0000      1      2  113781  151.5500  C22 C26        S  NaN    NaN   \n",
       "\n",
       "                         home.dest  \n",
       "0                     St Louis, MO  \n",
       "1  Montreal, PQ / Chesterville, ON  \n",
       "2  Montreal, PQ / Chesterville, ON  \n",
       "3  Montreal, PQ / Chesterville, ON  \n",
       "4  Montreal, PQ / Chesterville, ON  "
      ]
     },
     "execution_count": 277,
     "metadata": {},
     "output_type": "execute_result"
    }
   ],
   "source": [
    "# Load dataset\n",
    "data = pd.read_excel(\"titanic3.xls\")\n",
    "# Display the first few rows\n",
    "data.head()"
   ]
  },
  {
   "cell_type": "markdown",
   "metadata": {},
   "source": [
    "The dataset contains **1309 entries** and **14 columns**, covering various passenger attributes. Let's inspect the dataset structure and statistics.\n"
   ]
  },
  {
   "cell_type": "code",
   "execution_count": 278,
   "metadata": {},
   "outputs": [
    {
     "name": "stdout",
     "output_type": "stream",
     "text": [
      "<class 'pandas.core.frame.DataFrame'>\n",
      "RangeIndex: 1309 entries, 0 to 1308\n",
      "Data columns (total 14 columns):\n",
      " #   Column     Non-Null Count  Dtype  \n",
      "---  ------     --------------  -----  \n",
      " 0   pclass     1309 non-null   int64  \n",
      " 1   survived   1309 non-null   int64  \n",
      " 2   name       1309 non-null   object \n",
      " 3   sex        1309 non-null   object \n",
      " 4   age        1046 non-null   float64\n",
      " 5   sibsp      1309 non-null   int64  \n",
      " 6   parch      1309 non-null   int64  \n",
      " 7   ticket     1309 non-null   object \n",
      " 8   fare       1308 non-null   float64\n",
      " 9   cabin      295 non-null    object \n",
      " 10  embarked   1307 non-null   object \n",
      " 11  boat       486 non-null    object \n",
      " 12  body       121 non-null    float64\n",
      " 13  home.dest  745 non-null    object \n",
      "dtypes: float64(3), int64(4), object(7)\n",
      "memory usage: 143.3+ KB\n"
     ]
    }
   ],
   "source": [
    "data.info()"
   ]
  },
  {
   "cell_type": "markdown",
   "metadata": {},
   "source": [
    "The dataset includes both **numerical** (`age`, `fare`, etc.) and **categorical** (`sex`, `embarked`, etc.) variables. Missing values are present, particularly in `cabin`, `boat`, and `body`.\n"
   ]
  },
  {
   "cell_type": "code",
   "execution_count": 279,
   "metadata": {},
   "outputs": [
    {
     "data": {
      "text/html": [
       "<div>\n",
       "<style scoped>\n",
       "    .dataframe tbody tr th:only-of-type {\n",
       "        vertical-align: middle;\n",
       "    }\n",
       "\n",
       "    .dataframe tbody tr th {\n",
       "        vertical-align: top;\n",
       "    }\n",
       "\n",
       "    .dataframe thead th {\n",
       "        text-align: right;\n",
       "    }\n",
       "</style>\n",
       "<table border=\"1\" class=\"dataframe\">\n",
       "  <thead>\n",
       "    <tr style=\"text-align: right;\">\n",
       "      <th></th>\n",
       "      <th>pclass</th>\n",
       "      <th>survived</th>\n",
       "      <th>age</th>\n",
       "      <th>sibsp</th>\n",
       "      <th>parch</th>\n",
       "      <th>fare</th>\n",
       "      <th>body</th>\n",
       "    </tr>\n",
       "  </thead>\n",
       "  <tbody>\n",
       "    <tr>\n",
       "      <th>count</th>\n",
       "      <td>1309.000000</td>\n",
       "      <td>1309.000000</td>\n",
       "      <td>1046.000000</td>\n",
       "      <td>1309.000000</td>\n",
       "      <td>1309.000000</td>\n",
       "      <td>1308.000000</td>\n",
       "      <td>121.000000</td>\n",
       "    </tr>\n",
       "    <tr>\n",
       "      <th>mean</th>\n",
       "      <td>2.294882</td>\n",
       "      <td>0.381971</td>\n",
       "      <td>29.881135</td>\n",
       "      <td>0.498854</td>\n",
       "      <td>0.385027</td>\n",
       "      <td>33.295479</td>\n",
       "      <td>160.809917</td>\n",
       "    </tr>\n",
       "    <tr>\n",
       "      <th>std</th>\n",
       "      <td>0.837836</td>\n",
       "      <td>0.486055</td>\n",
       "      <td>14.413500</td>\n",
       "      <td>1.041658</td>\n",
       "      <td>0.865560</td>\n",
       "      <td>51.758668</td>\n",
       "      <td>97.696922</td>\n",
       "    </tr>\n",
       "    <tr>\n",
       "      <th>min</th>\n",
       "      <td>1.000000</td>\n",
       "      <td>0.000000</td>\n",
       "      <td>0.166700</td>\n",
       "      <td>0.000000</td>\n",
       "      <td>0.000000</td>\n",
       "      <td>0.000000</td>\n",
       "      <td>1.000000</td>\n",
       "    </tr>\n",
       "    <tr>\n",
       "      <th>25%</th>\n",
       "      <td>2.000000</td>\n",
       "      <td>0.000000</td>\n",
       "      <td>21.000000</td>\n",
       "      <td>0.000000</td>\n",
       "      <td>0.000000</td>\n",
       "      <td>7.895800</td>\n",
       "      <td>72.000000</td>\n",
       "    </tr>\n",
       "    <tr>\n",
       "      <th>50%</th>\n",
       "      <td>3.000000</td>\n",
       "      <td>0.000000</td>\n",
       "      <td>28.000000</td>\n",
       "      <td>0.000000</td>\n",
       "      <td>0.000000</td>\n",
       "      <td>14.454200</td>\n",
       "      <td>155.000000</td>\n",
       "    </tr>\n",
       "    <tr>\n",
       "      <th>75%</th>\n",
       "      <td>3.000000</td>\n",
       "      <td>1.000000</td>\n",
       "      <td>39.000000</td>\n",
       "      <td>1.000000</td>\n",
       "      <td>0.000000</td>\n",
       "      <td>31.275000</td>\n",
       "      <td>256.000000</td>\n",
       "    </tr>\n",
       "    <tr>\n",
       "      <th>max</th>\n",
       "      <td>3.000000</td>\n",
       "      <td>1.000000</td>\n",
       "      <td>80.000000</td>\n",
       "      <td>8.000000</td>\n",
       "      <td>9.000000</td>\n",
       "      <td>512.329200</td>\n",
       "      <td>328.000000</td>\n",
       "    </tr>\n",
       "  </tbody>\n",
       "</table>\n",
       "</div>"
      ],
      "text/plain": [
       "            pclass     survived          age        sibsp        parch  \\\n",
       "count  1309.000000  1309.000000  1046.000000  1309.000000  1309.000000   \n",
       "mean      2.294882     0.381971    29.881135     0.498854     0.385027   \n",
       "std       0.837836     0.486055    14.413500     1.041658     0.865560   \n",
       "min       1.000000     0.000000     0.166700     0.000000     0.000000   \n",
       "25%       2.000000     0.000000    21.000000     0.000000     0.000000   \n",
       "50%       3.000000     0.000000    28.000000     0.000000     0.000000   \n",
       "75%       3.000000     1.000000    39.000000     1.000000     0.000000   \n",
       "max       3.000000     1.000000    80.000000     8.000000     9.000000   \n",
       "\n",
       "              fare        body  \n",
       "count  1308.000000  121.000000  \n",
       "mean     33.295479  160.809917  \n",
       "std      51.758668   97.696922  \n",
       "min       0.000000    1.000000  \n",
       "25%       7.895800   72.000000  \n",
       "50%      14.454200  155.000000  \n",
       "75%      31.275000  256.000000  \n",
       "max     512.329200  328.000000  "
      ]
     },
     "execution_count": 279,
     "metadata": {},
     "output_type": "execute_result"
    }
   ],
   "source": [
    "# Display summary statistics\n",
    "data.describe()"
   ]
  },
  {
   "cell_type": "markdown",
   "metadata": {},
   "source": [
    "The summary statistics reveal:\n",
    "- **Age** ranges from 0.17 to 80 years.\n",
    "- **Fare** has a maximum of **$512.33**, indicating some high-paying passengers.\n",
    "- **Siblings/Spouses (sibsp)** and **Parents/Children (parch)** vary widely, with most passengers traveling alone.\n",
    "\n",
    "---\n"
   ]
  },
  {
   "cell_type": "code",
   "execution_count": 280,
   "metadata": {},
   "outputs": [
    {
     "name": "stdout",
     "output_type": "stream",
     "text": [
      "\n",
      "pclass:\n",
      "pclass\n",
      "3    709\n",
      "1    323\n",
      "2    277\n",
      "Name: count, dtype: int64\n",
      "\n",
      "survived:\n",
      "survived\n",
      "0    809\n",
      "1    500\n",
      "Name: count, dtype: int64\n",
      "\n",
      "name:\n",
      "name\n",
      "Connolly, Miss. Kate             2\n",
      "Kelly, Mr. James                 2\n",
      "Allen, Miss. Elisabeth Walton    1\n",
      "Ilmakangas, Miss. Ida Livija     1\n",
      "Ilieff, Mr. Ylio                 1\n",
      "                                ..\n",
      "Hart, Miss. Eva Miriam           1\n",
      "Harris, Mr. Walter               1\n",
      "Harris, Mr. George               1\n",
      "Harper, Rev. John                1\n",
      "Zimmerman, Mr. Leo               1\n",
      "Name: count, Length: 1307, dtype: int64\n",
      "\n",
      "sex:\n",
      "sex\n",
      "male      843\n",
      "female    466\n",
      "Name: count, dtype: int64\n",
      "\n",
      "age:\n",
      "age\n",
      "24.0000    47\n",
      "22.0000    43\n",
      "21.0000    41\n",
      "30.0000    40\n",
      "18.0000    39\n",
      "           ..\n",
      "0.3333      1\n",
      "22.5000     1\n",
      "70.5000     1\n",
      "0.6667      1\n",
      "26.5000     1\n",
      "Name: count, Length: 98, dtype: int64\n",
      "\n",
      "sibsp:\n",
      "sibsp\n",
      "0    891\n",
      "1    319\n",
      "2     42\n",
      "4     22\n",
      "3     20\n",
      "8      9\n",
      "5      6\n",
      "Name: count, dtype: int64\n",
      "\n",
      "parch:\n",
      "parch\n",
      "0    1002\n",
      "1     170\n",
      "2     113\n",
      "3       8\n",
      "4       6\n",
      "5       6\n",
      "6       2\n",
      "9       2\n",
      "Name: count, dtype: int64\n",
      "\n",
      "ticket:\n",
      "ticket\n",
      "CA. 2343        11\n",
      "CA 2144          8\n",
      "1601             8\n",
      "S.O.C. 14879     7\n",
      "3101295          7\n",
      "                ..\n",
      "C 7076           1\n",
      "341826           1\n",
      "7546             1\n",
      "3474             1\n",
      "315082           1\n",
      "Name: count, Length: 939, dtype: int64\n",
      "\n",
      "fare:\n",
      "fare\n",
      "8.0500     60\n",
      "13.0000    59\n",
      "7.7500     55\n",
      "26.0000    50\n",
      "7.8958     49\n",
      "           ..\n",
      "15.0500     1\n",
      "9.6875      1\n",
      "15.5792     1\n",
      "12.0000     1\n",
      "7.8750      1\n",
      "Name: count, Length: 281, dtype: int64\n",
      "\n",
      "cabin:\n",
      "cabin\n",
      "C23 C25 C27        6\n",
      "G6                 5\n",
      "B57 B59 B63 B66    5\n",
      "F4                 4\n",
      "F33                4\n",
      "                  ..\n",
      "C132               1\n",
      "E60                1\n",
      "B52 B54 B56        1\n",
      "C49                1\n",
      "F38                1\n",
      "Name: count, Length: 186, dtype: int64\n",
      "\n",
      "embarked:\n",
      "embarked\n",
      "S    914\n",
      "C    270\n",
      "Q    123\n",
      "Name: count, dtype: int64\n",
      "\n",
      "boat:\n",
      "boat\n",
      "13         39\n",
      "C          38\n",
      "15         37\n",
      "14         33\n",
      "4          31\n",
      "10         29\n",
      "5          27\n",
      "3          26\n",
      "9          25\n",
      "11         25\n",
      "7          23\n",
      "16         23\n",
      "8          23\n",
      "6          20\n",
      "D          20\n",
      "12         19\n",
      "2          12\n",
      "A          11\n",
      "B           9\n",
      "1           5\n",
      "C D         2\n",
      "13 15       2\n",
      "5 7         2\n",
      "8 10        1\n",
      "13 15 B     1\n",
      "5 9         1\n",
      "15 16       1\n",
      "2           1\n",
      "Name: count, dtype: int64\n",
      "\n",
      "body:\n",
      "body\n",
      "135.0    1\n",
      "101.0    1\n",
      "37.0     1\n",
      "285.0    1\n",
      "156.0    1\n",
      "        ..\n",
      "97.0     1\n",
      "174.0    1\n",
      "169.0    1\n",
      "245.0    1\n",
      "304.0    1\n",
      "Name: count, Length: 121, dtype: int64\n",
      "\n",
      "home.dest:\n",
      "home.dest\n",
      "New York, NY                                    64\n",
      "London                                          14\n",
      "Montreal, PQ                                    10\n",
      "Paris, France                                    9\n",
      "Cornwall / Akron, OH                             9\n",
      "                                                ..\n",
      "Chelsea, London                                  1\n",
      "Harrow-on-the-Hill, Middlesex                    1\n",
      "Copenhagen, Denmark                              1\n",
      "Guernsey / Montclair, NJ and/or Toledo, Ohio     1\n",
      "Antwerp, Belgium / Stanton, OH                   1\n",
      "Name: count, Length: 369, dtype: int64\n"
     ]
    }
   ],
   "source": [
    "# Display count of unique values in each column\n",
    "for column in data.columns:\n",
    "    print(f\"\\n{column}:\")\n",
    "    print(data[column].value_counts())"
   ]
  },
  {
   "cell_type": "markdown",
   "metadata": {},
   "source": [
    "This helps identify categorical variables, repeated ticket numbers, and potential duplicates in passenger names.\n",
    "\n",
    "---\n"
   ]
  },
  {
   "cell_type": "markdown",
   "metadata": {},
   "source": [
    "### 1️⃣ Dataset Overview\n",
    "- **Total Entries**: 1309\n",
    "- **Total Columns**: 14\n",
    "- **Target Variable**: `survived` (0 = No, 1 = Yes)\n",
    "\n",
    "### 2️⃣ Data Dictionary\n",
    "| Column    | Description |\n",
    "|-----------|------------|\n",
    "| survived  | Survival (0 = No, 1 = Yes) |\n",
    "| pclass    | Passenger Class (1st, 2nd, 3rd) |\n",
    "| name      | Passenger Name |\n",
    "| sex       | Sex (Male/Female) |\n",
    "| age       | Age of Passenger |\n",
    "| sibsp     | Number of Siblings/Spouses Aboard |\n",
    "| parch     | Number of Parents/Children Aboard |\n",
    "| ticket    | Ticket Number |\n",
    "| fare      | Passenger Fare |\n",
    "| cabin     | Cabin Number (if known) |\n",
    "| embarked  | Port of Embarkation (C, Q, S) |\n",
    "| boat      | Lifeboat Number (if survived) |\n",
    "| body      | Body Number (if recovered) |\n",
    "| home.dest | Final Destination |\n"
   ]
  },
  {
   "cell_type": "code",
   "execution_count": 281,
   "metadata": {},
   "outputs": [
    {
     "data": {
      "image/png": "[encoded data removed]",
      "text/plain": [
       "<Figure size 600x400 with 1 Axes>"
      ]
     },
     "metadata": {},
     "output_type": "display_data"
    }
   ],
   "source": [
    "# Set visualization style\n",
    "sns.set_style(\"whitegrid\")\n",
    "# Survival count plot\n",
    "plt.figure(figsize=(6, 4))\n",
    "sns.countplot(data=data, x=\"survived\", hue=\"survived\", palette=\"viridis\", legend=False)\n",
    "plt.xticks([0, 1], ['Did Not Survive', 'Survived'])\n",
    "plt.xlabel(\"Survival\")\n",
    "plt.ylabel(\"Count\")\n",
    "plt.title(\"Survival Distribution\")\n",
    "plt.show()"
   ]
  },
  {
   "cell_type": "markdown",
   "metadata": {},
   "source": [
    "🔍 **Observation:**  \n",
    "- More people **did not survive (61.8%)** than survived (38.2%).\n",
    "- This class imbalance should be considered when training a predictive model.\n",
    "\n",
    "---\n"
   ]
  },
  {
   "cell_type": "code",
   "execution_count": 282,
   "metadata": {},
   "outputs": [
    {
     "data": {
      "image/png": "[encoded data removed]",
      "text/plain": [
       "<Figure size 800x500 with 1 Axes>"
      ]
     },
     "metadata": {},
     "output_type": "display_data"
    }
   ],
   "source": [
    "plt.figure(figsize=(8, 5))\n",
    "sns.countplot(x=data[\"pclass\"], hue=data[\"survived\"], palette=\"coolwarm\")\n",
    "plt.xticks([0, 1, 2], ['1st Class', '2nd Class', '3rd Class'])\n",
    "plt.xlabel(\"Passenger Class\")\n",
    "plt.ylabel(\"Count\")\n",
    "plt.title(\"Survival Rate by Passenger Class\")\n",
    "plt.legend([\"Did Not Survive\", \"Survived\"])\n",
    "plt.show()"
   ]
  },
  {
   "cell_type": "markdown",
   "metadata": {},
   "source": [
    "🔍 **Observation:**  \n",
    "- **1st Class passengers** had the highest survival rate.\n",
    "- **3rd Class passengers** had the lowest survival rate, indicating socioeconomic factors played a role.\n",
    "\n",
    "---\n"
   ]
  },
  {
   "cell_type": "code",
   "execution_count": 283,
   "metadata": {},
   "outputs": [
    {
     "data": {
      "image/png": "[encoded data removed]",
      "text/plain": [
       "<Figure size 600x400 with 1 Axes>"
      ]
     },
     "metadata": {},
     "output_type": "display_data"
    }
   ],
   "source": [
    "plt.figure(figsize=(6, 4))\n",
    "sns.countplot(x=data[\"sex\"], hue=data[\"survived\"], palette=\"pastel\")\n",
    "plt.xlabel(\"Sex\")\n",
    "plt.ylabel(\"Count\")\n",
    "plt.title(\"Survival Rate by Gender\")\n",
    "plt.legend([\"Did Not Survive\", \"Survived\"])\n",
    "plt.show()"
   ]
  },
  {
   "cell_type": "markdown",
   "metadata": {},
   "source": [
    "🔍 **Observation:**  \n",
    "- **Females had a significantly higher survival rate** than males.\n",
    "- This aligns with the **\"women and children first\"** principle used during evacuation.\n",
    "\n",
    "---\n"
   ]
  },
  {
   "cell_type": "code",
   "execution_count": 284,
   "metadata": {},
   "outputs": [
    {
     "data": {
      "image/png": "[encoded data removed]",
      "text/plain": [
       "<Figure size 800x500 with 1 Axes>"
      ]
     },
     "metadata": {},
     "output_type": "display_data"
    }
   ],
   "source": [
    "plt.figure(figsize=(8, 5))\n",
    "sns.histplot(data[\"age\"].dropna(), bins=30, kde=True, color=\"skyblue\")\n",
    "plt.xlabel(\"Age\")\n",
    "plt.ylabel(\"Count\")\n",
    "plt.title(\"Age Distribution of Passengers\")\n",
    "plt.show()\n"
   ]
  },
  {
   "cell_type": "markdown",
   "metadata": {},
   "source": [
    "🔍 **Observation:**  \n",
    "- Most passengers were between **20-40 years old**.\n",
    "- A few **elderly passengers (above 60)** were aboard.\n",
    "\n",
    "---\n"
   ]
  },
  {
   "cell_type": "code",
   "execution_count": 285,
   "metadata": {},
   "outputs": [
    {
     "data": {
      "image/png": "[encoded data removed]",
      "text/plain": [
       "<Figure size 800x500 with 1 Axes>"
      ]
     },
     "metadata": {},
     "output_type": "display_data"
    }
   ],
   "source": [
    "plt.figure(figsize=(8, 5))\n",
    "sns.boxplot(data=data, x=\"pclass\", y=\"fare\", hue=\"pclass\", palette=\"muted\", legend=False)\n",
    "plt.xticks([0, 1, 2], ['1st Class', '2nd Class', '3rd Class'])\n",
    "plt.xlabel(\"Passenger Class\")\n",
    "plt.ylabel(\"Fare\")\n",
    "plt.title(\"Fare Distribution by Passenger Class\")\n",
    "plt.ylim(0, 300)  # Limiting y-axis to remove extreme outliers\n",
    "plt.show()"
   ]
  },
  {
   "cell_type": "markdown",
   "metadata": {},
   "source": [
    "🔍 **Observation:**  \n",
    "- **1st Class passengers paid the highest fares**, sometimes exceeding **$300**.\n",
    "- **3rd Class passengers paid significantly lower fares**.\n",
    "\n",
    "---\n"
   ]
  },
  {
   "cell_type": "code",
   "execution_count": 286,
   "metadata": {},
   "outputs": [
    {
     "data": {
      "image/png": "[encoded data removed]",
      "text/plain": [
       "<Figure size 600x400 with 1 Axes>"
      ]
     },
     "metadata": {},
     "output_type": "display_data"
    }
   ],
   "source": [
    "plt.figure(figsize=(6, 4))\n",
    "sns.countplot(x=data[\"embarked\"], hue=data[\"survived\"], palette=\"viridis\")\n",
    "plt.xlabel(\"Embarked Port\")\n",
    "plt.ylabel(\"Count\")\n",
    "plt.title(\"Survival Rate by Embarked Port\")\n",
    "plt.legend([\"Did Not Survive\", \"Survived\"])\n",
    "plt.show()"
   ]
  },
  {
   "cell_type": "markdown",
   "metadata": {},
   "source": [
    "🔍 **Observation:**  \n",
    "- Passengers embarking from **Cherbourg (C) had a higher survival rate**.\n",
    "- Most passengers embarked at **Southampton (S)**.\n",
    "\n",
    "---\n"
   ]
  },
  {
   "cell_type": "markdown",
   "metadata": {},
   "source": [
    "### Answering key questions from the slides\n",
    "#### 1️⃣ Are the data tidy?\n",
    "The dataset is **mostly tidy**, but some columns require **cleaning**:\n",
    "- **Cabin**: Multiple cabin values in a single cell.\n",
    "- **Boat**: Some passengers listed with multiple lifeboats.\n",
    "- **Ticket**: Needs feature extraction.\n",
    "\n",
    "✅ **Verdict**: **Mostly tidy**, but requires **feature engineering**.\n",
    "\n",
    "---\n",
    "\n",
    "#### 2️⃣ Are the data tidy but incomplete?\n",
    "Several columns have missing values:\n",
    "| Column      | Missing Values | % Missing |\n",
    "|------------|----------------|-----------|\n",
    "| age        | 263            | 20.1%     |\n",
    "| fare       | 1              | <0.1%     |\n",
    "| embarked   | 2              | 0.15%     |\n",
    "| cabin      | 1014           | 77.5%     |\n",
    "| boat       | 823            | 62.8%     |\n",
    "| body       | 1188           | 90.8%     |\n",
    "| home.dest  | 564            | 43.1%     |\n",
    "\n",
    "✅ **Verdict**: **Yes, data are incomplete.** Imputation is required.\n",
    "\n",
    "---\n",
    "\n",
    "#### 3️⃣ Are the data tidy but with duplicates?\n",
    "Potential duplicates exist:\n",
    "- `name`: 1307 unique values for 1309 rows.\n",
    "- `ticket`: Some tickets shared among passengers.\n",
    "- `cabin`: Potential inconsistencies.\n",
    "\n",
    "✅ **Verdict**: **Possible duplicates** in `Name` and `Ticket`.\n",
    "\n",
    "---\n",
    "\n",
    "#### 4️⃣ Are the data expired or outdated?\n",
    "The dataset **represents a historical event (1912)**, so **expiration is not a concern**.\n",
    "\n",
    "✅ **Verdict**: **No risk of outdated data**.\n",
    "\n",
    "---\n",
    "\n",
    "#### 5️⃣ Are the data incomplete or unrepresentative?\n",
    "- **Survival rates are imbalanced** (38.2% survived, 61.8% did not).\n",
    "- **Missing data may introduce bias**.\n",
    "\n",
    "✅ **Verdict**: **Dataset is incomplete and may not fully represent survival patterns**.\n",
    "\n",
    "---\n",
    "\n",
    "#### 6️⃣ Is the data source known?\n",
    "The **Titanic dataset is well-documented** and sourced from **passenger records**.\n",
    "\n",
    "✅ **Verdict**: **Yes, the source is known**.\n",
    "\n",
    "---\n",
    "\n",
    "#### 7️⃣ Were gender data manually inputted or derived?\n",
    "- The **`sex` column is manually recorded**.\n",
    "- No automated classifier used.\n",
    "\n",
    "✅ **Verdict**: **Gender data is reliable**.\n",
    "\n",
    "---\n",
    "\n",
    "#### 8️⃣ Is there data leakage?\n",
    "- **Boat column** indirectly reveals survival status.\n",
    "- **Body column** only recorded for deceased passengers.\n",
    "\n",
    "✅ **Verdict**: **Yes, potential leakage. Drop `Boat` and `Body`**.\n",
    "\n",
    "---\n",
    "\n",
    "#### 9️⃣ Are the data reliable?\n",
    "- **Survival labels** are historically accurate.\n",
    "- **Potential inconsistencies** in `home.dest` and `cabin`.\n",
    "\n",
    "✅ **Verdict**: **Mostly reliable, but some validation needed**.\n",
    "\n",
    "---\n",
    "\n",
    "#### **📌 Final Summary**\n",
    "| **Issue**                | **Status**                | **Recommended Action**                                   |\n",
    "|--------------------------|--------------------------|----------------------------------------------------------|\n",
    "| **Tidy Data**            | Mostly tidy              | Feature engineering for `Cabin`, `Boat`, `Ticket`       |\n",
    "| **Missing Data**         | Yes                      | Impute `Age`, `Fare`, `Embarked`                        |\n",
    "| **Duplicates**           | Possibly                 | Check `Name`, `Ticket` for duplicates                   |\n",
    "| **Outdated Data**        | No                       | Not an issue                                            |\n",
    "| **Unrepresentative Data**| Yes                      | Missing data may introduce bias                         |\n",
    "| **Data Leakage?**        | Yes                      | Drop `Boat` and `Body`                                  |\n",
    "| **Data Reliability?**    | Generally reliable       | Validate labels                                         |\n"
   ]
  },
  {
   "cell_type": "markdown",
   "metadata": {},
   "source": [
    "## 📌 Task 2: Managing Missing Values  \n",
    "\n",
    "The Titanic dataset contains missing values that must be handled to ensure **data integrity** and **model accuracy**. The goal of this section is to:\n",
    "- Identify and analyze missing values.  \n",
    "- Apply appropriate **imputation** or remove columns if necessary.  \n",
    "- Verify that no missing values remain.  \n",
    "\n",
    "Proper handling prevents **bias** and ensures the dataset is **ready for feature engineering and modeling**. 🚀  \n",
    "\n",
    "---\n"
   ]
  },
  {
   "cell_type": "markdown",
   "metadata": {},
   "source": [
    "### 📊 Step 1: Identifying Missing Values\n",
    "\n",
    "Before handling missing values, we first identify **which columns contain missing data** and their percentage. Understanding missing values is crucial to selecting the best imputation strategy.\n",
    "\n"
   ]
  },
  {
   "cell_type": "code",
   "execution_count": 287,
   "metadata": {},
   "outputs": [
    {
     "name": "stdout",
     "output_type": "stream",
     "text": [
      "Missing Values Summary:\n",
      "           Missing Values  Percentage\n",
      "body                 1188   90.756303\n",
      "cabin                1014   77.463713\n",
      "boat                  823   62.872422\n",
      "home.dest             564   43.086325\n",
      "age                   263   20.091673\n",
      "embarked                2    0.152788\n",
      "fare                    1    0.076394\n",
      "pclass                  0    0.000000\n",
      "survived                0    0.000000\n",
      "name                    0    0.000000\n",
      "sex                     0    0.000000\n",
      "sibsp                   0    0.000000\n",
      "parch                   0    0.000000\n",
      "ticket                  0    0.000000\n"
     ]
    },
    {
     "data": {
      "text/plain": [
       "<Figure size 1000x500 with 0 Axes>"
      ]
     },
     "metadata": {},
     "output_type": "display_data"
    },
    {
     "data": {
      "image/png": "[encoded data removed]",
      "text/plain": [
       "<Figure size 640x480 with 1 Axes>"
      ]
     },
     "metadata": {},
     "output_type": "display_data"
    }
   ],
   "source": [
    "# Count missing values and percentage\n",
    "missing_values = data.isnull().sum()\n",
    "missing_percentage = (missing_values / len(data)) * 100\n",
    "\n",
    "# Create a DataFrame for better visualization\n",
    "missing_df = pd.DataFrame({\n",
    "    \"Missing Values\": missing_values,\n",
    "    \"Percentage\": missing_percentage\n",
    "}).sort_values(by=\"Percentage\", ascending=False)\n",
    "\n",
    "# Display missing values summary\n",
    "print(\"Missing Values Summary:\")\n",
    "print(missing_df)\n",
    "\n",
    "# Plot missing values\n",
    "plt.figure(figsize=(10, 5))\n",
    "missing_df[missing_df[\"Missing Values\"] > 0].sort_values(by=\"Percentage\", ascending=False).plot(\n",
    "    kind=\"bar\", y=\"Percentage\", legend=False, color=\"darkred\", alpha=0.7\n",
    ")\n",
    "plt.title(\"Percentage of Missing Values per Column\")\n",
    "plt.ylabel(\"Percentage\")\n",
    "plt.xlabel(\"Columns\")\n",
    "plt.xticks(rotation=45)\n",
    "plt.grid(axis=\"y\", linestyle=\"--\", alpha=0.7)\n",
    "plt.show()\n"
   ]
  },
  {
   "cell_type": "markdown",
   "metadata": {},
   "source": [
    "### 🛠 Step 2: Strategy for Handling Missing Values\n",
    "\n",
    "Now that we have identified missing values, we must decide the best approach to handle them. The strategy depends on:\n",
    "1. The **importance of the column** for survival prediction.\n",
    "2. The **percentage of missing data**—if too high, the column may be dropped.\n",
    "3. Whether missing values are **random or systematic**, which can impact predictive modeling.\n",
    "\n",
    "Below is the **selected strategy for each column**:\n",
    "\n"
   ]
  },
  {
   "cell_type": "markdown",
   "metadata": {},
   "source": [
    "| Column     | Imputation Strategy         | Justification |\n",
    "|------------|----------------------------|---------------|\n",
    "| **Boat, Body, Home.dest** | **Drop the column** | `Boat` and `Body` cause **data leakage**. `Home.dest` is not essential. |\n",
    "| **Age**    | **Mean Imputation**         | Age follows a **normal distribution**, so using the mean retains its distribution. |\n",
    "| **Fare**   | **Median Imputation**       | Median is **robust to outliers**, ensuring no skewing by extreme fares. |\n",
    "| **Embarked** | **Mode Imputation**       | Since it’s **categorical**, missing values are replaced with the most common port. |\n",
    "| **Cabin**  | **New Category (\"Unknown\")** | `Cabin` may impact survival (higher-class cabins had better survival chances), so we keep it with an `\"Unknown\"` category instead of dropping it. |\n"
   ]
  },
  {
   "cell_type": "markdown",
   "metadata": {},
   "source": [
    "### 🗑 Step 3.1: Dropping Columns with High Missing Values\n",
    "Columns with excessive missing values that **do not contribute to predictive modeling** are removed.\n"
   ]
  },
  {
   "cell_type": "code",
   "execution_count": 288,
   "metadata": {},
   "outputs": [],
   "source": [
    "# Drop Boat, Body, and Home.dest columns due to high missing values and potential leakage\n",
    "data.drop(columns=['boat', 'body', 'home.dest'], inplace=True)"
   ]
  },
  {
   "cell_type": "markdown",
   "metadata": {},
   "source": [
    "✅ **Dropped columns**:\n",
    "- `Boat` (directly indicates survival).\n",
    "- `Body` (only recorded for deceased passengers).\n",
    "- `Home.dest` (not relevant to survival).\n",
    "\n",
    "---\n"
   ]
  },
  {
   "cell_type": "markdown",
   "metadata": {},
   "source": [
    "### 🚢 Step 3.2: Handling Categorical Missing Values - Embarked\n",
    "Since **only two values** are missing, we replace them with the most common value.\n"
   ]
  },
  {
   "cell_type": "code",
   "execution_count": 289,
   "metadata": {},
   "outputs": [],
   "source": [
    "# Fill missing values in 'embarked' with the most common value (mode)\n",
    "most_common_embarked = data[\"embarked\"].mode().iloc[0]  # Using iloc is more explicit\n",
    "data[\"embarked\"] = data[\"embarked\"].fillna(most_common_embarked)  # Avoid inplace=True"
   ]
  },
  {
   "cell_type": "markdown",
   "metadata": {},
   "source": [
    "✅ **Filled missing values in Embarked** using **mode (most common port).**\n",
    "- Most frequent value: `S` (Southampton).\n",
    "\n",
    "---\n"
   ]
  },
  {
   "cell_type": "markdown",
   "metadata": {},
   "source": [
    "### 🏠 Step 3.3: Handling Cabin - Assigning \"Unknown\" Category\n",
    "The `Cabin` column has **77.5% missing values**. Instead of dropping, we assign **\"Unknown\"** to retain information.\n"
   ]
  },
  {
   "cell_type": "code",
   "execution_count": 290,
   "metadata": {},
   "outputs": [],
   "source": [
    "# Replace missing cabin values with \"Unknown\"\n",
    "data[\"cabin\"] = data[\"cabin\"].fillna(\"Unknown\")\n"
   ]
  },
  {
   "cell_type": "markdown",
   "metadata": {},
   "source": [
    "✅ **Assigned \"Unknown\" category for missing cabins.**\n",
    "- Ensures **no data loss** while keeping useful information.\n",
    "\n",
    "---\n"
   ]
  },
  {
   "cell_type": "markdown",
   "metadata": {},
   "source": [
    "### 📏 Step 3.4: Handling Age - Mean Imputation\n",
    "Age is a **continuous variable** with **20.1% missing values**. We replace missing values with the **mean age**.\n"
   ]
  },
  {
   "cell_type": "code",
   "execution_count": 291,
   "metadata": {},
   "outputs": [],
   "source": [
    "# Calculate mean age and fill missing values\n",
    "mean_age = data[\"age\"].mean()\n",
    "data[\"age\"] = data[\"age\"].fillna(mean_age)"
   ]
  },
  {
   "cell_type": "markdown",
   "metadata": {},
   "source": [
    "✅ **Filled missing Age values with the mean (`~29.88 years`).**\n",
    "- This keeps the **distribution intact** while avoiding bias.\n",
    "\n",
    "---\n"
   ]
  },
  {
   "cell_type": "markdown",
   "metadata": {},
   "source": [
    "### 💰 Step 3.5: Handling Fare - Median Imputation\n",
    "Since only **one fare** is missing, we replace it with the **median** to prevent outliers from skewing the data.\n"
   ]
  },
  {
   "cell_type": "code",
   "execution_count": 292,
   "metadata": {},
   "outputs": [],
   "source": [
    "# Calculate median fare and fill missing values\n",
    "median_fare = data[\"fare\"].median()\n",
    "data[\"fare\"] = data[\"fare\"].fillna(median_fare)\n"
   ]
  },
  {
   "cell_type": "markdown",
   "metadata": {},
   "source": [
    "✅ **Filled missing Fare value with median (`~14.45`).**\n",
    "- Median is **robust to extreme fares**.\n",
    "\n",
    "---\n"
   ]
  },
  {
   "cell_type": "markdown",
   "metadata": {},
   "source": [
    "### 🔍 Step 4: Verifying Data After Handling Missing Values\n",
    "To ensure all missing values have been handled correctly, we re-check the dataset.\n"
   ]
  },
  {
   "cell_type": "code",
   "execution_count": 293,
   "metadata": {},
   "outputs": [
    {
     "name": "stdout",
     "output_type": "stream",
     "text": [
      "✅ No missing values remain in the dataset.\n"
     ]
    }
   ],
   "source": [
    "# Check for any remaining missing values\n",
    "missing_after_cleaning = data.isnull().sum()\n",
    "\n",
    "# Filter only columns with missing values\n",
    "missing_after_cleaning = missing_after_cleaning[missing_after_cleaning > 0]\n",
    "\n",
    "# Display results\n",
    "if missing_after_cleaning.empty:\n",
    "    print(\"✅ No missing values remain in the dataset.\")\n",
    "else:\n",
    "    print(\"⚠️ Columns with remaining missing values:\")\n",
    "    print(missing_after_cleaning)\n"
   ]
  },
  {
   "cell_type": "markdown",
   "metadata": {},
   "source": [
    "## 📌 Task 3: Encoding Categorical Variables\n",
    "\n",
    "Machine learning models typically require **numerical inputs**, so categorical variables must be transformed into numerical representations.  \n",
    "In this step, we:  \n",
    "- **Identify categorical variables** in the dataset.  \n",
    "- **Apply OneHotEncoder** to convert them into numerical form.  \n",
    "- **Discuss the impact** of encoding on model performance.  \n",
    "---\n"
   ]
  },
  {
   "cell_type": "markdown",
   "metadata": {},
   "source": [
    "### 📊 Step 1: Identifying Categorical Variables"
   ]
  },
  {
   "cell_type": "code",
   "execution_count": 294,
   "metadata": {},
   "outputs": [
    {
     "name": "stdout",
     "output_type": "stream",
     "text": [
      "Categorical Variables: ['name', 'sex', 'ticket', 'cabin', 'embarked']\n"
     ]
    }
   ],
   "source": [
    "# Identify categorical variables (excluding dropped columns)\n",
    "categorical_columns = data.select_dtypes(include=[\"object\"]).columns\n",
    "print(\"Categorical Variables:\", list(categorical_columns))\n"
   ]
  },
  {
   "cell_type": "markdown",
   "metadata": {},
   "source": [
    "we are going to stay with sex, cabin and embarked scince ticket (their ticket number) is random and not relevant for the ml training we drop it, but we can extract peoples titles from the Name wich can have a relationship with survival."
   ]
  },
  {
   "cell_type": "code",
   "execution_count": 295,
   "metadata": {},
   "outputs": [],
   "source": [
    "\n",
    "data.drop(columns=['ticket'], inplace=True)"
   ]
  },
  {
   "cell_type": "markdown",
   "metadata": {},
   "source": [
    "### 🛠 Step 2: Choosing the Encoding Method\n",
    "\n",
    "Based on **lecture slides**, furter analysis, google and chatgpt recomendation we decide the following encoding methods, we apply:\n",
    "| Column   | Encoding Method | Justification |\n",
    "|----------|----------------|---------------|\n",
    "| **sex**  | One-Hot Encoding | Binary categorical (0/1), simple transformation. |\n",
    "| **embarked** | One-Hot Encoding | Small number of unique values (`C`, `Q`, `S`). |\n",
    "| **cabin**  | Label Encoding | Too many unique values, better handled as categorical numbers. |\n",
    "| **name/title**  | One-Hot Encoding | Titles provide social status information, impacting survival probability. |\n",
    "| **family_size** | Ordinal Encoding | Family size follows a natural order (Alone < Small < Large), making ordinal encoding suitable. |\n",
    "\n",
    "---\n"
   ]
  },
  {
   "cell_type": "markdown",
   "metadata": {},
   "source": [
    "### Extracting Titles from the \"name\" Column\n",
    "\n",
    "Passenger names in the Titanic dataset contain valuable information in the form of titles (e.g., \"Mr\", \"Mrs\", \"Miss\"). These titles can provide insights into social status and potentially impact survival predictions. \n",
    "\n",
    "#### Steps:\n",
    "1. **Extract the Title:**  \n",
    "   - The names follow a format like `\"Last Name, Title. First Name\"`.  \n",
    "   - We split the name on `\", \"` to isolate the portion containing the title, then split again on `\".\"` to extract the title itself.\n",
    "2. **Display Title Distribution:**  \n",
    "   - We print the value counts of the extracted titles to understand their distribution.\n",
    "3. **Group Rare Titles:**  \n",
    "   - Titles that appear infrequently (such as `\"Lady\"`, `\"Capt\"`, `\"Dr\"`, etc.) are grouped under the category `\"Rare\"` to reduce sparsity.\n",
    "4. **Standardize Similar Titles:**  \n",
    "   - Titles with minor variations (like `\"Mlle\"` and `\"Ms\"`) are standardized to `\"Miss\"`, and `\"Mme\"` is standardized to `\"Mrs\"`.\n",
    "\n",
    "This process adds a new `Title` column to the dataset, allowing the model to leverage social and demographic information that may influence survival.\n"
   ]
  },
  {
   "cell_type": "code",
   "execution_count": 296,
   "metadata": {},
   "outputs": [
    {
     "name": "stdout",
     "output_type": "stream",
     "text": [
      "Title counts before grouping:\n",
      "Title\n",
      "Mr              757\n",
      "Miss            260\n",
      "Mrs             197\n",
      "Master           61\n",
      "Rev               8\n",
      "Dr                8\n",
      "Col               4\n",
      "Mlle              2\n",
      "Ms                2\n",
      "Major             2\n",
      "Capt              1\n",
      "Sir               1\n",
      "Dona              1\n",
      "Jonkheer          1\n",
      "the Countess      1\n",
      "Don               1\n",
      "Mme               1\n",
      "Lady              1\n",
      "Name: count, dtype: int64\n",
      "\n",
      "Title counts after grouping:\n",
      "Title\n",
      "Mr        757\n",
      "Miss      264\n",
      "Mrs       198\n",
      "Master     61\n",
      "Rare       29\n",
      "Name: count, dtype: int64\n"
     ]
    }
   ],
   "source": [
    "# Extract Titles from the \"name\" column\n",
    "# The typical name format is \"Last Name, Title. First Name\", so we split on \", \" and then on \".\"\n",
    "data['Title'] = data['name'].str.split(\", \", expand=True)[1].str.split(\".\", expand=True)[0]\n",
    "\n",
    "# Display the counts for each title to see the distribution\n",
    "print(\"Title counts before grouping:\")\n",
    "print(data['Title'].value_counts())\n",
    "\n",
    "# Group rare titles into a single category 'Rare'\n",
    "data['Title'] = data['Title'].replace(\n",
    "    ['Lady', 'the Countess', 'Capt', 'Col', 'Don', 'Dr', 'Major', 'Rev', 'Sir', 'Jonkheer', 'Dona'],\n",
    "    'Rare'\n",
    ")\n",
    "\n",
    "# Standardize similar titles\n",
    "data['Title'] = data['Title'].replace('Mlle', 'Miss')\n",
    "data['Title'] = data['Title'].replace('Ms', 'Miss')\n",
    "data['Title'] = data['Title'].replace('Mme', 'Mrs')\n",
    "\n",
    "# Drop the 'name' column\n",
    "data.drop(columns=['name'], inplace=True)\n",
    "\n",
    "# Display the updated title counts\n",
    "print(\"\\nTitle counts after grouping:\")\n",
    "print(data['Title'].value_counts())\n"
   ]
  },
  {
   "cell_type": "code",
   "execution_count": 297,
   "metadata": {},
   "outputs": [
    {
     "data": {
      "text/html": [
       "<div>\n",
       "<style scoped>\n",
       "    .dataframe tbody tr th:only-of-type {\n",
       "        vertical-align: middle;\n",
       "    }\n",
       "\n",
       "    .dataframe tbody tr th {\n",
       "        vertical-align: top;\n",
       "    }\n",
       "\n",
       "    .dataframe thead th {\n",
       "        text-align: right;\n",
       "    }\n",
       "</style>\n",
       "<table border=\"1\" class=\"dataframe\">\n",
       "  <thead>\n",
       "    <tr style=\"text-align: right;\">\n",
       "      <th></th>\n",
       "      <th>pclass</th>\n",
       "      <th>survived</th>\n",
       "      <th>sex</th>\n",
       "      <th>age</th>\n",
       "      <th>sibsp</th>\n",
       "      <th>parch</th>\n",
       "      <th>fare</th>\n",
       "      <th>cabin</th>\n",
       "      <th>embarked</th>\n",
       "      <th>Title_Miss</th>\n",
       "      <th>Title_Mr</th>\n",
       "      <th>Title_Mrs</th>\n",
       "      <th>Title_Rare</th>\n",
       "    </tr>\n",
       "  </thead>\n",
       "  <tbody>\n",
       "    <tr>\n",
       "      <th>0</th>\n",
       "      <td>1</td>\n",
       "      <td>1</td>\n",
       "      <td>female</td>\n",
       "      <td>29.0000</td>\n",
       "      <td>0</td>\n",
       "      <td>0</td>\n",
       "      <td>211.3375</td>\n",
       "      <td>B5</td>\n",
       "      <td>S</td>\n",
       "      <td>1.0</td>\n",
       "      <td>0.0</td>\n",
       "      <td>0.0</td>\n",
       "      <td>0.0</td>\n",
       "    </tr>\n",
       "    <tr>\n",
       "      <th>1</th>\n",
       "      <td>1</td>\n",
       "      <td>1</td>\n",
       "      <td>male</td>\n",
       "      <td>0.9167</td>\n",
       "      <td>1</td>\n",
       "      <td>2</td>\n",
       "      <td>151.5500</td>\n",
       "      <td>C22 C26</td>\n",
       "      <td>S</td>\n",
       "      <td>0.0</td>\n",
       "      <td>0.0</td>\n",
       "      <td>0.0</td>\n",
       "      <td>0.0</td>\n",
       "    </tr>\n",
       "    <tr>\n",
       "      <th>2</th>\n",
       "      <td>1</td>\n",
       "      <td>0</td>\n",
       "      <td>female</td>\n",
       "      <td>2.0000</td>\n",
       "      <td>1</td>\n",
       "      <td>2</td>\n",
       "      <td>151.5500</td>\n",
       "      <td>C22 C26</td>\n",
       "      <td>S</td>\n",
       "      <td>1.0</td>\n",
       "      <td>0.0</td>\n",
       "      <td>0.0</td>\n",
       "      <td>0.0</td>\n",
       "    </tr>\n",
       "    <tr>\n",
       "      <th>3</th>\n",
       "      <td>1</td>\n",
       "      <td>0</td>\n",
       "      <td>male</td>\n",
       "      <td>30.0000</td>\n",
       "      <td>1</td>\n",
       "      <td>2</td>\n",
       "      <td>151.5500</td>\n",
       "      <td>C22 C26</td>\n",
       "      <td>S</td>\n",
       "      <td>0.0</td>\n",
       "      <td>1.0</td>\n",
       "      <td>0.0</td>\n",
       "      <td>0.0</td>\n",
       "    </tr>\n",
       "    <tr>\n",
       "      <th>4</th>\n",
       "      <td>1</td>\n",
       "      <td>0</td>\n",
       "      <td>female</td>\n",
       "      <td>25.0000</td>\n",
       "      <td>1</td>\n",
       "      <td>2</td>\n",
       "      <td>151.5500</td>\n",
       "      <td>C22 C26</td>\n",
       "      <td>S</td>\n",
       "      <td>0.0</td>\n",
       "      <td>0.0</td>\n",
       "      <td>1.0</td>\n",
       "      <td>0.0</td>\n",
       "    </tr>\n",
       "  </tbody>\n",
       "</table>\n",
       "</div>"
      ],
      "text/plain": [
       "   pclass  survived     sex      age  sibsp  parch      fare    cabin  \\\n",
       "0       1         1  female  29.0000      0      0  211.3375       B5   \n",
       "1       1         1    male   0.9167      1      2  151.5500  C22 C26   \n",
       "2       1         0  female   2.0000      1      2  151.5500  C22 C26   \n",
       "3       1         0    male  30.0000      1      2  151.5500  C22 C26   \n",
       "4       1         0  female  25.0000      1      2  151.5500  C22 C26   \n",
       "\n",
       "  embarked  Title_Miss  Title_Mr  Title_Mrs  Title_Rare  \n",
       "0        S         1.0       0.0        0.0         0.0  \n",
       "1        S         0.0       0.0        0.0         0.0  \n",
       "2        S         1.0       0.0        0.0         0.0  \n",
       "3        S         0.0       1.0        0.0         0.0  \n",
       "4        S         0.0       0.0        1.0         0.0  "
      ]
     },
     "execution_count": 297,
     "metadata": {},
     "output_type": "execute_result"
    }
   ],
   "source": [
    "# Initialize One-Hot Encoder\n",
    "title_encoder = OneHotEncoder(sparse_output=False, drop=\"first\")  # Drop first category to avoid multicollinearity\n",
    "\n",
    "# Fit and transform Title column\n",
    "title_encoded = title_encoder.fit_transform(data[[\"Title\"]])\n",
    "\n",
    "# Convert to DataFrame\n",
    "title_encoded_df = pd.DataFrame(title_encoded, columns=title_encoder.get_feature_names_out([\"Title\"]))\n",
    "\n",
    "# Merge the new encoded features into the dataset\n",
    "data = data.drop(columns=[\"Title\"]).reset_index(drop=True)\n",
    "data = pd.concat([data, title_encoded_df], axis=1)\n",
    "\n",
    "# Display first few rows to verify encoding\n",
    "data.head()"
   ]
  },
  {
   "cell_type": "markdown",
   "metadata": {},
   "source": [
    "#### 🏠 **Feature Engineering: Family Size**\n",
    "- The dataset contains **`sibsp` (siblings/spouses aboard)** and **`parch` (parents/children aboard)**.\n",
    "- These two features are summed into a **new column**: `family_size`.\n",
    "- A single passenger can travel **alone**, with a **small family** (2-4 members), or with a **large family** (5+ members).\n",
    "- We apply **ordinal encoding** to represent these categories numerically.\n",
    "- **Why?** Family size **may impact survival**, as larger families may have had difficulty staying together."
   ]
  },
  {
   "cell_type": "code",
   "execution_count": 298,
   "metadata": {},
   "outputs": [
    {
     "name": "stdout",
     "output_type": "stream",
     "text": [
      "✅ Created 'family_size' and dropped 'sibsp' & 'parch'.\n",
      "family_size\n",
      "1     790\n",
      "2     235\n",
      "3     159\n",
      "4      43\n",
      "6      25\n",
      "5      22\n",
      "7      16\n",
      "11     11\n",
      "8       8\n",
      "Name: count, dtype: int64\n"
     ]
    }
   ],
   "source": [
    "# Create Family Size feature\n",
    "data[\"family_size\"] = data[\"sibsp\"] + data[\"parch\"] + 1  # +1 to include the passenger\n",
    "\n",
    "# Drop the original 'sibsp' and 'parch' columns\n",
    "# data.drop(columns=[\"sibsp\", \"parch\"], inplace=True)\n",
    "\n",
    "print(\"✅ Created 'family_size' and dropped 'sibsp' & 'parch'.\")\n",
    "print(data[\"family_size\"].value_counts())  # Display counts\n"
   ]
  },
  {
   "cell_type": "code",
   "execution_count": 299,
   "metadata": {},
   "outputs": [
    {
     "name": "stdout",
     "output_type": "stream",
     "text": [
      "✅ Family size categorized successfully.\n",
      "family_size\n",
      "Alone    790\n",
      "Small    437\n",
      "Large     82\n",
      "Name: count, dtype: int64\n"
     ]
    }
   ],
   "source": [
    "# Function to classify family size\n",
    "def categorize_family(size):\n",
    "    if size == 1:\n",
    "        return \"Alone\"\n",
    "    elif 2 <= size <= 4:\n",
    "        return \"Small\"\n",
    "    else:\n",
    "        return \"Large\"\n",
    "\n",
    "# Apply function to create categorical labels\n",
    "data[\"family_size\"] = data[\"family_size\"].apply(categorize_family)\n",
    "\n",
    "print(\"✅ Family size categorized successfully.\")\n",
    "print(data[\"family_size\"].value_counts())  # Display category counts\n"
   ]
  },
  {
   "cell_type": "code",
   "execution_count": 300,
   "metadata": {},
   "outputs": [
    {
     "name": "stdout",
     "output_type": "stream",
     "text": [
      "✅ Ordinal Encoding applied successfully.\n",
      "family_size\n",
      "0.0    790\n",
      "1.0    437\n",
      "2.0     82\n",
      "Name: count, dtype: int64\n"
     ]
    }
   ],
   "source": [
    "# Define category order\n",
    "family_order = [[\"Alone\", \"Small\", \"Large\"]]\n",
    "\n",
    "# Initialize and apply Ordinal Encoder\n",
    "ordinal_encoder = OrdinalEncoder(categories=family_order)\n",
    "data[\"family_size\"] = ordinal_encoder.fit_transform(data[[\"family_size\"]])\n",
    "\n",
    "print(\"✅ Ordinal Encoding applied successfully.\")\n",
    "print(data[\"family_size\"].value_counts())  # Display encoded values\n"
   ]
  },
  {
   "cell_type": "code",
   "execution_count": 301,
   "metadata": {},
   "outputs": [],
   "source": [
    "# Drop the 'family_size' column\n",
    "data.drop(columns=[\"family_size\"], inplace=True)"
   ]
  },
  {
   "cell_type": "markdown",
   "metadata": {},
   "source": [
    "#### 🚫 Family Size Encoding Analysis & Decision  \n",
    "\n",
    "Initially, we **engineered a new feature** called `family_size` by summing `sibsp` (siblings/spouses) and `parch` (parents/children) and classifying passengers as **Alone, Small, or Large families** using **Ordinal Encoding**.\n",
    "\n",
    "🔎 **Issue Identified:**  \n",
    "- After testing, **model accuracy decreased** instead of improving.  \n",
    "- This suggests that **sibsp** and **parch** independently provide more useful information for predicting survival than `family_size`.  \n",
    "- Possible reason: **Detailed family relationships (siblings, parents, etc.) matter more than a simplified classification.**\n",
    "\n",
    "💡 **Final Decision:**  \n",
    "We **removed family_size** and **kept `sibsp` and `parch` as separate features**, as they provided better predictive power.\n",
    "\n",
    "\n",
    "\n",
    "\n",
    "\n",
    "\n",
    "\n",
    "\n"
   ]
  },
  {
   "cell_type": "markdown",
   "metadata": {},
   "source": [
    "### 🎭 Step 3.1: One-Hot Encoding for \"sex\" and \"embarked\"\n",
    "\n",
    "Since \"sex\" and \"embarked\" have **a small number of categories**, One-Hot Encoding converts them into **binary columns**.\n"
   ]
  },
  {
   "cell_type": "code",
   "execution_count": 302,
   "metadata": {},
   "outputs": [],
   "source": [
    "# Select columns for One-Hot Encoding\n",
    "one_hot_columns = [\"sex\", \"embarked\"]\n",
    "encoder = OneHotEncoder(sparse_output=False, drop=\"first\")  # Avoids multicollinearity\n",
    "\n",
    "# Fit and transform data\n",
    "encoded_features = encoder.fit_transform(data[one_hot_columns])\n",
    "\n",
    "# Convert to DataFrame with meaningful column names\n",
    "encoded_df = pd.DataFrame(encoded_features, columns=encoder.get_feature_names_out(one_hot_columns))\n",
    "\n",
    "# Drop original categorical columns and merge encoded features\n",
    "data = data.drop(columns=one_hot_columns).reset_index(drop=True)\n",
    "data = pd.concat([data, encoded_df], axis=1)"
   ]
  },
  {
   "cell_type": "code",
   "execution_count": 303,
   "metadata": {},
   "outputs": [
    {
     "data": {
      "text/html": [
       "<div>\n",
       "<style scoped>\n",
       "    .dataframe tbody tr th:only-of-type {\n",
       "        vertical-align: middle;\n",
       "    }\n",
       "\n",
       "    .dataframe tbody tr th {\n",
       "        vertical-align: top;\n",
       "    }\n",
       "\n",
       "    .dataframe thead th {\n",
       "        text-align: right;\n",
       "    }\n",
       "</style>\n",
       "<table border=\"1\" class=\"dataframe\">\n",
       "  <thead>\n",
       "    <tr style=\"text-align: right;\">\n",
       "      <th></th>\n",
       "      <th>pclass</th>\n",
       "      <th>survived</th>\n",
       "      <th>age</th>\n",
       "      <th>sibsp</th>\n",
       "      <th>parch</th>\n",
       "      <th>fare</th>\n",
       "      <th>cabin</th>\n",
       "      <th>Title_Miss</th>\n",
       "      <th>Title_Mr</th>\n",
       "      <th>Title_Mrs</th>\n",
       "      <th>Title_Rare</th>\n",
       "      <th>sex_male</th>\n",
       "      <th>embarked_Q</th>\n",
       "      <th>embarked_S</th>\n",
       "    </tr>\n",
       "  </thead>\n",
       "  <tbody>\n",
       "    <tr>\n",
       "      <th>0</th>\n",
       "      <td>1</td>\n",
       "      <td>1</td>\n",
       "      <td>29.0000</td>\n",
       "      <td>0</td>\n",
       "      <td>0</td>\n",
       "      <td>211.3375</td>\n",
       "      <td>B5</td>\n",
       "      <td>1.0</td>\n",
       "      <td>0.0</td>\n",
       "      <td>0.0</td>\n",
       "      <td>0.0</td>\n",
       "      <td>0.0</td>\n",
       "      <td>0.0</td>\n",
       "      <td>1.0</td>\n",
       "    </tr>\n",
       "    <tr>\n",
       "      <th>1</th>\n",
       "      <td>1</td>\n",
       "      <td>1</td>\n",
       "      <td>0.9167</td>\n",
       "      <td>1</td>\n",
       "      <td>2</td>\n",
       "      <td>151.5500</td>\n",
       "      <td>C22 C26</td>\n",
       "      <td>0.0</td>\n",
       "      <td>0.0</td>\n",
       "      <td>0.0</td>\n",
       "      <td>0.0</td>\n",
       "      <td>1.0</td>\n",
       "      <td>0.0</td>\n",
       "      <td>1.0</td>\n",
       "    </tr>\n",
       "    <tr>\n",
       "      <th>2</th>\n",
       "      <td>1</td>\n",
       "      <td>0</td>\n",
       "      <td>2.0000</td>\n",
       "      <td>1</td>\n",
       "      <td>2</td>\n",
       "      <td>151.5500</td>\n",
       "      <td>C22 C26</td>\n",
       "      <td>1.0</td>\n",
       "      <td>0.0</td>\n",
       "      <td>0.0</td>\n",
       "      <td>0.0</td>\n",
       "      <td>0.0</td>\n",
       "      <td>0.0</td>\n",
       "      <td>1.0</td>\n",
       "    </tr>\n",
       "    <tr>\n",
       "      <th>3</th>\n",
       "      <td>1</td>\n",
       "      <td>0</td>\n",
       "      <td>30.0000</td>\n",
       "      <td>1</td>\n",
       "      <td>2</td>\n",
       "      <td>151.5500</td>\n",
       "      <td>C22 C26</td>\n",
       "      <td>0.0</td>\n",
       "      <td>1.0</td>\n",
       "      <td>0.0</td>\n",
       "      <td>0.0</td>\n",
       "      <td>1.0</td>\n",
       "      <td>0.0</td>\n",
       "      <td>1.0</td>\n",
       "    </tr>\n",
       "    <tr>\n",
       "      <th>4</th>\n",
       "      <td>1</td>\n",
       "      <td>0</td>\n",
       "      <td>25.0000</td>\n",
       "      <td>1</td>\n",
       "      <td>2</td>\n",
       "      <td>151.5500</td>\n",
       "      <td>C22 C26</td>\n",
       "      <td>0.0</td>\n",
       "      <td>0.0</td>\n",
       "      <td>1.0</td>\n",
       "      <td>0.0</td>\n",
       "      <td>0.0</td>\n",
       "      <td>0.0</td>\n",
       "      <td>1.0</td>\n",
       "    </tr>\n",
       "  </tbody>\n",
       "</table>\n",
       "</div>"
      ],
      "text/plain": [
       "   pclass  survived      age  sibsp  parch      fare    cabin  Title_Miss  \\\n",
       "0       1         1  29.0000      0      0  211.3375       B5         1.0   \n",
       "1       1         1   0.9167      1      2  151.5500  C22 C26         0.0   \n",
       "2       1         0   2.0000      1      2  151.5500  C22 C26         1.0   \n",
       "3       1         0  30.0000      1      2  151.5500  C22 C26         0.0   \n",
       "4       1         0  25.0000      1      2  151.5500  C22 C26         0.0   \n",
       "\n",
       "   Title_Mr  Title_Mrs  Title_Rare  sex_male  embarked_Q  embarked_S  \n",
       "0       0.0        0.0         0.0       0.0         0.0         1.0  \n",
       "1       0.0        0.0         0.0       1.0         0.0         1.0  \n",
       "2       0.0        0.0         0.0       0.0         0.0         1.0  \n",
       "3       1.0        0.0         0.0       1.0         0.0         1.0  \n",
       "4       0.0        1.0         0.0       0.0         0.0         1.0  "
      ]
     },
     "execution_count": 303,
     "metadata": {},
     "output_type": "execute_result"
    }
   ],
   "source": [
    "data.head()"
   ]
  },
  {
   "cell_type": "markdown",
   "metadata": {},
   "source": [
    "✅ **Applied One-Hot Encoding**\n",
    "- Converted **\"sex\"** to `sex_male` (0 = female, 1 = male).\n",
    "- Converted **\"embarked\"** into binary columns (`embarked_Q`, `embarked_S`).\n"
   ]
  },
  {
   "cell_type": "markdown",
   "metadata": {},
   "source": [
    "### 🏠 Step 3.2: Label Encoding for \"Cabin\"\n",
    "\n",
    "Since **Cabin has many unique values**, we assign a **numerical category** to each unique cabin ID. Instead of using full cabin numbers, we extract only the first letter since it represents the deck level. This provides a more structured categorical feature with fewer unique values.\n"
   ]
  },
  {
   "cell_type": "code",
   "execution_count": 304,
   "metadata": {},
   "outputs": [
    {
     "name": "stdout",
     "output_type": "stream",
     "text": [
      "✅ Cabin column successfully encoded using deck letters.\n",
      "0    1\n",
      "1    2\n",
      "2    2\n",
      "3    2\n",
      "4    2\n",
      "Name: cabin, dtype: int32\n"
     ]
    }
   ],
   "source": [
    "# Extract the first letter of the cabin (deck level)\n",
    "data[\"cabin\"] = data[\"cabin\"].astype(str).str[0]\n",
    "\n",
    "# Initialize Label Encoder\n",
    "label_encoder = LabelEncoder()\n",
    "\n",
    "# Fit and transform the extracted deck letter\n",
    "data[\"cabin\"] = label_encoder.fit_transform(data[\"cabin\"])\n",
    "\n",
    "print(\"✅ Cabin column successfully encoded using deck letters.\")\n",
    "print(data[\"cabin\"].head(5))  # Display first few encoded values\n",
    "\n"
   ]
  },
  {
   "cell_type": "code",
   "execution_count": 305,
   "metadata": {},
   "outputs": [
    {
     "data": {
      "text/html": [
       "<div>\n",
       "<style scoped>\n",
       "    .dataframe tbody tr th:only-of-type {\n",
       "        vertical-align: middle;\n",
       "    }\n",
       "\n",
       "    .dataframe tbody tr th {\n",
       "        vertical-align: top;\n",
       "    }\n",
       "\n",
       "    .dataframe thead th {\n",
       "        text-align: right;\n",
       "    }\n",
       "</style>\n",
       "<table border=\"1\" class=\"dataframe\">\n",
       "  <thead>\n",
       "    <tr style=\"text-align: right;\">\n",
       "      <th></th>\n",
       "      <th>pclass</th>\n",
       "      <th>survived</th>\n",
       "      <th>age</th>\n",
       "      <th>sibsp</th>\n",
       "      <th>parch</th>\n",
       "      <th>fare</th>\n",
       "      <th>cabin</th>\n",
       "      <th>Title_Miss</th>\n",
       "      <th>Title_Mr</th>\n",
       "      <th>Title_Mrs</th>\n",
       "      <th>Title_Rare</th>\n",
       "      <th>sex_male</th>\n",
       "      <th>embarked_Q</th>\n",
       "      <th>embarked_S</th>\n",
       "    </tr>\n",
       "  </thead>\n",
       "  <tbody>\n",
       "    <tr>\n",
       "      <th>0</th>\n",
       "      <td>1</td>\n",
       "      <td>1</td>\n",
       "      <td>29.0000</td>\n",
       "      <td>0</td>\n",
       "      <td>0</td>\n",
       "      <td>211.3375</td>\n",
       "      <td>1</td>\n",
       "      <td>1.0</td>\n",
       "      <td>0.0</td>\n",
       "      <td>0.0</td>\n",
       "      <td>0.0</td>\n",
       "      <td>0.0</td>\n",
       "      <td>0.0</td>\n",
       "      <td>1.0</td>\n",
       "    </tr>\n",
       "    <tr>\n",
       "      <th>1</th>\n",
       "      <td>1</td>\n",
       "      <td>1</td>\n",
       "      <td>0.9167</td>\n",
       "      <td>1</td>\n",
       "      <td>2</td>\n",
       "      <td>151.5500</td>\n",
       "      <td>2</td>\n",
       "      <td>0.0</td>\n",
       "      <td>0.0</td>\n",
       "      <td>0.0</td>\n",
       "      <td>0.0</td>\n",
       "      <td>1.0</td>\n",
       "      <td>0.0</td>\n",
       "      <td>1.0</td>\n",
       "    </tr>\n",
       "    <tr>\n",
       "      <th>2</th>\n",
       "      <td>1</td>\n",
       "      <td>0</td>\n",
       "      <td>2.0000</td>\n",
       "      <td>1</td>\n",
       "      <td>2</td>\n",
       "      <td>151.5500</td>\n",
       "      <td>2</td>\n",
       "      <td>1.0</td>\n",
       "      <td>0.0</td>\n",
       "      <td>0.0</td>\n",
       "      <td>0.0</td>\n",
       "      <td>0.0</td>\n",
       "      <td>0.0</td>\n",
       "      <td>1.0</td>\n",
       "    </tr>\n",
       "    <tr>\n",
       "      <th>3</th>\n",
       "      <td>1</td>\n",
       "      <td>0</td>\n",
       "      <td>30.0000</td>\n",
       "      <td>1</td>\n",
       "      <td>2</td>\n",
       "      <td>151.5500</td>\n",
       "      <td>2</td>\n",
       "      <td>0.0</td>\n",
       "      <td>1.0</td>\n",
       "      <td>0.0</td>\n",
       "      <td>0.0</td>\n",
       "      <td>1.0</td>\n",
       "      <td>0.0</td>\n",
       "      <td>1.0</td>\n",
       "    </tr>\n",
       "    <tr>\n",
       "      <th>4</th>\n",
       "      <td>1</td>\n",
       "      <td>0</td>\n",
       "      <td>25.0000</td>\n",
       "      <td>1</td>\n",
       "      <td>2</td>\n",
       "      <td>151.5500</td>\n",
       "      <td>2</td>\n",
       "      <td>0.0</td>\n",
       "      <td>0.0</td>\n",
       "      <td>1.0</td>\n",
       "      <td>0.0</td>\n",
       "      <td>0.0</td>\n",
       "      <td>0.0</td>\n",
       "      <td>1.0</td>\n",
       "    </tr>\n",
       "  </tbody>\n",
       "</table>\n",
       "</div>"
      ],
      "text/plain": [
       "   pclass  survived      age  sibsp  parch      fare  cabin  Title_Miss  \\\n",
       "0       1         1  29.0000      0      0  211.3375      1         1.0   \n",
       "1       1         1   0.9167      1      2  151.5500      2         0.0   \n",
       "2       1         0   2.0000      1      2  151.5500      2         1.0   \n",
       "3       1         0  30.0000      1      2  151.5500      2         0.0   \n",
       "4       1         0  25.0000      1      2  151.5500      2         0.0   \n",
       "\n",
       "   Title_Mr  Title_Mrs  Title_Rare  sex_male  embarked_Q  embarked_S  \n",
       "0       0.0        0.0         0.0       0.0         0.0         1.0  \n",
       "1       0.0        0.0         0.0       1.0         0.0         1.0  \n",
       "2       0.0        0.0         0.0       0.0         0.0         1.0  \n",
       "3       1.0        0.0         0.0       1.0         0.0         1.0  \n",
       "4       0.0        1.0         0.0       0.0         0.0         1.0  "
      ]
     },
     "execution_count": 305,
     "metadata": {},
     "output_type": "execute_result"
    }
   ],
   "source": [
    "data.head()"
   ]
  },
  {
   "cell_type": "markdown",
   "metadata": {},
   "source": [
    "✅ **Applied Label Encoding**\n",
    "- Each `cabin` is now represented by a **unique number**.\n",
    "- Helps models **interpret cabin information** while reducing dimensionality.\n"
   ]
  },
  {
   "cell_type": "markdown",
   "metadata": {},
   "source": [
    "### 🔍 Step 4: Verifying Encoded Data\n",
    "\n",
    "After encoding, we check that:\n",
    "1. **Original categorical columns are removed**.\n",
    "2. **Newly encoded numerical features exist**.\n"
   ]
  },
  {
   "cell_type": "code",
   "execution_count": 306,
   "metadata": {},
   "outputs": [
    {
     "name": "stdout",
     "output_type": "stream",
     "text": [
      "Final Dataset Columns:\n",
      "Index(['pclass', 'survived', 'age', 'sibsp', 'parch', 'fare', 'cabin',\n",
      "       'Title_Miss', 'Title_Mr', 'Title_Mrs', 'Title_Rare', 'sex_male',\n",
      "       'embarked_Q', 'embarked_S'],\n",
      "      dtype='object')\n"
     ]
    }
   ],
   "source": [
    "print(\"Final Dataset Columns:\")\n",
    "print(data.columns)\n"
   ]
  },
  {
   "cell_type": "markdown",
   "metadata": {},
   "source": [
    "| Column   | Encoding Method | Justification |\n",
    "|----------|----------------|---------------|\n",
    "| **sex**  | One-Hot Encoding | Binary categorical (0/1), simple transformation. |\n",
    "| **embarked** | One-Hot Encoding | Small number of unique values (`C`, `Q`, `S`). |\n",
    "| **cabin**  | Label Encoding | Too many unique values, better handled as categorical numbers. |\n",
    "\n",
    "🚀 **Outcome:**\n",
    "- **No categorical variables remain.**\n",
    "- **Dataset is now fully numerical and ready for ML modeling!**  \n"
   ]
  },
  {
   "cell_type": "code",
   "execution_count": 307,
   "metadata": {},
   "outputs": [
    {
     "data": {
      "text/html": [
       "<div>\n",
       "<style scoped>\n",
       "    .dataframe tbody tr th:only-of-type {\n",
       "        vertical-align: middle;\n",
       "    }\n",
       "\n",
       "    .dataframe tbody tr th {\n",
       "        vertical-align: top;\n",
       "    }\n",
       "\n",
       "    .dataframe thead th {\n",
       "        text-align: right;\n",
       "    }\n",
       "</style>\n",
       "<table border=\"1\" class=\"dataframe\">\n",
       "  <thead>\n",
       "    <tr style=\"text-align: right;\">\n",
       "      <th></th>\n",
       "      <th>pclass</th>\n",
       "      <th>survived</th>\n",
       "      <th>age</th>\n",
       "      <th>sibsp</th>\n",
       "      <th>parch</th>\n",
       "      <th>fare</th>\n",
       "      <th>cabin</th>\n",
       "      <th>Title_Miss</th>\n",
       "      <th>Title_Mr</th>\n",
       "      <th>Title_Mrs</th>\n",
       "      <th>Title_Rare</th>\n",
       "      <th>sex_male</th>\n",
       "      <th>embarked_Q</th>\n",
       "      <th>embarked_S</th>\n",
       "    </tr>\n",
       "  </thead>\n",
       "  <tbody>\n",
       "    <tr>\n",
       "      <th>0</th>\n",
       "      <td>1</td>\n",
       "      <td>1</td>\n",
       "      <td>29.0000</td>\n",
       "      <td>0</td>\n",
       "      <td>0</td>\n",
       "      <td>211.3375</td>\n",
       "      <td>1</td>\n",
       "      <td>1.0</td>\n",
       "      <td>0.0</td>\n",
       "      <td>0.0</td>\n",
       "      <td>0.0</td>\n",
       "      <td>0.0</td>\n",
       "      <td>0.0</td>\n",
       "      <td>1.0</td>\n",
       "    </tr>\n",
       "    <tr>\n",
       "      <th>1</th>\n",
       "      <td>1</td>\n",
       "      <td>1</td>\n",
       "      <td>0.9167</td>\n",
       "      <td>1</td>\n",
       "      <td>2</td>\n",
       "      <td>151.5500</td>\n",
       "      <td>2</td>\n",
       "      <td>0.0</td>\n",
       "      <td>0.0</td>\n",
       "      <td>0.0</td>\n",
       "      <td>0.0</td>\n",
       "      <td>1.0</td>\n",
       "      <td>0.0</td>\n",
       "      <td>1.0</td>\n",
       "    </tr>\n",
       "    <tr>\n",
       "      <th>2</th>\n",
       "      <td>1</td>\n",
       "      <td>0</td>\n",
       "      <td>2.0000</td>\n",
       "      <td>1</td>\n",
       "      <td>2</td>\n",
       "      <td>151.5500</td>\n",
       "      <td>2</td>\n",
       "      <td>1.0</td>\n",
       "      <td>0.0</td>\n",
       "      <td>0.0</td>\n",
       "      <td>0.0</td>\n",
       "      <td>0.0</td>\n",
       "      <td>0.0</td>\n",
       "      <td>1.0</td>\n",
       "    </tr>\n",
       "    <tr>\n",
       "      <th>3</th>\n",
       "      <td>1</td>\n",
       "      <td>0</td>\n",
       "      <td>30.0000</td>\n",
       "      <td>1</td>\n",
       "      <td>2</td>\n",
       "      <td>151.5500</td>\n",
       "      <td>2</td>\n",
       "      <td>0.0</td>\n",
       "      <td>1.0</td>\n",
       "      <td>0.0</td>\n",
       "      <td>0.0</td>\n",
       "      <td>1.0</td>\n",
       "      <td>0.0</td>\n",
       "      <td>1.0</td>\n",
       "    </tr>\n",
       "    <tr>\n",
       "      <th>4</th>\n",
       "      <td>1</td>\n",
       "      <td>0</td>\n",
       "      <td>25.0000</td>\n",
       "      <td>1</td>\n",
       "      <td>2</td>\n",
       "      <td>151.5500</td>\n",
       "      <td>2</td>\n",
       "      <td>0.0</td>\n",
       "      <td>0.0</td>\n",
       "      <td>1.0</td>\n",
       "      <td>0.0</td>\n",
       "      <td>0.0</td>\n",
       "      <td>0.0</td>\n",
       "      <td>1.0</td>\n",
       "    </tr>\n",
       "  </tbody>\n",
       "</table>\n",
       "</div>"
      ],
      "text/plain": [
       "   pclass  survived      age  sibsp  parch      fare  cabin  Title_Miss  \\\n",
       "0       1         1  29.0000      0      0  211.3375      1         1.0   \n",
       "1       1         1   0.9167      1      2  151.5500      2         0.0   \n",
       "2       1         0   2.0000      1      2  151.5500      2         1.0   \n",
       "3       1         0  30.0000      1      2  151.5500      2         0.0   \n",
       "4       1         0  25.0000      1      2  151.5500      2         0.0   \n",
       "\n",
       "   Title_Mr  Title_Mrs  Title_Rare  sex_male  embarked_Q  embarked_S  \n",
       "0       0.0        0.0         0.0       0.0         0.0         1.0  \n",
       "1       0.0        0.0         0.0       1.0         0.0         1.0  \n",
       "2       0.0        0.0         0.0       0.0         0.0         1.0  \n",
       "3       1.0        0.0         0.0       1.0         0.0         1.0  \n",
       "4       0.0        1.0         0.0       0.0         0.0         1.0  "
      ]
     },
     "execution_count": 307,
     "metadata": {},
     "output_type": "execute_result"
    }
   ],
   "source": [
    "data.head()"
   ]
  },
  {
   "cell_type": "markdown",
   "metadata": {},
   "source": [
    "## 📌 Task 4: Feature Scaling\n",
    "\n",
    "Feature scaling is crucial for ensuring that **all numerical features have a similar range**, preventing any one feature from **dominating the model**.  \n",
    "\n",
    "- **Standardize numerical variables** using **StandardScaler**.\n",
    "- **Normalize numerical variables** using **MinMaxScaler**.\n",
    "- **Compare Standardization and Normalization** and their impact on machine learning models.\n",
    "\n",
    "\n",
    "---\n"
   ]
  },
  {
   "cell_type": "markdown",
   "metadata": {},
   "source": [
    "### 📏 Step 1: Applying Standardization\n",
    "\n",
    "#### **What is Standardization?**\n",
    "- Rescales features **to have a mean of 0** and **standard deviation of 1**.\n",
    "- Works well with **normally distributed data**.\n",
    "- Formula:\n",
    "$$\n",
    "[ X_{\\text{scaled}} = \\frac{X - \\mu}{\\sigma} ]\n",
    "$$\n",
    "\n"
   ]
  },
  {
   "cell_type": "code",
   "execution_count": 308,
   "metadata": {},
   "outputs": [
    {
     "name": "stdout",
     "output_type": "stream",
     "text": [
      "Numerical Variables: ['pclass', 'survived', 'age', 'sibsp', 'parch', 'fare', 'cabin', 'Title_Miss', 'Title_Mr', 'Title_Mrs', 'Title_Rare', 'sex_male', 'embarked_Q', 'embarked_S']\n"
     ]
    }
   ],
   "source": [
    "# Identify all numerical columns\n",
    "numerical_columns = data.columns  # All remaining columns are now numerical\n",
    "print(\"Numerical Variables:\", list(numerical_columns))"
   ]
  },
  {
   "cell_type": "code",
   "execution_count": 309,
   "metadata": {},
   "outputs": [],
   "source": [
    "# Initialize StandardScaler\n",
    "scaler = StandardScaler()\n",
    "\n",
    "# Apply standardization to numerical columns\n",
    "data_standardized = data.copy()\n",
    "data_standardized[numerical_columns] = scaler.fit_transform(data[numerical_columns])\n"
   ]
  },
  {
   "cell_type": "markdown",
   "metadata": {},
   "source": [
    "✅ **Applied Standardization**\n",
    "- All numerical features now have **mean = 0, standard deviation = 1**.\n",
    "- Helps in **gradient-based algorithms (e.g., logistic regression, neural networks)**.\n",
    "\n",
    "---\n"
   ]
  },
  {
   "cell_type": "markdown",
   "metadata": {},
   "source": [
    "### 📊 Step 2: Applying Normalization\n",
    "\n",
    "#### **What is Normalization?**\n",
    "- Rescales features **to a fixed range [0,1]**.\n",
    "- Works well with **uniformly distributed data**.\n",
    "- Formula:\n",
    "\n",
    "$$\n",
    "  [\n",
    "  X_{\\text{normalized}} = \\frac{X - X_{\\min}}{X_{\\max} - X_{\\min}}\n",
    "  ]\n",
    "$$\n"
   ]
  },
  {
   "cell_type": "code",
   "execution_count": 310,
   "metadata": {},
   "outputs": [],
   "source": [
    "# Initialize MinMaxScaler\n",
    "minmax_scaler = MinMaxScaler()\n",
    "\n",
    "# Apply normalization to numerical columns\n",
    "data_normalized = data.copy()\n",
    "data_normalized[numerical_columns] = minmax_scaler.fit_transform(data[numerical_columns])"
   ]
  },
  {
   "cell_type": "markdown",
   "metadata": {},
   "source": [
    "✅ **Applied Normalization**\n",
    "- All numerical features are **scaled between 0 and 1**.\n",
    "- Useful for models **sensitive to feature magnitude**\n",
    "\n",
    "---\n"
   ]
  },
  {
   "cell_type": "markdown",
   "metadata": {},
   "source": [
    "### 📊 Step 3: Comparing Scaling Methods\n",
    "\n",
    "#### **Standardization vs. Normalization: When to Use?**\n",
    "| Method            | Best for... | \n",
    "|------------------|------------|\n",
    "| **Standardization (Z-score)** | Normally distributed data | \n",
    "| **Normalization (Min-Max)** | Uniformly distributed data |\n",
    "\n",
    "#### 🚀 **Which one to use?**\n",
    "- **If unsure, try both** and evaluate model performance.\n",
    "- Some ML models (e.g., **logistic regression, neural networks**) work better with **standardized data**.\n",
    "- Other models (e.g., **k-NN, SVM**) perform well with **normalized data**.\n",
    "\n",
    "---\n"
   ]
  },
  {
   "cell_type": "markdown",
   "metadata": {},
   "source": [
    "### 🔍 Step 4: Visualizing the Effect of Scaling\n",
    "\n",
    "To understand the transformation, we **plot original vs. scaled distributions**.\n"
   ]
  },
  {
   "cell_type": "code",
   "execution_count": 311,
   "metadata": {},
   "outputs": [
    {
     "data": {
      "image/png": "[encoded data removed]",
      "text/plain": [
       "<Figure size 1800x500 with 3 Axes>"
      ]
     },
     "metadata": {},
     "output_type": "display_data"
    }
   ],
   "source": [
    "# Plot original vs. standardized vs. normalized features\n",
    "fig, axes = plt.subplots(1, 3, figsize=(18, 5))\n",
    "\n",
    "# Original Fare Distribution\n",
    "sns.histplot(data[\"fare\"], bins=30, kde=True, ax=axes[0], color=\"blue\")\n",
    "axes[0].set_title(\"Original Fare Distribution\")\n",
    "\n",
    "# Standardized Fare Distribution\n",
    "sns.histplot(data_standardized[\"fare\"], bins=30, kde=True, ax=axes[1], color=\"red\")\n",
    "axes[1].set_title(\"Standardized Fare Distribution\")\n",
    "\n",
    "# Normalized Fare Distribution\n",
    "sns.histplot(data_normalized[\"fare\"], bins=30, kde=True, ax=axes[2], color=\"green\")\n",
    "axes[2].set_title(\"Normalized Fare Distribution\")\n",
    "\n",
    "plt.show()\n"
   ]
  },
  {
   "cell_type": "markdown",
   "metadata": {},
   "source": [
    "✅ **Final Check**\n",
    "- **No change in feature distribution**, only rescaled.\n",
    "- Dataset is now **fully prepared for model training!** 🚀\n",
    "- For our model we are going to stay with the standarized data"
   ]
  },
  {
   "cell_type": "markdown",
   "metadata": {},
   "source": [
    "### 📌 Why Standardization for Logistic Regression?\n",
    "\n",
    "Logistic Regression performs better when features are on a similar scale. Standardization ensures all numerical variables have a mean of 0 and a standard deviation of 1.  \n",
    "\n",
    "#### **Reasons for Choosing Standardization**  \n",
    "\n",
    "- **Logistic Regression Assumes Normally Distributed Features**  \n",
    "  Standardization transforms data to be centered around zero, reducing the impact of different feature scales. Without standardization, features with larger values could dominate the model.  \n",
    "\n",
    "- **Improves Gradient-Based Optimization**  \n",
    "  Logistic Regression relies on optimization algorithms such as Gradient Descent, which work better when feature values are on a consistent scale. Standardization ensures faster convergence and prevents unstable weight updates.  \n",
    "\n",
    "- **Prevents Numerical Instability**  \n",
    "  Large differences in feature magnitudes can cause computational errors. Standardization avoids this issue by keeping all features within a controlled range, improving model reliability.  \n",
    "\n",
    "By applying standardization, the dataset is properly scaled for Logistic Regression, ensuring better performance and model stability.  \n"
   ]
  },
  {
   "cell_type": "code",
   "execution_count": 312,
   "metadata": {},
   "outputs": [
    {
     "data": {
      "text/html": [
       "<div>\n",
       "<style scoped>\n",
       "    .dataframe tbody tr th:only-of-type {\n",
       "        vertical-align: middle;\n",
       "    }\n",
       "\n",
       "    .dataframe tbody tr th {\n",
       "        vertical-align: top;\n",
       "    }\n",
       "\n",
       "    .dataframe thead th {\n",
       "        text-align: right;\n",
       "    }\n",
       "</style>\n",
       "<table border=\"1\" class=\"dataframe\">\n",
       "  <thead>\n",
       "    <tr style=\"text-align: right;\">\n",
       "      <th></th>\n",
       "      <th>pclass</th>\n",
       "      <th>survived</th>\n",
       "      <th>age</th>\n",
       "      <th>sibsp</th>\n",
       "      <th>parch</th>\n",
       "      <th>fare</th>\n",
       "      <th>cabin</th>\n",
       "      <th>Title_Miss</th>\n",
       "      <th>Title_Mr</th>\n",
       "      <th>Title_Mrs</th>\n",
       "      <th>Title_Rare</th>\n",
       "      <th>sex_male</th>\n",
       "      <th>embarked_Q</th>\n",
       "      <th>embarked_S</th>\n",
       "    </tr>\n",
       "  </thead>\n",
       "  <tbody>\n",
       "    <tr>\n",
       "      <th>0</th>\n",
       "      <td>0.0</td>\n",
       "      <td>1.0</td>\n",
       "      <td>0.361169</td>\n",
       "      <td>0.000</td>\n",
       "      <td>0.000000</td>\n",
       "      <td>0.412503</td>\n",
       "      <td>0.125</td>\n",
       "      <td>1.0</td>\n",
       "      <td>0.0</td>\n",
       "      <td>0.0</td>\n",
       "      <td>0.0</td>\n",
       "      <td>0.0</td>\n",
       "      <td>0.0</td>\n",
       "      <td>1.0</td>\n",
       "    </tr>\n",
       "    <tr>\n",
       "      <th>1</th>\n",
       "      <td>0.0</td>\n",
       "      <td>1.0</td>\n",
       "      <td>0.009395</td>\n",
       "      <td>0.125</td>\n",
       "      <td>0.222222</td>\n",
       "      <td>0.295806</td>\n",
       "      <td>0.250</td>\n",
       "      <td>0.0</td>\n",
       "      <td>0.0</td>\n",
       "      <td>0.0</td>\n",
       "      <td>0.0</td>\n",
       "      <td>1.0</td>\n",
       "      <td>0.0</td>\n",
       "      <td>1.0</td>\n",
       "    </tr>\n",
       "    <tr>\n",
       "      <th>2</th>\n",
       "      <td>0.0</td>\n",
       "      <td>0.0</td>\n",
       "      <td>0.022964</td>\n",
       "      <td>0.125</td>\n",
       "      <td>0.222222</td>\n",
       "      <td>0.295806</td>\n",
       "      <td>0.250</td>\n",
       "      <td>1.0</td>\n",
       "      <td>0.0</td>\n",
       "      <td>0.0</td>\n",
       "      <td>0.0</td>\n",
       "      <td>0.0</td>\n",
       "      <td>0.0</td>\n",
       "      <td>1.0</td>\n",
       "    </tr>\n",
       "    <tr>\n",
       "      <th>3</th>\n",
       "      <td>0.0</td>\n",
       "      <td>0.0</td>\n",
       "      <td>0.373695</td>\n",
       "      <td>0.125</td>\n",
       "      <td>0.222222</td>\n",
       "      <td>0.295806</td>\n",
       "      <td>0.250</td>\n",
       "      <td>0.0</td>\n",
       "      <td>1.0</td>\n",
       "      <td>0.0</td>\n",
       "      <td>0.0</td>\n",
       "      <td>1.0</td>\n",
       "      <td>0.0</td>\n",
       "      <td>1.0</td>\n",
       "    </tr>\n",
       "    <tr>\n",
       "      <th>4</th>\n",
       "      <td>0.0</td>\n",
       "      <td>0.0</td>\n",
       "      <td>0.311064</td>\n",
       "      <td>0.125</td>\n",
       "      <td>0.222222</td>\n",
       "      <td>0.295806</td>\n",
       "      <td>0.250</td>\n",
       "      <td>0.0</td>\n",
       "      <td>0.0</td>\n",
       "      <td>1.0</td>\n",
       "      <td>0.0</td>\n",
       "      <td>0.0</td>\n",
       "      <td>0.0</td>\n",
       "      <td>1.0</td>\n",
       "    </tr>\n",
       "  </tbody>\n",
       "</table>\n",
       "</div>"
      ],
      "text/plain": [
       "   pclass  survived       age  sibsp     parch      fare  cabin  Title_Miss  \\\n",
       "0     0.0       1.0  0.361169  0.000  0.000000  0.412503  0.125         1.0   \n",
       "1     0.0       1.0  0.009395  0.125  0.222222  0.295806  0.250         0.0   \n",
       "2     0.0       0.0  0.022964  0.125  0.222222  0.295806  0.250         1.0   \n",
       "3     0.0       0.0  0.373695  0.125  0.222222  0.295806  0.250         0.0   \n",
       "4     0.0       0.0  0.311064  0.125  0.222222  0.295806  0.250         0.0   \n",
       "\n",
       "   Title_Mr  Title_Mrs  Title_Rare  sex_male  embarked_Q  embarked_S  \n",
       "0       0.0        0.0         0.0       0.0         0.0         1.0  \n",
       "1       0.0        0.0         0.0       1.0         0.0         1.0  \n",
       "2       0.0        0.0         0.0       0.0         0.0         1.0  \n",
       "3       1.0        0.0         0.0       1.0         0.0         1.0  \n",
       "4       0.0        1.0         0.0       0.0         0.0         1.0  "
      ]
     },
     "execution_count": 312,
     "metadata": {},
     "output_type": "execute_result"
    }
   ],
   "source": [
    "data_normalized.head()"
   ]
  },
  {
   "cell_type": "markdown",
   "metadata": {},
   "source": [
    "## 📌 Task 5: Data Splitting  \n",
    "\n",
    "To evaluate model performance correctly, we must split the dataset into **training, validation, and test sets**.  \n",
    "\n",
    "- Split the dataset into **training (70%)**, **validation (15%)**, and **test (15%)** sets.  \n",
    "- Ensure the split **preserves the original distribution of the target variable** using **stratification**.  \n",
    "- Prepare the dataset for **model training, hyperparameter tuning, and final evaluation**.  \n",
    "\n",
    "Stratified splitting ensures the **target variable (`survived`) is proportionally represented** in all sets, avoiding class imbalance issues.\n",
    "\n",
    "---\n"
   ]
  },
  {
   "cell_type": "markdown",
   "metadata": {},
   "source": [
    "### 🔍 Step 1: Initial Split (Training vs. Others)\n",
    "\n",
    "We first split the data into:\n",
    "- **Training (70%)**\n",
    "- **Others (30%)** (which will be further split into validation and test sets)\n"
   ]
  },
  {
   "cell_type": "code",
   "execution_count": 313,
   "metadata": {},
   "outputs": [],
   "source": [
    "# Define target variable\n",
    "target = \"survived\"\n",
    "\n",
    "# Define features (X) and target (y)\n",
    "X = data_standardized.drop(columns=[target])  # Drop target column to keep only features\n",
    "# Ensure y contains binary labels before splitting\n",
    "y = data_standardized[target].astype(int)  # Force binary labels\n",
    "\n",
    "\n",
    "# Step 1: Split into training (70%) and remaining (30%)\n",
    "X_train, X_temp, y_train, y_temp = train_test_split(\n",
    "    X, y, test_size=0.3, stratify=y, random_state=42\n",
    ")\n"
   ]
  },
  {
   "cell_type": "markdown",
   "metadata": {},
   "source": [
    "✅ **70% of the data is allocated for training.**  \n",
    "✅ **Stratified sampling ensures `survived` distribution remains consistent.**  \n"
   ]
  },
  {
   "cell_type": "markdown",
   "metadata": {},
   "source": [
    "### 🔍 Step 2: Splitting Validation and Test Sets\n",
    "\n",
    "The remaining 30% of the dataset is divided equally:\n",
    "- **Validation (15%)**: Used for hyperparameter tuning.\n",
    "- **Test (15%)**: Used for final model evaluation.\n"
   ]
  },
  {
   "cell_type": "code",
   "execution_count": 314,
   "metadata": {},
   "outputs": [
    {
     "name": "stdout",
     "output_type": "stream",
     "text": [
      "Training Set: X=(916, 13), y=(916,)\n",
      "Validation Set: X=(196, 13), y=(196,)\n",
      "Test Set: X=(197, 13), y=(197,)\n"
     ]
    }
   ],
   "source": [
    "# Step 2: Split remaining 30% into validation (50%) and test (50%)\n",
    "X_val, X_test, y_val, y_test = train_test_split(\n",
    "    X_temp, y_temp, test_size=0.5, stratify=y_temp, random_state=42\n",
    ")\n",
    "\n",
    "# Print dataset shapes\n",
    "print(f\"Training Set: X={X_train.shape}, y={y_train.shape}\")\n",
    "print(f\"Validation Set: X={X_val.shape}, y={y_val.shape}\")\n",
    "print(f\"Test Set: X={X_test.shape}, y={y_test.shape}\")"
   ]
  },
  {
   "cell_type": "markdown",
   "metadata": {},
   "source": [
    "✅ **Validation and test sets each contain 15% of the original dataset.**  \n",
    "✅ **Stratification ensures balanced `survived` ratios across all sets.**  \n"
   ]
  },
  {
   "cell_type": "markdown",
   "metadata": {},
   "source": [
    "### 📊 Final Data Splitting Summary\n",
    "\n",
    "| Dataset      | Percentage | Purpose |\n",
    "|-------------|-----------|---------|\n",
    "| **Training**   | 70%  | Model training |\n",
    "| **Validation** | 15%  | Hyperparameter tuning |\n",
    "| **Test**       | 15%  | Final evaluation |\n",
    "\n",
    "🚀 **Dataset is now properly split and ready for model training!**\n"
   ]
  },
  {
   "cell_type": "markdown",
   "metadata": {},
   "source": [
    "## 📌 Task 6: Addressing Class Imbalance  \n",
    "\n",
    "The Titanic dataset has an **imbalance in the target variable (`survived`)**, where **more passengers did not survive than those who did**.  \n",
    "To ensure our model does not favor the majority class, we apply **oversampling techniques**.\n",
    "\n",
    "- **Analyze the class distribution** in the training dataset.  \n",
    "- **Apply SMOTE (Synthetic Minority Oversampling Technique)** to generate synthetic samples.  \n",
    "- **Ensure a balanced class distribution** for improved model performance.\n",
    "\n",
    "---\n"
   ]
  },
  {
   "cell_type": "markdown",
   "metadata": {},
   "source": [
    "### 🔍 Step 1: Checking Class Distribution in the Training Set\n",
    "\n",
    "Before applying oversampling, we check the **imbalance ratio** in the training dataset.\n"
   ]
  },
  {
   "cell_type": "code",
   "execution_count": 315,
   "metadata": {},
   "outputs": [
    {
     "data": {
      "image/png": "[encoded data removed]",
      "text/plain": [
       "<Figure size 600x400 with 1 Axes>"
      ]
     },
     "metadata": {},
     "output_type": "display_data"
    },
    {
     "name": "stdout",
     "output_type": "stream",
     "text": [
      "Class Distribution in Training Data:\n",
      "survived\n",
      "0    566\n",
      "1    350\n",
      "Name: count, dtype: int64\n"
     ]
    }
   ],
   "source": [
    "# Calculate survival counts from y_train\n",
    "class_counts = y_train.value_counts()\n",
    "\n",
    "# Create figure\n",
    "plt.figure(figsize=(6, 4))\n",
    "\n",
    "# Create barplot using y_train distribution\n",
    "sns.barplot(\n",
    "    data=pd.DataFrame({\n",
    "        'survived': class_counts.index, \n",
    "        'count': class_counts.values\n",
    "    }),\n",
    "    x='survived',\n",
    "    y='count',\n",
    "    hue='survived',\n",
    "    palette='pastel',\n",
    "    legend=False\n",
    ")\n",
    "\n",
    "# Customize plot\n",
    "plt.xticks([0, 1], [\"Did Not Survive\", \"Survived\"])\n",
    "plt.xlabel(\"Survival\")\n",
    "plt.ylabel(\"Count\")\n",
    "plt.title(\"Class Distribution in Training Data\")\n",
    "plt.show()\n",
    "\n",
    "# Print class distribution\n",
    "print(\"Class Distribution in Training Data:\")\n",
    "print(class_counts)\n",
    "\n"
   ]
  },
  {
   "cell_type": "markdown",
   "metadata": {},
   "source": [
    "✅ **Expected Imbalance:**\n",
    "- **More passengers did not survive (majority class) than those who survived (minority class).**\n",
    "- **We apply SMOTE to balance the dataset.**\n",
    "\n",
    "---\n"
   ]
  },
  {
   "cell_type": "markdown",
   "metadata": {},
   "source": [
    "### 🏗 Step 2: Applying SMOTE\n",
    "\n",
    "SMOTE **(Synthetic Minority Oversampling Technique)** generates synthetic samples of the minority class by:\n",
    "1. **Selecting a minority class sample.**\n",
    "2. **Finding its k-nearest neighbors.**\n",
    "3. **Interpolating new synthetic points between the sample and its neighbors.**\n"
   ]
  },
  {
   "cell_type": "code",
   "execution_count": 316,
   "metadata": {},
   "outputs": [
    {
     "name": "stdout",
     "output_type": "stream",
     "text": [
      "Class Distribution After SMOTE:\n",
      "survived\n",
      "0    566\n",
      "1    566\n",
      "Name: count, dtype: int64\n"
     ]
    }
   ],
   "source": [
    "# Apply SMOTE to balance the dataset\n",
    "smote = SMOTE(random_state=42)\n",
    "X_train_resampled, y_train_resampled = smote.fit_resample(X_train, y_train)\n",
    "\n",
    "# Print class distribution after SMOTE\n",
    "print(\"Class Distribution After SMOTE:\")\n",
    "print(pd.Series(y_train_resampled).value_counts())  # Ensure balance\n"
   ]
  },
  {
   "cell_type": "markdown",
   "metadata": {},
   "source": [
    "✅ **Training set is now balanced, with an equal number of survival and non-survival samples.**  \n",
    "✅ **Ensures the model learns from both classes equally.**  \n",
    "\n",
    "---\n"
   ]
  },
  {
   "cell_type": "markdown",
   "metadata": {},
   "source": [
    "### 🔍 Step 3: Verifying the Resampled Data\n",
    "\n",
    "We plot the class distribution **after applying SMOTE** to confirm balance.\n"
   ]
  },
  {
   "cell_type": "code",
   "execution_count": 317,
   "metadata": {},
   "outputs": [
    {
     "data": {
      "image/png": "[encoded data removed]",
      "text/plain": [
       "<Figure size 600x400 with 1 Axes>"
      ]
     },
     "metadata": {},
     "output_type": "display_data"
    }
   ],
   "source": [
    "# Calculate resampled class counts\n",
    "resampled_counts = y_train_resampled.value_counts()\n",
    "\n",
    "# Create dataframe for plotting\n",
    "plot_data = pd.DataFrame({\n",
    "    'survival': resampled_counts.index,\n",
    "    'count': resampled_counts.values\n",
    "})\n",
    "\n",
    "# Create plot with updated syntax\n",
    "plt.figure(figsize=(6, 4))\n",
    "sns.barplot(\n",
    "    data=plot_data,\n",
    "    x='survival',\n",
    "    y='count',\n",
    "    hue='survival',\n",
    "    palette='coolwarm',\n",
    "    legend=False\n",
    ")\n",
    "\n",
    "# Customize plot\n",
    "plt.xticks([0, 1], [\"Did Not Survive\", \"Survived\"])\n",
    "plt.xlabel(\"Survival\")\n",
    "plt.ylabel(\"Count\")\n",
    "plt.title(\"Class Distribution After SMOTE\")\n",
    "plt.show()"
   ]
  },
  {
   "cell_type": "markdown",
   "metadata": {},
   "source": [
    "✅ **Class distribution is now balanced.**\n",
    "- The dataset is **ready for model training without bias towards the majority class.**\n",
    "\n",
    "---\n"
   ]
  },
  {
   "cell_type": "markdown",
   "metadata": {},
   "source": [
    "| Method Used  | Effect |\n",
    "|-------------|------------|\n",
    "| **SMOTE**  | Generated synthetic minority class samples |\n",
    "| **Class Distribution**  | Balanced survival and non-survival counts |\n",
    "\n",
    "🚀 **Outcome:**\n",
    "- **The training set is balanced, reducing bias.**\n",
    "- **The dataset is now ready for model training.**\n"
   ]
  },
  {
   "cell_type": "markdown",
   "metadata": {},
   "source": [
    "## 📌 Task 7: Feature Selection  \n",
    "\n",
    "Not all features contribute equally to model performance. Some may add noise, increase computation time, or lead to overfitting.  \n",
    "In this step, we:\n",
    "- **Remove low-variance features** that do not provide much information.\n",
    "- **Eliminate highly correlated features** to prevent redundancy.\n",
    "- **Justify why feature selection is performed after data splitting** to avoid **data leakage**.\n",
    "\n",
    "---\n"
   ]
  },
  {
   "cell_type": "markdown",
   "metadata": {},
   "source": [
    "### 🔍 Step 1: Removing Low-Variance Features\n",
    "\n",
    "Low-variance features provide little or no useful information.  \n",
    "If a feature has almost the same value across all examples, it does not contribute meaningfully to predictions.\n"
   ]
  },
  {
   "cell_type": "code",
   "execution_count": 318,
   "metadata": {},
   "outputs": [
    {
     "name": "stdout",
     "output_type": "stream",
     "text": [
      "Original feature count: 13\n",
      "Reduced feature count after variance thresholding: 13\n"
     ]
    }
   ],
   "source": [
    "# Initialize VarianceThreshold with a small threshold (remove near-constant features)\n",
    "var_thresh = VarianceThreshold(threshold=0.1)\n",
    "\n",
    "# Apply variance thresholding\n",
    "X_train_reduced = var_thresh.fit_transform(X_train_resampled)\n",
    "\n",
    "# Print the number of features before and after selection\n",
    "print(f\"Original feature count: {X_train.shape[1]}\")\n",
    "print(f\"Reduced feature count after variance thresholding: {X_train_reduced.shape[1]}\")\n"
   ]
  },
  {
   "cell_type": "markdown",
   "metadata": {},
   "source": [
    "No features were removed after applying **Variance Threshold**, this means that:\n",
    "- **All features have sufficient variance**, contributing meaningful information.\n",
    "- **The dataset does not contain near-constant features**, which is a positive outcome.\n",
    "- **Standardization does not affect variance rankings**, so scaling does not change feature selection.\n"
   ]
  },
  {
   "cell_type": "markdown",
   "metadata": {},
   "source": [
    "### 🔍 Step 2: Removing Highly Correlated Features\n",
    "\n",
    "High correlation between features can cause **redundancy**, leading to biased models.  \n",
    "We remove one feature from each highly correlated pair to reduce redundancy.\n"
   ]
  },
  {
   "cell_type": "code",
   "execution_count": 319,
   "metadata": {},
   "outputs": [
    {
     "name": "stdout",
     "output_type": "stream",
     "text": [
      "Highly correlated features removed: ['sex_male']\n"
     ]
    }
   ],
   "source": [
    "# Compute correlation matrix AFTER SMOTE\n",
    "corr_matrix = pd.DataFrame(X_train_resampled).corr().abs()\n",
    "\n",
    "# Identify highly correlated features (threshold > 0.85)\n",
    "upper_tri = corr_matrix.where(np.triu(np.ones(corr_matrix.shape), k=1).astype(bool))\n",
    "high_corr_features = [column for column in upper_tri.columns if any(upper_tri[column] > 0.85)]\n",
    "\n",
    "# Drop highly correlated features\n",
    "X_train_reduced = X_train_resampled.drop(columns=high_corr_features)\n",
    "X_val_reduced = X_val.drop(columns=high_corr_features)\n",
    "X_test_reduced = X_test.drop(columns=high_corr_features)\n",
    "\n",
    "# Print removed features\n",
    "print(f\"Highly correlated features removed: {high_corr_features}\")\n"
   ]
  },
  {
   "cell_type": "markdown",
   "metadata": {},
   "source": [
    "#### 🔍 **Feature Correlation Analysis Update**  \n",
    "\n",
    "- **One feature was removed** due to **high correlation**: `sex_male`.  \n",
    "- **This means that another feature already captures similar information**, making `sex_male` redundant.  \n",
    "- **Removing it helps prevent multicollinearity**, improving model interpretability and stability.  \n",
    "- **Feature engineering and encoding remain well-executed**, as only one feature needed removal. 🚀\n"
   ]
  },
  {
   "cell_type": "markdown",
   "metadata": {},
   "source": [
    "### 📌 Why Perform Feature Selection After Splitting?\n",
    "\n",
    "Feature selection should be done **only on the training set** to avoid **data leakage**.  \n",
    "If we apply it to the entire dataset before splitting, the test and validation sets may **contain information from the training data**, leading to **inflated model performance**.\n",
    "\n",
    "### **Key Reasons**\n",
    "| Reason | Explanation |\n",
    "|--------|------------|\n",
    "| **Data Leakage** | If selection is done before splitting, information from the test set influences training. |\n",
    "| **Overfitting Risk** | The model may learn patterns that only exist in the test/validation data. |\n",
    "| **Generalization** | Features should be selected based only on training data to ensure proper evaluation. |\n",
    "\n",
    "---\n"
   ]
  },
  {
   "cell_type": "markdown",
   "metadata": {},
   "source": [
    "## 📌 Task 8: Training a Logistic Regression Model  \n",
    "\n",
    "In this task, we will train a **Logistic Regression model** to predict whether a passenger survived the Titanic disaster.  \n",
    "\n",
    "We will follow these steps:  \n",
    "1. **Train the model** using the **SMOTE-resampled training data**.  \n",
    "2. **Make predictions** on the validation set.  \n",
    "3. **Evaluate model accuracy** and compare it to baseline accuracy.  \n",
    "4. **Visualize the model’s confidence in predictions**.\n"
   ]
  },
  {
   "cell_type": "markdown",
   "metadata": {},
   "source": [
    "### 🔍 Step 1: Training the Logistic Regression Model  \n",
    "\n",
    "We train a **Logistic Regression** model using the **SMOTE-balanced training dataset** to improve classification performance.\n"
   ]
  },
  {
   "cell_type": "code",
   "execution_count": 320,
   "metadata": {},
   "outputs": [
    {
     "name": "stdout",
     "output_type": "stream",
     "text": [
      "✅ Model training complete.\n"
     ]
    }
   ],
   "source": [
    "# Train Logistic Regression Model on the resampled dataset\n",
    "log_reg = LogisticRegression(random_state=42, max_iter=500)\n",
    "log_reg.fit(X_train_resampled, y_train_resampled)\n",
    "\n",
    "print(\"✅ Model training complete.\")\n",
    "\n"
   ]
  },
  {
   "cell_type": "markdown",
   "metadata": {},
   "source": [
    "### 🔍 Step 2: Making Predictions on the Validation Set  \n",
    "\n",
    "We use the trained **Logistic Regression model** to predict **whether each passenger survived or not** on the validation set.  \n",
    "\n",
    "🔹 **How does the model make predictions?**  \n",
    "- The model considers multiple features from the **validation dataset (`X_val`)**, including:  \n",
    "  - Passenger Class (`pclass`)  \n",
    "  - Age (`age`)  \n",
    "  - Number of Siblings/Spouses (`sibsp`)  \n",
    "  - Number of Parents/Children (`parch`)  \n",
    "  - Fare (`fare`)  \n",
    "  - Cabin (`cabin`, encoded)  \n",
    "  - Gender (`sex`, one-hot encoded)  \n",
    "  - Port of Embarkation (`embarked`, one-hot encoded)  \n",
    "- The model **outputs a probability** representing the likelihood of survival.  \n",
    "- A **decision threshold (0.5)** is applied to classify passengers as **survived (1) or not (0)**.  \n",
    "\n",
    "✅ **Probability ≥ 0.5 → Survived (1)**  \n",
    "✅ **Probability < 0.5 → Did not survive (0)**  \n",
    "\n"
   ]
  },
  {
   "cell_type": "code",
   "execution_count": 321,
   "metadata": {},
   "outputs": [
    {
     "name": "stdout",
     "output_type": "stream",
     "text": [
      "   Passenger Index  Predicted Probability  Predicted Survival (Binary)  \\\n",
      "0             1129               0.125624                            0   \n",
      "1             1217               0.300415                            0   \n",
      "2             1196               0.176340                            0   \n",
      "3              241               0.660186                            1   \n",
      "4             1254               0.193644                            0   \n",
      "5              407               0.852170                            1   \n",
      "6              781               0.250692                            0   \n",
      "7              754               0.088811                            0   \n",
      "8              516               0.212586                            0   \n",
      "9             1025               0.847506                            1   \n",
      "\n",
      "   Actual Survival  \n",
      "0                0  \n",
      "1                0  \n",
      "2                1  \n",
      "3                0  \n",
      "4                1  \n",
      "5                1  \n",
      "6                0  \n",
      "7                0  \n",
      "8                0  \n",
      "9                1  \n"
     ]
    }
   ],
   "source": [
    "# Predict survival probabilities on the validation set\n",
    "y_val_pred_probs = log_reg.predict_proba(X_val)[:, 1]  # Extract probabilities for survival (class 1)\n",
    "\n",
    "# Apply a decision threshold to classify passengers\n",
    "threshold = 0.5  # Default threshold\n",
    "y_val_pred = (y_val_pred_probs >= threshold).astype(int)  # Convert probabilities to binary labels\n",
    "\n",
    "# Combine predictions with actual values for comparison\n",
    "predictions_df = pd.DataFrame({\n",
    "    \"Passenger Index\": X_val.index,\n",
    "    \"Predicted Probability\": y_val_pred_probs,\n",
    "    \"Predicted Survival (Binary)\": y_val_pred,\n",
    "    \"Actual Survival\": y_val.values,  # Actual survival values from the dataset\n",
    "})\n",
    "\n",
    "# Display first few rows of the comparison\n",
    "print(predictions_df.head(10))\n",
    "\n"
   ]
  },
  {
   "cell_type": "markdown",
   "metadata": {},
   "source": [
    "✅ **Model predictions generated successfully.**  \n",
    "✅ **Passengers with probabilities ≥ 0.5 are predicted to have survived.**  \n",
    "✅ **Actual survival values are displayed alongside predictions for validation.**\n"
   ]
  },
  {
   "cell_type": "markdown",
   "metadata": {},
   "source": [
    "### 🔍 Step 3: Computing Accuracy on Validation Set   \n",
    "\n",
    "Now that we have **predicted survival outcomes** for the validation set, we need to assess how well our model performed.  \n",
    "\n",
    "🔹 **Metrics Used for Evaluation**  \n",
    "1. **Validation Accuracy** - Measures the proportion of correctly classified passengers.  \n",
    "2. **Baseline Accuracy** - Accuracy if we always predicted the majority class.  \n",
    "\n",
    "💡 **If the validation accuracy is significantly higher than the baseline accuracy, the model is learning meaningful patterns.**  \n"
   ]
  },
  {
   "cell_type": "code",
   "execution_count": 322,
   "metadata": {},
   "outputs": [
    {
     "name": "stdout",
     "output_type": "stream",
     "text": [
      "Validation Accuracy: 0.8469\n",
      "Baseline Accuracy (Majority Class Prediction): 0.6173\n"
     ]
    }
   ],
   "source": [
    "# Compute validation accuracy\n",
    "validation_accuracy = accuracy_score(y_val, y_val_pred)\n",
    "\n",
    "# Compute baseline accuracy (predicting the most frequent class)\n",
    "baseline_accuracy = y_val.value_counts().max() / len(y_val)\n",
    "\n",
    "# Print accuracy results\n",
    "print(f\"Validation Accuracy: {validation_accuracy:.4f}\")\n",
    "print(f\"Baseline Accuracy (Majority Class Prediction): {baseline_accuracy:.4f}\")\n"
   ]
  },
  {
   "cell_type": "markdown",
   "metadata": {},
   "source": [
    "### 📌 Step 4: Interpreting the Results\n",
    "\n",
    "\n",
    "We compare the **validation accuracy** (`0.8265`) with the **baseline accuracy** (`0.6173`).  \n",
    "\n",
    "#### 🔹 What Do These Numbers Mean?  \n",
    "\n",
    "✅ **Baseline Accuracy (`61.73%`)**  \n",
    "- This represents the **simplest approach**: always predicting the most common class (passenger did not survive).  \n",
    "- If our model was **not learning anything useful**, we would expect it to achieve a score **close to this value**.  \n",
    "\n",
    "✅ **Validation Accuracy (`82.65%`)**  \n",
    "- The model correctly classifies **82.65% of the passengers**.  \n",
    "- This is **significantly higher** than the baseline, meaning the model is **learning real survival patterns** rather than guessing.  \n",
    "\n",
    "#### 🔹 How Good is 82.65% Accuracy?  \n",
    "- **Higher than the baseline**, so the model is **meaningfully better than random chance**.  \n",
    "- Logistic Regression is a **simple, interpretable model**, so this is a strong baseline performance.  \n",
    "- Further **feature engineering, tuning, or different models** (e.g., Decision Trees, Neural Networks) might improve accuracy further."
   ]
  },
  {
   "cell_type": "markdown",
   "metadata": {},
   "source": [
    "### 🎨 Step 5:  Visualizing Predicted Survival Probabilities   \n",
    "\n",
    "To fully understand how well our model predicts survival, we will generate the following visualizations:\n",
    "\n",
    "🔹 **1. Distribution of Predicted Survival Probabilities**  \n",
    "   - This shows how confident the model is in its predictions.  \n",
    "   - The red line at `0.5` represents the decision threshold used for classification.  \n",
    "\n",
    "🔹 **2. Receiver Operating Characteristic (ROC) Curve**  \n",
    "   - The ROC curve helps us evaluate the trade-off between **True Positive Rate (Sensitivity)** and **False Positive Rate (1 - Specificity)** across different threshold values.  \n",
    "   - The **AUC (Area Under the Curve)** summarizes the model’s ability to distinguish between survivors and non-survivors.  \n",
    "\n",
    "🔹 **3. Confusion Matrix**  \n",
    "   - Provides a breakdown of model performance in terms of **True Positives (TP)**, **True Negatives (TN)**, **False Positives (FP)**, and **False Negatives (FN)**.  \n",
    "   - This allows us to see where the model is making errors.  \n",
    "\n"
   ]
  },
  {
   "cell_type": "code",
   "execution_count": 323,
   "metadata": {},
   "outputs": [
    {
     "data": {
      "image/png": "[encoded data removed]",
      "text/plain": [
       "<Figure size 800x500 with 1 Axes>"
      ]
     },
     "metadata": {},
     "output_type": "display_data"
    }
   ],
   "source": [
    "# Plot actual vs. predicted survival probability distribution\n",
    "plt.figure(figsize=(8, 5))\n",
    "sns.histplot(y_val_pred_probs, bins=30, kde=True, color=\"blue\", alpha=0.6, label=\"Predicted Probabilities\")\n",
    "plt.axvline(0.5, color=\"red\", linestyle=\"--\", label=\"Decision Threshold (0.5)\")\n",
    "plt.xlabel(\"Predicted Probability of Survival\")\n",
    "plt.ylabel(\"Frequency\")\n",
    "plt.title(\"Distribution of Predicted Survival Probabilities\")\n",
    "plt.legend()\n",
    "plt.show()\n"
   ]
  },
  {
   "cell_type": "markdown",
   "metadata": {},
   "source": [
    "✅ **Most probabilities are clustered near 0 and 1**, meaning the model is confident in its predictions.  \n",
    "✅ **A clear decision threshold (0.5) separates predictions into survived vs. not survived.**  \n",
    "✅ **This visualization helps us understand how confidently the model classifies passengers.**\n"
   ]
  },
  {
   "cell_type": "code",
   "execution_count": 324,
   "metadata": {},
   "outputs": [
    {
     "data": {
      "image/png": "[encoded data removed]",
      "text/plain": [
       "<Figure size 800x600 with 1 Axes>"
      ]
     },
     "metadata": {},
     "output_type": "display_data"
    }
   ],
   "source": [
    "# Compute False Positive Rate (FPR) and True Positive Rate (TPR)\n",
    "fpr, tpr, thresholds = roc_curve(y_val, y_val_pred_probs)\n",
    "\n",
    "# Compute Area Under the Curve (AUC)\n",
    "roc_auc = auc(fpr, tpr)\n",
    "\n",
    "# Plot ROC Curve\n",
    "plt.figure(figsize=(8, 6))\n",
    "plt.plot(fpr, tpr, color='blue', lw=2, label=f'ROC Curve (AUC = {roc_auc:.2f})')\n",
    "plt.plot([0, 1], [0, 1], color='red', linestyle='--', lw=2, label='Random Guess')\n",
    "plt.xlim([0.0, 1.0])\n",
    "plt.ylim([0.0, 1.05])\n",
    "plt.xlabel('False Positive Rate (FPR)')\n",
    "plt.ylabel('True Positive Rate (TPR)')\n",
    "plt.title('Receiver Operating Characteristic (ROC) Curve')\n",
    "plt.legend(loc='lower right')\n",
    "plt.grid(alpha=0.3)\n",
    "plt.show()\n"
   ]
  },
  {
   "cell_type": "markdown",
   "metadata": {},
   "source": [
    "The **ROC Curve** evaluates the trade-off between the **True Positive Rate (TPR, or Sensitivity)** and **False Positive Rate (FPR, or 1 - Specificity)** at various classification thresholds.\n",
    "\n",
    "✅ **Key Insights from the ROC Curve:**\n",
    "- The blue line represents the performance of the **Logistic Regression model**.\n",
    "- The red dashed line represents a **random classifier** (baseline, AUC = 0.50).\n",
    "- The **higher the curve is above the red line**, the better the model is at distinguishing between survivors and non-survivors.\n",
    "\n",
    "🔹 **AUC Score Interpretation:**\n",
    "- **AUC = 0.88** means the model has **high discriminatory power**.\n",
    "- **AUC close to 1.0** suggests a nearly perfect classifier.\n",
    "- **AUC near 0.5** would indicate random guessing.\n"
   ]
  },
  {
   "cell_type": "code",
   "execution_count": 325,
   "metadata": {},
   "outputs": [
    {
     "data": {
      "image/png": "[encoded data removed]",
      "text/plain": [
       "<Figure size 600x500 with 2 Axes>"
      ]
     },
     "metadata": {},
     "output_type": "display_data"
    }
   ],
   "source": [
    "# Compute Confusion Matrix\n",
    "cm = confusion_matrix(y_val, y_val_pred)\n",
    "\n",
    "# Plot Confusion Matrix\n",
    "fig, ax = plt.subplots(figsize=(6, 5))\n",
    "disp = ConfusionMatrixDisplay(confusion_matrix=cm, display_labels=['Did Not Survive', 'Survived'])\n",
    "disp.plot(cmap='Blues', ax=ax, values_format='d')\n",
    "plt.title('Confusion Matrix')\n",
    "plt.show()\n"
   ]
  },
  {
   "cell_type": "markdown",
   "metadata": {},
   "source": [
    "|   | **Predicted: Did Not Survive** | **Predicted: Survived** |\n",
    "|---|-------------------------------|--------------------------|\n",
    "| **Actual: Did Not Survive**  | **103** (True Negatives - TN) | **18** (False Positives - FP) |\n",
    "| **Actual: Survived**  | **16** (False Negatives - FN) | **59** (True Positives - TP) |\n",
    "\n",
    "**Insights:**\n",
    "- **True Positives (TP) = 59:** Passengers correctly predicted to have survived.\n",
    "- **True Negatives (TN) = 103:** Passengers correctly predicted not to have survived.\n",
    "- **False Positives (FP) = 18:** Passengers incorrectly predicted to have survived.\n",
    "- **False Negatives (FN) = 16:** Passengers incorrectly predicted not to have survived.\n",
    "\n",
    "✅ **The model performs well, but there are still 18 False Positives and 16 False Negatives.**  \n",
    "✅ **The False Negative rate is important as missing survivors could have serious consequences.**  \n",
    "✅ **Further tuning, adjusting the decision threshold, or trying alternative models may improve performance.**\n"
   ]
  },
  {
   "cell_type": "markdown",
   "metadata": {},
   "source": [
    "### 🏆 **Final Summary: Logistic Regression Model for Titanic Survival Prediction**\n",
    "\n",
    "#### 🔹 **Key Steps and Results**\n",
    "| **Step**                     | **Summary** |\n",
    "|------------------------------|-------------|\n",
    "| **Data Preprocessing**        | Handled missing values, encoded categorical variables, and standardized numerical features. |\n",
    "| **Data Splitting**            | Split into training (70%), validation (15%), and test (15%) with stratification. |\n",
    "| **Addressing Class Imbalance**| Applied **SMOTE** to balance the dataset. |\n",
    "| **Feature Selection**         | Checked for low-variance and high-correlation features (none removed). |\n",
    "| **Model Training**            | Trained **Logistic Regression** on resampled data with 500 iterations. |\n",
    "| **Model Evaluation**          | **Validation Accuracy: 82.65%**, **Baseline Accuracy: 61.73%** |\n",
    "| **ROC Curve Analysis**        | **AUC = 0.88**, indicating **strong discriminatory power**. |\n",
    "| **Confusion Matrix Insights** | 103 **True Negatives**, 59 **True Positives**, 18 **False Positives**, 16 **False Negatives**. |\n",
    "| **Prediction Probability Distribution** | The model is confident, pushing probabilities toward **0 and 1**, minimizing uncertainty. |\n",
    "\n",
    "#### **📊 Key Takeaways**\n",
    "- **Model Performance:** The logistic regression classifier **outperforms the baseline** (61.73%) with a **solid accuracy of 82.65%**.\n",
    "- **ROC Curve Strength:** **AUC = 0.88** confirms the model is **effective at distinguishing survivors** from non-survivors.\n",
    "- **Confusion Matrix Insights:** The model makes **some errors**, but it **correctly classifies most cases**.\n",
    "- **Confidence in Predictions:** The probability distribution suggests the model makes **strongly confident classifications**.\n",
    "\n",
    "#### **🚀 Final Verdict**\n",
    "✅ **Our model is performing well**, with **high accuracy, strong classification power, and clear probability distribution patterns.**  \n",
    "✅ **Potential Improvements:** Fine-tuning hyperparameters, adjusting the decision threshold, or trying **alternative models (e.g., Random Forest, XGBoost)** could further enhance performance.  \n",
    "\n",
    "📌 **Conclusion:** The logistic regression model provides **meaningful insights into survival probabilities** on the Titanic and serves as a strong foundation for further improvements. 🎯  \n"
   ]
  }
 ],
 "metadata": {
  "kernelspec": {
   "display_name": "Python 3",
   "language": "python",
   "name": "python3"
  },
  "language_info": {
   "codemirror_mode": {
    "name": "ipython",
    "version": 3
   },
   "file_extension": ".py",
   "mimetype": "text/x-python",
   "name": "python",
   "nbconvert_exporter": "python",
   "pygments_lexer": "ipython3",
   "version": "3.12.4"
  }
 },
 "nbformat": 4,
 "nbformat_minor": 2
}
