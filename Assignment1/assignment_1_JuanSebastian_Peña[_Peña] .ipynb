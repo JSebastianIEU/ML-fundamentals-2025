{
 "cells": [
  {
   "cell_type": "markdown",
   "metadata": {},
   "source": [
    "# **Individual Assignment 1 | Titanic Dataset**"
   ]
  },
  {
   "cell_type": "markdown",
   "metadata": {},
   "source": [
    "### Importing Libraries"
   ]
  },
  {
   "cell_type": "code",
   "execution_count": null,
   "metadata": {},
   "outputs": [],
   "source": [
    "# Importing libraries\n",
    "\n",
    "# Data manipulation and analysis\n",
    "import numpy as np\n",
    "import pandas as pd\n",
    "\n",
    "# Data visualization\n",
    "import matplotlib.pyplot as plt\n",
    "import seaborn as sns\n",
    "from IPython.display import IFrame\n",
    "\n",
    "# Preprocessing and feature engineering\n",
    "from sklearn.preprocessing import OneHotEncoder, LabelEncoder, StandardScaler, MinMaxScaler, OrdinalEncoder\n",
    "from sklearn.feature_extraction import FeatureHasher\n",
    "from sklearn.model_selection import train_test_split\n",
    "from sklearn.feature_selection import VarianceThreshold\n",
    "\n",
    "# Handling imbalanced data\n",
    "from imblearn.over_sampling import SMOTE\n",
    "\n",
    "# Machine learning models\n",
    "from sklearn.linear_model import LogisticRegression\n",
    "\n",
    "# Model evaluation\n",
    "from sklearn.metrics import accuracy_score, roc_curve, auc, confusion_matrix, ConfusionMatrixDisplay\n",
    "\n",
    "# Miscellaneous\n",
    "import warnings"
   ]
  },
  {
   "cell_type": "markdown",
   "metadata": {},
   "source": [
    "## 🚢 **Task 1: Titanic Dataset - Initial Exploration**\n",
    "\n",
    "This section explores the **Titanic dataset**, identifying missing values, feature distributions, and basic statistical insights.\n",
    "\n",
    "The Titanic dataset contains information about passengers aboard the Titanic, including survival status, class, age, fare, and other details. The goal of this initial exploration is to:\n",
    "\n",
    "- Load the dataset.\n",
    "- Understand its structure and content.\n",
    "- Identify missing values and potential issues.\n",
    "- Visualize key aspects of the data.\n",
    "- Answer key data analysis and exploration questions."
   ]
  },
  {
   "cell_type": "markdown",
   "metadata": {},
   "source": [
    "### Step 1: Upload dataset"
   ]
  },
  {
   "cell_type": "code",
   "execution_count": 2,
   "metadata": {},
   "outputs": [
    {
     "name": "stdout",
     "output_type": "stream",
     "text": [
      "Shape of the dataset: (1309, 14)\n"
     ]
    },
    {
     "data": {
      "text/html": [
       "<div>\n",
       "<style scoped>\n",
       "    .dataframe tbody tr th:only-of-type {\n",
       "        vertical-align: middle;\n",
       "    }\n",
       "\n",
       "    .dataframe tbody tr th {\n",
       "        vertical-align: top;\n",
       "    }\n",
       "\n",
       "    .dataframe thead th {\n",
       "        text-align: right;\n",
       "    }\n",
       "</style>\n",
       "<table border=\"1\" class=\"dataframe\">\n",
       "  <thead>\n",
       "    <tr style=\"text-align: right;\">\n",
       "      <th></th>\n",
       "      <th>pclass</th>\n",
       "      <th>survived</th>\n",
       "      <th>name</th>\n",
       "      <th>sex</th>\n",
       "      <th>age</th>\n",
       "      <th>sibsp</th>\n",
       "      <th>parch</th>\n",
       "      <th>ticket</th>\n",
       "      <th>fare</th>\n",
       "      <th>cabin</th>\n",
       "      <th>embarked</th>\n",
       "      <th>boat</th>\n",
       "      <th>body</th>\n",
       "      <th>home.dest</th>\n",
       "    </tr>\n",
       "  </thead>\n",
       "  <tbody>\n",
       "    <tr>\n",
       "      <th>0</th>\n",
       "      <td>1</td>\n",
       "      <td>1</td>\n",
       "      <td>Allen, Miss. Elisabeth Walton</td>\n",
       "      <td>female</td>\n",
       "      <td>29.0000</td>\n",
       "      <td>0</td>\n",
       "      <td>0</td>\n",
       "      <td>24160</td>\n",
       "      <td>211.3375</td>\n",
       "      <td>B5</td>\n",
       "      <td>S</td>\n",
       "      <td>2</td>\n",
       "      <td>NaN</td>\n",
       "      <td>St Louis, MO</td>\n",
       "    </tr>\n",
       "    <tr>\n",
       "      <th>1</th>\n",
       "      <td>1</td>\n",
       "      <td>1</td>\n",
       "      <td>Allison, Master. Hudson Trevor</td>\n",
       "      <td>male</td>\n",
       "      <td>0.9167</td>\n",
       "      <td>1</td>\n",
       "      <td>2</td>\n",
       "      <td>113781</td>\n",
       "      <td>151.5500</td>\n",
       "      <td>C22 C26</td>\n",
       "      <td>S</td>\n",
       "      <td>11</td>\n",
       "      <td>NaN</td>\n",
       "      <td>Montreal, PQ / Chesterville, ON</td>\n",
       "    </tr>\n",
       "    <tr>\n",
       "      <th>2</th>\n",
       "      <td>1</td>\n",
       "      <td>0</td>\n",
       "      <td>Allison, Miss. Helen Loraine</td>\n",
       "      <td>female</td>\n",
       "      <td>2.0000</td>\n",
       "      <td>1</td>\n",
       "      <td>2</td>\n",
       "      <td>113781</td>\n",
       "      <td>151.5500</td>\n",
       "      <td>C22 C26</td>\n",
       "      <td>S</td>\n",
       "      <td>NaN</td>\n",
       "      <td>NaN</td>\n",
       "      <td>Montreal, PQ / Chesterville, ON</td>\n",
       "    </tr>\n",
       "    <tr>\n",
       "      <th>3</th>\n",
       "      <td>1</td>\n",
       "      <td>0</td>\n",
       "      <td>Allison, Mr. Hudson Joshua Creighton</td>\n",
       "      <td>male</td>\n",
       "      <td>30.0000</td>\n",
       "      <td>1</td>\n",
       "      <td>2</td>\n",
       "      <td>113781</td>\n",
       "      <td>151.5500</td>\n",
       "      <td>C22 C26</td>\n",
       "      <td>S</td>\n",
       "      <td>NaN</td>\n",
       "      <td>135.0</td>\n",
       "      <td>Montreal, PQ / Chesterville, ON</td>\n",
       "    </tr>\n",
       "    <tr>\n",
       "      <th>4</th>\n",
       "      <td>1</td>\n",
       "      <td>0</td>\n",
       "      <td>Allison, Mrs. Hudson J C (Bessie Waldo Daniels)</td>\n",
       "      <td>female</td>\n",
       "      <td>25.0000</td>\n",
       "      <td>1</td>\n",
       "      <td>2</td>\n",
       "      <td>113781</td>\n",
       "      <td>151.5500</td>\n",
       "      <td>C22 C26</td>\n",
       "      <td>S</td>\n",
       "      <td>NaN</td>\n",
       "      <td>NaN</td>\n",
       "      <td>Montreal, PQ / Chesterville, ON</td>\n",
       "    </tr>\n",
       "  </tbody>\n",
       "</table>\n",
       "</div>"
      ],
      "text/plain": [
       "   pclass  survived                                             name     sex  \\\n",
       "0       1         1                    Allen, Miss. Elisabeth Walton  female   \n",
       "1       1         1                   Allison, Master. Hudson Trevor    male   \n",
       "2       1         0                     Allison, Miss. Helen Loraine  female   \n",
       "3       1         0             Allison, Mr. Hudson Joshua Creighton    male   \n",
       "4       1         0  Allison, Mrs. Hudson J C (Bessie Waldo Daniels)  female   \n",
       "\n",
       "       age  sibsp  parch  ticket      fare    cabin embarked boat   body  \\\n",
       "0  29.0000      0      0   24160  211.3375       B5        S    2    NaN   \n",
       "1   0.9167      1      2  113781  151.5500  C22 C26        S   11    NaN   \n",
       "2   2.0000      1      2  113781  151.5500  C22 C26        S  NaN    NaN   \n",
       "3  30.0000      1      2  113781  151.5500  C22 C26        S  NaN  135.0   \n",
       "4  25.0000      1      2  113781  151.5500  C22 C26        S  NaN    NaN   \n",
       "\n",
       "                         home.dest  \n",
       "0                     St Louis, MO  \n",
       "1  Montreal, PQ / Chesterville, ON  \n",
       "2  Montreal, PQ / Chesterville, ON  \n",
       "3  Montreal, PQ / Chesterville, ON  \n",
       "4  Montreal, PQ / Chesterville, ON  "
      ]
     },
     "execution_count": 2,
     "metadata": {},
     "output_type": "execute_result"
    }
   ],
   "source": [
    "# Load dataset\n",
    "data = pd.read_excel(\"titanic3.xls\")\n",
    "\n",
    "# print the shape of the dataset\n",
    "print(\"Shape of the dataset:\", data.shape)\n",
    "\n",
    "# Display the first few rows of the dataset\n",
    "data.head()"
   ]
  },
  {
   "cell_type": "markdown",
   "metadata": {},
   "source": [
    "1️⃣ Data Dictionary\n",
    "| Column    | Description |\n",
    "|-----------|------------|\n",
    "| survived  | Survival (0 = No, 1 = Yes) |\n",
    "| pclass    | Passenger Class (1st, 2nd, 3rd) |\n",
    "| name      | Passenger Name |\n",
    "| sex       | Sex (Male/Female) |\n",
    "| age       | Age of Passenger |\n",
    "| sibsp     | Number of Siblings/Spouses Aboard |\n",
    "| parch     | Number of Parents/Children Aboard |\n",
    "| ticket    | Ticket Number |\n",
    "| fare      | Passenger Fare |\n",
    "| cabin     | Cabin Number (if known) |\n",
    "| embarked  | Port of Embarkation (C, Q, S) |\n",
    "| boat      | Lifeboat Number (if survived) |\n",
    "| body      | Body Number (if recovered) |\n",
    "| home.dest | Final Destination |\n"
   ]
  },
  {
   "cell_type": "markdown",
   "metadata": {},
   "source": [
    "The dataset contains **1309 entries** and **14 columns**, covering various passenger attributes. Let's inspect the dataset structure and statistics.\n"
   ]
  },
  {
   "cell_type": "code",
   "execution_count": 3,
   "metadata": {},
   "outputs": [
    {
     "name": "stdout",
     "output_type": "stream",
     "text": [
      "<class 'pandas.core.frame.DataFrame'>\n",
      "RangeIndex: 1309 entries, 0 to 1308\n",
      "Data columns (total 14 columns):\n",
      " #   Column     Non-Null Count  Dtype  \n",
      "---  ------     --------------  -----  \n",
      " 0   pclass     1309 non-null   int64  \n",
      " 1   survived   1309 non-null   int64  \n",
      " 2   name       1309 non-null   object \n",
      " 3   sex        1309 non-null   object \n",
      " 4   age        1046 non-null   float64\n",
      " 5   sibsp      1309 non-null   int64  \n",
      " 6   parch      1309 non-null   int64  \n",
      " 7   ticket     1309 non-null   object \n",
      " 8   fare       1308 non-null   float64\n",
      " 9   cabin      295 non-null    object \n",
      " 10  embarked   1307 non-null   object \n",
      " 11  boat       486 non-null    object \n",
      " 12  body       121 non-null    float64\n",
      " 13  home.dest  745 non-null    object \n",
      "dtypes: float64(3), int64(4), object(7)\n",
      "memory usage: 143.3+ KB\n"
     ]
    }
   ],
   "source": [
    "data.info()"
   ]
  },
  {
   "cell_type": "markdown",
   "metadata": {},
   "source": [
    "The dataset includes both **numerical** (`age`, `fare`, `pclas`, `survived`, `sibsp`, `parch`, `body`) and **categorical** (`sex`, `embarked`, `name`, `ticket`, `cabin`, `boat`) variables. Missing values are present, particularly in `cabin`, `boat`, `age`, `fare`, `home.dest` and `body`.\n"
   ]
  },
  {
   "cell_type": "code",
   "execution_count": 4,
   "metadata": {},
   "outputs": [
    {
     "data": {
      "text/html": [
       "<div>\n",
       "<style scoped>\n",
       "    .dataframe tbody tr th:only-of-type {\n",
       "        vertical-align: middle;\n",
       "    }\n",
       "\n",
       "    .dataframe tbody tr th {\n",
       "        vertical-align: top;\n",
       "    }\n",
       "\n",
       "    .dataframe thead th {\n",
       "        text-align: right;\n",
       "    }\n",
       "</style>\n",
       "<table border=\"1\" class=\"dataframe\">\n",
       "  <thead>\n",
       "    <tr style=\"text-align: right;\">\n",
       "      <th></th>\n",
       "      <th>pclass</th>\n",
       "      <th>survived</th>\n",
       "      <th>age</th>\n",
       "      <th>sibsp</th>\n",
       "      <th>parch</th>\n",
       "      <th>fare</th>\n",
       "      <th>body</th>\n",
       "    </tr>\n",
       "  </thead>\n",
       "  <tbody>\n",
       "    <tr>\n",
       "      <th>count</th>\n",
       "      <td>1309.000000</td>\n",
       "      <td>1309.000000</td>\n",
       "      <td>1046.000000</td>\n",
       "      <td>1309.000000</td>\n",
       "      <td>1309.000000</td>\n",
       "      <td>1308.000000</td>\n",
       "      <td>121.000000</td>\n",
       "    </tr>\n",
       "    <tr>\n",
       "      <th>mean</th>\n",
       "      <td>2.294882</td>\n",
       "      <td>0.381971</td>\n",
       "      <td>29.881135</td>\n",
       "      <td>0.498854</td>\n",
       "      <td>0.385027</td>\n",
       "      <td>33.295479</td>\n",
       "      <td>160.809917</td>\n",
       "    </tr>\n",
       "    <tr>\n",
       "      <th>std</th>\n",
       "      <td>0.837836</td>\n",
       "      <td>0.486055</td>\n",
       "      <td>14.413500</td>\n",
       "      <td>1.041658</td>\n",
       "      <td>0.865560</td>\n",
       "      <td>51.758668</td>\n",
       "      <td>97.696922</td>\n",
       "    </tr>\n",
       "    <tr>\n",
       "      <th>min</th>\n",
       "      <td>1.000000</td>\n",
       "      <td>0.000000</td>\n",
       "      <td>0.166700</td>\n",
       "      <td>0.000000</td>\n",
       "      <td>0.000000</td>\n",
       "      <td>0.000000</td>\n",
       "      <td>1.000000</td>\n",
       "    </tr>\n",
       "    <tr>\n",
       "      <th>25%</th>\n",
       "      <td>2.000000</td>\n",
       "      <td>0.000000</td>\n",
       "      <td>21.000000</td>\n",
       "      <td>0.000000</td>\n",
       "      <td>0.000000</td>\n",
       "      <td>7.895800</td>\n",
       "      <td>72.000000</td>\n",
       "    </tr>\n",
       "    <tr>\n",
       "      <th>50%</th>\n",
       "      <td>3.000000</td>\n",
       "      <td>0.000000</td>\n",
       "      <td>28.000000</td>\n",
       "      <td>0.000000</td>\n",
       "      <td>0.000000</td>\n",
       "      <td>14.454200</td>\n",
       "      <td>155.000000</td>\n",
       "    </tr>\n",
       "    <tr>\n",
       "      <th>75%</th>\n",
       "      <td>3.000000</td>\n",
       "      <td>1.000000</td>\n",
       "      <td>39.000000</td>\n",
       "      <td>1.000000</td>\n",
       "      <td>0.000000</td>\n",
       "      <td>31.275000</td>\n",
       "      <td>256.000000</td>\n",
       "    </tr>\n",
       "    <tr>\n",
       "      <th>max</th>\n",
       "      <td>3.000000</td>\n",
       "      <td>1.000000</td>\n",
       "      <td>80.000000</td>\n",
       "      <td>8.000000</td>\n",
       "      <td>9.000000</td>\n",
       "      <td>512.329200</td>\n",
       "      <td>328.000000</td>\n",
       "    </tr>\n",
       "  </tbody>\n",
       "</table>\n",
       "</div>"
      ],
      "text/plain": [
       "            pclass     survived          age        sibsp        parch  \\\n",
       "count  1309.000000  1309.000000  1046.000000  1309.000000  1309.000000   \n",
       "mean      2.294882     0.381971    29.881135     0.498854     0.385027   \n",
       "std       0.837836     0.486055    14.413500     1.041658     0.865560   \n",
       "min       1.000000     0.000000     0.166700     0.000000     0.000000   \n",
       "25%       2.000000     0.000000    21.000000     0.000000     0.000000   \n",
       "50%       3.000000     0.000000    28.000000     0.000000     0.000000   \n",
       "75%       3.000000     1.000000    39.000000     1.000000     0.000000   \n",
       "max       3.000000     1.000000    80.000000     8.000000     9.000000   \n",
       "\n",
       "              fare        body  \n",
       "count  1308.000000  121.000000  \n",
       "mean     33.295479  160.809917  \n",
       "std      51.758668   97.696922  \n",
       "min       0.000000    1.000000  \n",
       "25%       7.895800   72.000000  \n",
       "50%      14.454200  155.000000  \n",
       "75%      31.275000  256.000000  \n",
       "max     512.329200  328.000000  "
      ]
     },
     "execution_count": 4,
     "metadata": {},
     "output_type": "execute_result"
    }
   ],
   "source": [
    "# Display summary statistics\n",
    "data.describe()"
   ]
  },
  {
   "cell_type": "markdown",
   "metadata": {},
   "source": [
    "### Step 2: Summary Statistics of Numerical Variables  "
   ]
  },
  {
   "cell_type": "markdown",
   "metadata": {},
   "source": [
    "**Passenger Class (`pclass`)**  \n",
    "- The majority of passengers belonged to **3rd class** (median = 3).  \n",
    "\n",
    "**Survival Rate (`survived`)**  \n",
    "- Only **38.2%** of passengers survived (mean = 0.38).  \n",
    "\n",
    "**Age (`age`)**  \n",
    "- Ranges from **0.17 to 80 years** (median = 28).  \n",
    "- **Interquartile range (IQR):** 21 to 39 years.  \n",
    "- **Standard deviation:** 14.41 (significant variability).  \n",
    "\n",
    "**Family Relationships (`sibsp` and `parch`)**  \n",
    "- Most passengers **traveled alone** (median **sibsp = 0**, **parch = 0**).  \n",
    "- Some large families present (**max sibsp = 8, max parch = 9**).  \n",
    "\n",
    "**Fare (`fare`)**  \n",
    "- **Highly skewed** distribution from **$0 to $512.33**.  \n",
    "- **Median fare:** $14.45 (lower than mean = $33.30).  \n",
    "- **75% of passengers paid less than $31.28**, indicating many low-cost fares.  \n",
    "\n",
    "**Body Identification (`body`)**  \n",
    "- Only **121 out of 1309** records contain a body identification number.  \n",
    "\n",
    "**Key Insights:**  \n",
    "- Most passengers were young, in 3rd class, and traveled alone.  \n",
    "- Fare distribution is skewed, requiring potential log transformation.  \n",
    "- Age variability suggests it may be an important survival predictor.\n",
    "- Handling missing values and scaling are necessary preprocessing steps.  \n"
   ]
  },
  {
   "cell_type": "code",
   "execution_count": 5,
   "metadata": {},
   "outputs": [
    {
     "data": {
      "text/html": [
       "<div>\n",
       "<style scoped>\n",
       "    .dataframe tbody tr th:only-of-type {\n",
       "        vertical-align: middle;\n",
       "    }\n",
       "\n",
       "    .dataframe tbody tr th {\n",
       "        vertical-align: top;\n",
       "    }\n",
       "\n",
       "    .dataframe thead th {\n",
       "        text-align: right;\n",
       "    }\n",
       "</style>\n",
       "<table border=\"1\" class=\"dataframe\">\n",
       "  <thead>\n",
       "    <tr style=\"text-align: right;\">\n",
       "      <th></th>\n",
       "      <th>Column</th>\n",
       "      <th>Unique Values</th>\n",
       "      <th>Data Type</th>\n",
       "      <th>Value Summary</th>\n",
       "    </tr>\n",
       "  </thead>\n",
       "  <tbody>\n",
       "    <tr>\n",
       "      <th>2</th>\n",
       "      <td>name</td>\n",
       "      <td>1307</td>\n",
       "      <td>object</td>\n",
       "      <td>Connolly, Miss. Kate: 2, Kelly, Mr. James: 2</td>\n",
       "    </tr>\n",
       "    <tr>\n",
       "      <th>7</th>\n",
       "      <td>ticket</td>\n",
       "      <td>939</td>\n",
       "      <td>object</td>\n",
       "      <td>CA. 2343: 11, CA 2144: 8, 1601: 8, S.O.C. 1487...</td>\n",
       "    </tr>\n",
       "    <tr>\n",
       "      <th>13</th>\n",
       "      <td>home.dest</td>\n",
       "      <td>369</td>\n",
       "      <td>object</td>\n",
       "      <td>New York, NY: 64, London: 14, Montreal, PQ: 10...</td>\n",
       "    </tr>\n",
       "    <tr>\n",
       "      <th>8</th>\n",
       "      <td>fare</td>\n",
       "      <td>281</td>\n",
       "      <td>float64</td>\n",
       "      <td>8.05: 60, 13.0: 59, 7.75: 55, 26.0: 50, 7.8958...</td>\n",
       "    </tr>\n",
       "    <tr>\n",
       "      <th>9</th>\n",
       "      <td>cabin</td>\n",
       "      <td>186</td>\n",
       "      <td>object</td>\n",
       "      <td>C23 C25 C27: 6, G6: 5, B57 B59 B63 B66: 5, F4:...</td>\n",
       "    </tr>\n",
       "    <tr>\n",
       "      <th>12</th>\n",
       "      <td>body</td>\n",
       "      <td>121</td>\n",
       "      <td>float64</td>\n",
       "      <td>All unique</td>\n",
       "    </tr>\n",
       "    <tr>\n",
       "      <th>4</th>\n",
       "      <td>age</td>\n",
       "      <td>98</td>\n",
       "      <td>float64</td>\n",
       "      <td>24.0: 47, 22.0: 43, 21.0: 41, 30.0: 40, 18.0: ...</td>\n",
       "    </tr>\n",
       "    <tr>\n",
       "      <th>11</th>\n",
       "      <td>boat</td>\n",
       "      <td>28</td>\n",
       "      <td>object</td>\n",
       "      <td>13: 39, C: 38, 15: 37, 14: 33, 4: 31, 10: 29, ...</td>\n",
       "    </tr>\n",
       "    <tr>\n",
       "      <th>6</th>\n",
       "      <td>parch</td>\n",
       "      <td>8</td>\n",
       "      <td>int64</td>\n",
       "      <td>0: 1002, 1: 170, 2: 113, 3: 8, 4: 6, 5: 6, 6: ...</td>\n",
       "    </tr>\n",
       "    <tr>\n",
       "      <th>5</th>\n",
       "      <td>sibsp</td>\n",
       "      <td>7</td>\n",
       "      <td>int64</td>\n",
       "      <td>0: 891, 1: 319, 2: 42, 4: 22, 3: 20, 8: 9, 5: 6</td>\n",
       "    </tr>\n",
       "    <tr>\n",
       "      <th>0</th>\n",
       "      <td>pclass</td>\n",
       "      <td>3</td>\n",
       "      <td>int64</td>\n",
       "      <td>3: 709, 1: 323, 2: 277</td>\n",
       "    </tr>\n",
       "    <tr>\n",
       "      <th>10</th>\n",
       "      <td>embarked</td>\n",
       "      <td>3</td>\n",
       "      <td>object</td>\n",
       "      <td>S: 914, C: 270, Q: 123</td>\n",
       "    </tr>\n",
       "    <tr>\n",
       "      <th>1</th>\n",
       "      <td>survived</td>\n",
       "      <td>2</td>\n",
       "      <td>int64</td>\n",
       "      <td>0: 809, 1: 500</td>\n",
       "    </tr>\n",
       "    <tr>\n",
       "      <th>3</th>\n",
       "      <td>sex</td>\n",
       "      <td>2</td>\n",
       "      <td>object</td>\n",
       "      <td>male: 843, female: 466</td>\n",
       "    </tr>\n",
       "  </tbody>\n",
       "</table>\n",
       "</div>"
      ],
      "text/plain": [
       "       Column  Unique Values Data Type  \\\n",
       "2        name           1307    object   \n",
       "7      ticket            939    object   \n",
       "13  home.dest            369    object   \n",
       "8        fare            281   float64   \n",
       "9       cabin            186    object   \n",
       "12       body            121   float64   \n",
       "4         age             98   float64   \n",
       "11       boat             28    object   \n",
       "6       parch              8     int64   \n",
       "5       sibsp              7     int64   \n",
       "0      pclass              3     int64   \n",
       "10   embarked              3    object   \n",
       "1    survived              2     int64   \n",
       "3         sex              2    object   \n",
       "\n",
       "                                        Value Summary  \n",
       "2        Connolly, Miss. Kate: 2, Kelly, Mr. James: 2  \n",
       "7   CA. 2343: 11, CA 2144: 8, 1601: 8, S.O.C. 1487...  \n",
       "13  New York, NY: 64, London: 14, Montreal, PQ: 10...  \n",
       "8   8.05: 60, 13.0: 59, 7.75: 55, 26.0: 50, 7.8958...  \n",
       "9   C23 C25 C27: 6, G6: 5, B57 B59 B63 B66: 5, F4:...  \n",
       "12                                         All unique  \n",
       "4   24.0: 47, 22.0: 43, 21.0: 41, 30.0: 40, 18.0: ...  \n",
       "11  13: 39, C: 38, 15: 37, 14: 33, 4: 31, 10: 29, ...  \n",
       "6   0: 1002, 1: 170, 2: 113, 3: 8, 4: 6, 5: 6, 6: ...  \n",
       "5     0: 891, 1: 319, 2: 42, 4: 22, 3: 20, 8: 9, 5: 6  \n",
       "0                              3: 709, 1: 323, 2: 277  \n",
       "10                             S: 914, C: 270, Q: 123  \n",
       "1                                      0: 809, 1: 500  \n",
       "3                              male: 843, female: 466  "
      ]
     },
     "execution_count": 5,
     "metadata": {},
     "output_type": "execute_result"
    }
   ],
   "source": [
    "# Function to summarize unique values\n",
    "def get_unique_value_summary(column):\n",
    "    unique_values = data[column].value_counts()\n",
    "    \n",
    "    if len(unique_values) <= 5:\n",
    "        return \", \".join([f\"{idx}: {val}\" for idx, val in unique_values.items()])  # Show all values\n",
    "    else:\n",
    "        # Show only repeated values and their counts\n",
    "        repeated_values = unique_values[unique_values > 1]\n",
    "        if not repeated_values.empty:\n",
    "            return \", \".join([f\"{idx}: {val}\" for idx, val in repeated_values.items()])\n",
    "        else:\n",
    "            return \"All unique\"\n",
    "\n",
    "# Compute unique value statistics\n",
    "unique_values_summary = pd.DataFrame({\n",
    "    \"Column\": data.columns,\n",
    "    \"Unique Values\": [data[col].nunique() for col in data.columns],\n",
    "    \"Data Type\": [data[col].dtype for col in data.columns],\n",
    "    \"Value Summary\": [get_unique_value_summary(col) for col in data.columns]\n",
    "})\n",
    "\n",
    "# Sort by number of unique values for better readability\n",
    "unique_values_summary = unique_values_summary.sort_values(by=\"Unique Values\", ascending=False)\n",
    "\n",
    "# Display unique value statistics\n",
    "unique_values_summary\n",
    "\n"
   ]
  },
  {
   "cell_type": "markdown",
   "metadata": {},
   "source": [
    "**External Fact of the column Cabin**\n",
    "\n",
    "Research indicates that the cabin assignments on the RMS Titanic were closely linked to passengers' socioeconomic status and ticket class:\n",
    "\n",
    "- **First-Class Passengers:** Occupied the upper decks (A, B, C), which featured the most luxurious accommodations. These cabins were priced higher and were primarily reserved for wealthy individuals.\n",
    "\n",
    "- **Second-Class Passengers:** Stayed on the middle decks (D, E), offering comfortable yet less opulent facilities compared to first class.\n",
    "\n",
    "- **Third-Class Passengers:** Located on the lower decks (F, G), these accommodations were more modest and affordable, catering to passengers of lower socioeconomic status.\n",
    "\n",
    "This arrangement reflects the broader societal structures of the early 20th century, where socioeconomic status significantly influenced access to amenities and safety. Notably, survival rates during the Titanic disaster varied with cabin class, underscoring the impact of social class on passengers' experiences.\n",
    "\n",
    "**Sources:**\n",
    "- Frey, B. S., Savage, D. A., & Torgler, B. (2010). \"Interaction of natural survival instincts and internalized social norms exploring the Titanic and Lusitania disasters.\" *Proceedings of the National Academy of Sciences*, 107(11), 4862-4865.\n",
    "\n",
    "- Frey, B. S., Savage, D. A., & Torgler, B. (2009). \"Surviving the Titanic Disaster: Economic, Natural and Social Determinants.\" *CESifo Working Paper Series No. 2551*."
   ]
  },
  {
   "cell_type": "markdown",
   "metadata": {},
   "source": [
    "### Step 3: Unique Values Analysis"
   ]
  },
  {
   "cell_type": "markdown",
   "metadata": {},
   "source": [
    "The dataset contains **a mix of categorical and numerical variables**, with varying levels of uniqueness. This are the key insights:\n",
    "\n",
    "- **Highly Unique Columns**  \n",
    "  - *Name* (1,307 unique values): Almost all values are unique except for **\"Connolly, Miss. Kate\" and \"Kelly, Mr. James\"** appearing twice.  \n",
    "  - *Ticket* (939 unique values): Some tickets are shared, for example **\"CA. 2343\" appearing 11 times**.  \n",
    "  - *Home Destination* (369 unique values): The most common destination is **New York, NY (64 occurrences)**.\n",
    "\n",
    "- **Numerical Features with Repeated Values**  \n",
    "  - *Fare* (281 unique values): Some common fares include **$8.05 (60 times)** and **$13.00 (59 times)**.  \n",
    "  - *Age* (98 unique values): The most frequent ages are **24 (47 passengers)** and **22 (43 passengers)**.  \n",
    "\n",
    "- **Categorical Features with Limited Unique Values**  \n",
    "  - *Pclass* (3 unique values): Majority are **3rd class (709 passengers)**.  \n",
    "  - *Sex* (2 unique values): **Male (843 passengers)** outnumbers **female (466 passengers)**.  \n",
    "  - *Survival* (2 unique values): **Non-survivors (809)** outnumber **survivors (500)**.  \n",
    "\n",
    "- **Special Cases**  \n",
    "  - *Cabin* (186 unique values): Some decks are shared, with **\"C23 C25 C27\" appearing 6 times**.  \n",
    "  - *Boat* (28 unique values): Different lifeboats have different capacities, with **Boat 13 carrying 39 passengers**.  \n",
    "  - *Body* (121 unique values): **All unique**, indicating this data likely represents identified bodies.\n",
    "\n",
    "**🔍 Key Takeaways**\n",
    "- Some **categorical columns with many unique values** (*name, ticket, cabin, home.dest*) might require **grouping or encoding adjustments**.  \n",
    "- **Pclass, Sex, and Embarked** have **low cardinality**, making them suitable for **One-Hot Encoding**.  \n",
    "- **Age and Fare** show common values, which might indicate underlying patterns useful for modeling.\n",
    "\n",
    "These insights help in deciding **feature selection and encoding strategies** for better model performance.\n",
    "\n"
   ]
  },
  {
   "cell_type": "markdown",
   "metadata": {},
   "source": [
    "### Step 4: Plotting"
   ]
  },
  {
   "cell_type": "code",
   "execution_count": 6,
   "metadata": {},
   "outputs": [
    {
     "data": {
      "image/png": "[encoded data removed]",
      "text/plain": [
       "<Figure size 600x400 with 1 Axes>"
      ]
     },
     "metadata": {},
     "output_type": "display_data"
    }
   ],
   "source": [
    "# Set visualization style\n",
    "sns.set_style(\"whitegrid\")\n",
    "# Survival count plot\n",
    "plt.figure(figsize=(6, 4))\n",
    "sns.countplot(data=data, x=\"survived\", hue=\"survived\", palette=\"viridis\", legend=False)\n",
    "plt.xticks([0, 1], ['Did Not Survive', 'Survived'])\n",
    "plt.xlabel(\"Survival\")\n",
    "plt.ylabel(\"Count\")\n",
    "plt.title(\"Survival Distribution\")\n",
    "plt.show()"
   ]
  },
  {
   "cell_type": "markdown",
   "metadata": {},
   "source": [
    "🔍 **Observation:**  \n",
    "- More people **did not survive (61.8%)** than survived (38.2%).\n",
    "- This class imbalance should be considered when training a predictive model.\n",
    "\n",
    "---\n"
   ]
  },
  {
   "cell_type": "code",
   "execution_count": 7,
   "metadata": {},
   "outputs": [
    {
     "data": {
      "image/png": "[encoded data removed]",
      "text/plain": [
       "<Figure size 800x500 with 1 Axes>"
      ]
     },
     "metadata": {},
     "output_type": "display_data"
    }
   ],
   "source": [
    "plt.figure(figsize=(8, 5))\n",
    "sns.countplot(x=data[\"pclass\"], hue=data[\"survived\"], palette=\"coolwarm\")\n",
    "plt.xticks([0, 1, 2], ['1st Class', '2nd Class', '3rd Class'])\n",
    "plt.xlabel(\"Passenger Class\")\n",
    "plt.ylabel(\"Count\")\n",
    "plt.title(\"Survival Rate by Passenger Class\")\n",
    "plt.legend([\"Did Not Survive\", \"Survived\"])\n",
    "plt.show()"
   ]
  },
  {
   "cell_type": "markdown",
   "metadata": {},
   "source": [
    "🔍 **Observation:**  \n",
    "- **1st Class passengers** had the highest survival rate.\n",
    "- **3rd Class passengers** had the lowest survival rate, indicating socioeconomic factors played a role.\n",
    "\n",
    "---\n"
   ]
  },
  {
   "cell_type": "code",
   "execution_count": 8,
   "metadata": {},
   "outputs": [
    {
     "data": {
      "image/png": "[encoded data removed]",
      "text/plain": [
       "<Figure size 600x400 with 1 Axes>"
      ]
     },
     "metadata": {},
     "output_type": "display_data"
    }
   ],
   "source": [
    "plt.figure(figsize=(6, 4))\n",
    "sns.countplot(x=data[\"sex\"], hue=data[\"survived\"], palette=\"pastel\")\n",
    "plt.xlabel(\"Sex\")\n",
    "plt.ylabel(\"Count\")\n",
    "plt.title(\"Survival Rate by Gender\")\n",
    "plt.legend([\"Did Not Survive\", \"Survived\"])\n",
    "plt.show()"
   ]
  },
  {
   "cell_type": "markdown",
   "metadata": {},
   "source": [
    "🔍 **Observation:**  \n",
    "- **Females had a significantly higher survival rate** than males.\n",
    "- This aligns with the **\"women and children first\"** principle used during evacuation.\n",
    "\n",
    "---\n"
   ]
  },
  {
   "cell_type": "code",
   "execution_count": 9,
   "metadata": {},
   "outputs": [
    {
     "data": {
      "image/png": "[encoded data removed]",
      "text/plain": [
       "<Figure size 800x500 with 1 Axes>"
      ]
     },
     "metadata": {},
     "output_type": "display_data"
    }
   ],
   "source": [
    "plt.figure(figsize=(8, 5))\n",
    "sns.histplot(data[\"age\"].dropna(), bins=30, kde=True, color=\"skyblue\")\n",
    "plt.xlabel(\"Age\")\n",
    "plt.ylabel(\"Count\")\n",
    "plt.title(\"Age Distribution of Passengers\")\n",
    "plt.show()\n"
   ]
  },
  {
   "cell_type": "markdown",
   "metadata": {},
   "source": [
    "🔍 **Observation:**  \n",
    "- Most passengers were between **20-40 years old**.\n",
    "- A few **elderly passengers (above 60)** were aboard.\n",
    "\n",
    "---\n"
   ]
  },
  {
   "cell_type": "code",
   "execution_count": 10,
   "metadata": {},
   "outputs": [
    {
     "data": {
      "image/png": "[encoded data removed]",
      "text/plain": [
       "<Figure size 800x500 with 1 Axes>"
      ]
     },
     "metadata": {},
     "output_type": "display_data"
    }
   ],
   "source": [
    "plt.figure(figsize=(8, 5))\n",
    "sns.boxplot(data=data, x=\"pclass\", y=\"fare\", hue=\"pclass\", palette=\"muted\", legend=False)\n",
    "plt.xticks([0, 1, 2], ['1st Class', '2nd Class', '3rd Class'])\n",
    "plt.xlabel(\"Passenger Class\")\n",
    "plt.ylabel(\"Fare\")\n",
    "plt.title(\"Fare Distribution by Passenger Class\")\n",
    "plt.ylim(0, 300)  # Limiting y-axis to remove extreme outliers\n",
    "plt.show()"
   ]
  },
  {
   "cell_type": "markdown",
   "metadata": {},
   "source": [
    "🔍 **Observation:**  \n",
    "- **1st Class passengers paid the highest fares**, sometimes exceeding **$250**.\n",
    "- **3rd Class passengers paid significantly lower fares**.\n",
    "\n",
    "---\n"
   ]
  },
  {
   "cell_type": "code",
   "execution_count": 11,
   "metadata": {},
   "outputs": [
    {
     "data": {
      "image/png": "[encoded data removed]",
      "text/plain": [
       "<Figure size 600x400 with 1 Axes>"
      ]
     },
     "metadata": {},
     "output_type": "display_data"
    }
   ],
   "source": [
    "plt.figure(figsize=(6, 4))\n",
    "sns.countplot(x=data[\"embarked\"], hue=data[\"survived\"], palette=\"viridis\")\n",
    "plt.xlabel(\"Embarked Port\")\n",
    "plt.ylabel(\"Count\")\n",
    "plt.title(\"Survival Rate by Embarked Port\")\n",
    "plt.legend([\"Did Not Survive\", \"Survived\"])\n",
    "plt.show()"
   ]
  },
  {
   "cell_type": "markdown",
   "metadata": {},
   "source": [
    "🔍 **Observation:**  \n",
    "- Passengers embarking from **Cherbourg (C) had a higher survival rate**.\n",
    "- Most passengers embarked at **Southampton (S)**.\n",
    "\n",
    "---\n"
   ]
  },
  {
   "cell_type": "markdown",
   "metadata": {},
   "source": [
    "### Step 5: Answering key questions from the slides\n"
   ]
  },
  {
   "cell_type": "markdown",
   "metadata": {},
   "source": [
    "#### 1️⃣ Are the data tidy?\n",
    "The dataset is **mostly tidy**, but some columns require **cleaning**:\n",
    "- **Cabin**: Multiple cabin values in a single cell.\n",
    "- **Boat**: Some passengers listed with multiple lifeboats.\n",
    "- **Ticket**: Needs feature extraction, or removing it as it probably doesn't help the model prediction in any way.\n",
    "\n",
    "✅ **Verdict**: **Mostly tidy**, but requires **feature engineering**.\n",
    "\n",
    "---\n",
    "\n",
    "#### 2️⃣ Are the data tidy but incomplete?\n",
    "Several columns have missing values:\n",
    "| Column      | Missing Values | % Missing |\n",
    "|------------|----------------|-----------|\n",
    "| age        | 263            | 20.1%     |\n",
    "| fare       | 1              | <0.1%     |\n",
    "| embarked   | 2              | 0.15%     |\n",
    "| cabin      | 1014           | 77.5%     |\n",
    "| boat       | 823            | 62.8%     |\n",
    "| body       | 1188           | 90.8%     |\n",
    "| home.dest  | 564            | 43.1%     |\n",
    "\n",
    "✅ **Verdict**: **Yes, data are incomplete.** Imputation is required.\n",
    "\n",
    "---\n",
    "\n",
    "#### 3️⃣ Are the data tidy but with duplicates?\n",
    "Potential duplicates exist:\n",
    "- `name`: 1307 unique values for 1309 rows.\n",
    "- `ticket`: Some tickets shared among passengers.\n",
    "- `cabin`: Potential inconsistencies.\n",
    "\n",
    "✅ **Verdict**: **Possible duplicates** in `Name` and `Ticket`.\n",
    "\n",
    "---\n",
    "\n",
    "#### 4️⃣ Are the data expired or outdated?\n",
    "The dataset **represents a historical event (1912)**, so **expiration is not a concern**.\n",
    "\n",
    "✅ **Verdict**: **No risk of outdated data**.\n",
    "\n",
    "---\n",
    "\n",
    "#### 5️⃣ Are the data incomplete or unrepresentative?\n",
    "- **Survival rates are imbalanced** (38.2% survived, 61.8% did not).\n",
    "- **Missing data may introduce bias**.\n",
    "\n",
    "✅ **Verdict**: **Dataset is incomplete and may not fully represent survival patterns**.\n",
    "\n",
    "---\n",
    "\n",
    "#### 6️⃣ Is the data source known?\n",
    "The **Titanic dataset is well-documented** and sourced from **passenger records**.\n",
    "\n",
    "✅ **Verdict**: **Yes, the source is known** and was provided by the professor and can be founded onlune for public access.\n",
    "\n",
    "---\n",
    "\n",
    "#### 7️⃣ Were gender data manually inputted or derived?\n",
    "- The **`sex` column is probably manually recorded**.\n",
    "- No automated classifier used.\n",
    "\n",
    "✅ **Verdict**: **Gender data is reliable**.\n",
    "\n",
    "---\n",
    "\n",
    "#### 8️⃣ Is there data leakage?\n",
    "- **Boat column** indirectly reveals survival status.\n",
    "- **Body column** only recorded for deceased passengers.\n",
    "✅ **Verdict**: **Yes, potential leakage. Drop `Boat` and `Body`**.\n",
    "\n",
    "---\n",
    "\n",
    "#### 9️⃣ Are the data reliable?\n",
    "- **Survival labels** are historically accurate.\n",
    "- **Potential inconsistencies** in `home.dest` and `cabin`.\n",
    "\n",
    "✅ **Verdict**: **Mostly reliable, but some validation needed**.\n",
    "\n",
    "---\n",
    "\n",
    "#### **📌 Final Summary**\n",
    "| **Issue**                | **Status**                | **Recommended Action**                                   |\n",
    "|--------------------------|--------------------------|----------------------------------------------------------|\n",
    "| **Tidy Data**            | Mostly tidy              | Feature engineering for `Cabin`, `Boat`, `Ticket`, `Name` |\n",
    "| **Missing Data**         | Yes                      | Impute `Age`, `Fare`, `Embarked`                        |\n",
    "| **Duplicates**           | Possibly                 | Check `Name`, `Ticket` for duplicates                   |\n",
    "| **Outdated Data**        | No                       | Not an issue                                            |\n",
    "| **Unrepresentative Data**| Yes                      | Missing data may introduce bias                         |\n",
    "| **Data Leakage?**        | Yes                      | Drop `Boat` and `Body`                                  |\n",
    "| **Data Reliability?**    | Generally reliable       | Validate labels                                         |\n"
   ]
  },
  {
   "cell_type": "markdown",
   "metadata": {},
   "source": [
    "## 📌 **Task 2: Managing Missing Values**\n",
    "\n",
    "The Titanic dataset contains missing values that must be handled to ensure **data integrity** and **model accuracy**. The goal of this section is to:\n",
    "- Identify and analyze missing values.  \n",
    "- Apply appropriate **imputation** or remove columns if necessary.  \n",
    "- Verify that no missing values remain.  \n",
    "\n",
    "Proper handling prevents **bias** and ensures the dataset is **ready for feature engineering and modeling**. 🚀  \n"
   ]
  },
  {
   "cell_type": "markdown",
   "metadata": {},
   "source": [
    "### Step 1: Identifying Missing Values"
   ]
  },
  {
   "cell_type": "markdown",
   "metadata": {},
   "source": [
    "\n",
    "Before handling missing values, we first identify **which columns contain missing data** and their percentage. Understanding missing values is crucial to selecting the best imputation strategy.\n",
    "\n"
   ]
  },
  {
   "cell_type": "code",
   "execution_count": 12,
   "metadata": {},
   "outputs": [
    {
     "name": "stdout",
     "output_type": "stream",
     "text": [
      "🔍 Missing Values Summary:\n",
      "\n",
      "           Missing Values  Percentage\n",
      "body                 1188   90.756303\n",
      "cabin                1014   77.463713\n",
      "boat                  823   62.872422\n",
      "home.dest             564   43.086325\n",
      "age                   263   20.091673\n",
      "embarked                2    0.152788\n",
      "fare                    1    0.076394\n",
      "\n",
      "🚨 Columns Recommended for Dropping (≥75% Missing): ['body', 'cabin']\n"
     ]
    }
   ],
   "source": [
    "# Compute missing values and percentage\n",
    "missing_df = data.isnull().sum().to_frame(name=\"Missing Values\")\n",
    "missing_df[\"Percentage\"] = (missing_df[\"Missing Values\"] / len(data)) * 100\n",
    "\n",
    "# Filter only columns with missing values\n",
    "missing_df = missing_df[missing_df[\"Missing Values\"] > 0].sort_values(by=\"Percentage\", ascending=False)\n",
    "\n",
    "# Display summary\n",
    "print(\"🔍 Missing Values Summary:\\n\")\n",
    "print(missing_df)\n",
    "\n",
    "# Identify columns to drop (above 75% missing values)\n",
    "drop_columns = missing_df[missing_df[\"Percentage\"] >= 75].index.tolist()\n",
    "print(\"\\n🚨 Columns Recommended for Dropping (≥75% Missing):\", drop_columns)"
   ]
  },
  {
   "cell_type": "markdown",
   "metadata": {},
   "source": [
    "- **Columns with more than 75% missing values** typically provide **limited useful information** and can introduce noise.  \n",
    "  - In this dataset, `Body` and `Cabin` exceed this threshold and should be **removed** due to their high percentage of missing values.  \n",
    "\n",
    "- **Data Leakage Consideration:**  \n",
    "  - The `boat` column **implicitly indicates survival**, as it records the lifeboat a passenger boarded.  \n",
    "  - Keeping this feature would allow the model to \"cheat\" by learning direct survival outcomes rather than true predictive patterns.  \n",
    "  - To ensure the integrity of the model, **we should drop `boat`** to prevent **data leakage**.  "
   ]
  },
  {
   "cell_type": "code",
   "execution_count": 13,
   "metadata": {},
   "outputs": [
    {
     "name": "stderr",
     "output_type": "stream",
     "text": [
      "C:\\Users\\ASUS\\AppData\\Roaming\\Python\\Python312\\site-packages\\IPython\\core\\pylabtools.py:152: UserWarning: Glyph 128201 (\\N{CHART WITH DOWNWARDS TREND}) missing from current font.\n",
      "  fig.canvas.print_figure(bytes_io, **kw)\n"
     ]
    },
    {
     "data": {
      "image/png": "[encoded data removed]",
      "text/plain": [
       "<Figure size 1200x600 with 1 Axes>"
      ]
     },
     "metadata": {},
     "output_type": "display_data"
    }
   ],
   "source": [
    "# Ensure missing_df is not empty before plotting\n",
    "if not missing_df.empty:\n",
    "    plt.figure(figsize=(12, 6))\n",
    "\n",
    "    # Use `hue=missing_df.index` and set legend=False to avoid warning\n",
    "    sns.barplot(\n",
    "        x=missing_df.index, \n",
    "        y=missing_df[\"Percentage\"], \n",
    "        hue=missing_df.index,  # Assign hue to the x-variable to avoid FutureWarning\n",
    "        palette=\"Reds_r\",\n",
    "        dodge=False,  # Prevents seaborn from shifting bars\n",
    "        legend=False  # Removes unnecessary legend\n",
    "    )\n",
    "\n",
    "    # Customizing the plot\n",
    "    plt.title(\"📉 Percentage of Missing Values per Column\", fontsize=14)\n",
    "    plt.ylabel(\"Missing Data (%)\", fontsize=12)\n",
    "    plt.xlabel(\"Columns\", fontsize=12)\n",
    "    plt.xticks(rotation=45, ha=\"right\")\n",
    "    plt.grid(axis=\"y\", linestyle=\"--\", alpha=0.7)\n",
    "\n",
    "    # Show values on bars\n",
    "    for index, value in enumerate(missing_df[\"Percentage\"]):\n",
    "        plt.text(index, value + 0.5, f\"{value:.1f}%\", ha=\"center\", fontsize=10)\n",
    "\n",
    "    plt.show()\n",
    "else:\n",
    "    print(\"✅ No missing values found in the dataset.\")\n"
   ]
  },
  {
   "cell_type": "markdown",
   "metadata": {},
   "source": [
    "### Step 2: Strategy for Handling Missing Values\n"
   ]
  },
  {
   "cell_type": "markdown",
   "metadata": {},
   "source": [
    "Now that we have identified missing values, we must decide the best approach to handle them. The strategy depends on:\n",
    "1. The **importance of the column** for survival prediction.\n",
    "2. The **percentage of missing data**—if too high, the column may be dropped.\n",
    "3. Whether missing values are **random or systematic**, which can impact predictive modeling.\n",
    "\n",
    "Below is the **selected strategy for each column**:"
   ]
  },
  {
   "cell_type": "markdown",
   "metadata": {},
   "source": [
    "Taking into account the existing features, I do not believe home.dest adds meaningful predictive value to the model. To support this decision, we first analyze its high cardinality (too many unique values), which can reduce its usefulness in a machine learning model."
   ]
  },
  {
   "cell_type": "code",
   "execution_count": 14,
   "metadata": {},
   "outputs": [
    {
     "name": "stdout",
     "output_type": "stream",
     "text": [
      "Unique values in 'home.dest': 369\n",
      "Proportion of unique values: 28.19%\n"
     ]
    }
   ],
   "source": [
    "# Check number of unique values\n",
    "unique_home_dest = data[\"home.dest\"].nunique()\n",
    "total_samples = len(data)\n",
    "\n",
    "print(f\"Unique values in 'home.dest': {unique_home_dest}\")\n",
    "print(f\"Proportion of unique values: {unique_home_dest / total_samples:.2%}\")\n"
   ]
  },
  {
   "cell_type": "markdown",
   "metadata": {},
   "source": [
    "As observed, there are **369** different **home destinations** among passengers, indicating high cardinality. Including such a feature can significantly increase model complexity without adding substantial predictive power.\n",
    "\n",
    "According to the principle of parsimony, simpler models with fewer, more meaningful features tend to generalize better. Furthermore, survival on the Titanic was primarily influenced by factors such as class, age, gender, and access to lifeboats. Since a passenger’s home destination was only determined after survival, it is logically irrelevant for predicting survival outcomes. Therefore, we **justify dropping** this feature from our model."
   ]
  },
  {
   "cell_type": "code",
   "execution_count": 15,
   "metadata": {},
   "outputs": [
    {
     "name": "stdout",
     "output_type": "stream",
     "text": [
      "Unique values in ticket: 939\n",
      "Proportion of unique values: 71.73%\n"
     ]
    }
   ],
   "source": [
    "# Check number of unique values\n",
    "unique_ticket = data[\"ticket\"].nunique()\n",
    "total_samples = len(data)\n",
    "\n",
    "print(f\"Unique values in ticket: {unique_ticket}\")\n",
    "print(f\"Proportion of unique values: {unique_ticket / total_samples:.2%}\")\n"
   ]
  },
  {
   "cell_type": "markdown",
   "metadata": {},
   "source": [
    "We see ticket is unique for almost each passenger, so we can drop it. also. We can also assume it is random and does not have any impact on the survival. "
   ]
  },
  {
   "cell_type": "markdown",
   "metadata": {},
   "source": [
    "\n",
    "| Column         | Imputation Strategy         | Justification |\n",
    "|--------------|----------------------------|---------------|\n",
    "| **Boat, Body, Home.dest, Ticket** | **Drop the column** | `Boat` and `Body` introduce **data leakage**. `Home.dest` has **high cardinality** and lacks predictive relevance. `Ticket` is mostly unique, providing little value. |\n",
    "| **Age**      | **Mean Imputation**         | Age follows a **roughly normal distribution**, making the mean a reasonable choice to maintain distribution integrity. |\n",
    "| **Fare**     | **Median Imputation**       | `Fare` contains **outliers**, so the median prevents skewing by extreme values. |\n",
    "| **Embarked** | **Mode Imputation**         | `Embarked` is **categorical**, so replacing missing values with the most frequent category preserves distribution. |\n",
    "| **Cabin**    | **New Category (\"Unknown\")** | `Cabin` correlates with class and survival; rather than dropping it, we retain it with an `\"Unknown\"` category to preserve potential information. |"
   ]
  },
  {
   "cell_type": "markdown",
   "metadata": {},
   "source": [
    "### Step 3: Dropping Columns"
   ]
  },
  {
   "cell_type": "markdown",
   "metadata": {},
   "source": [
    "Columns with excessive missing values, or to avoid data leakage or with lack of predictive relevance are removed.\n"
   ]
  },
  {
   "cell_type": "code",
   "execution_count": 16,
   "metadata": {},
   "outputs": [],
   "source": [
    "# Drop Boat, Body, and Home.dest columns due to high missing values and potential leakage\n",
    "data.drop(columns=['boat', 'body', 'home.dest', 'ticket'], inplace=True)"
   ]
  },
  {
   "cell_type": "markdown",
   "metadata": {},
   "source": [
    "✅ **Dropped columns**:\n",
    "- `Boat` (directly indicates survival).\n",
    "- `Body` (only recorded for deceased passengers).\n",
    "- `Home.dest` (not relevant to survival).\n",
    "- `Ticket` (not relevant to survival, high cardniality)."
   ]
  },
  {
   "cell_type": "markdown",
   "metadata": {},
   "source": [
    "### Step 4: Handling Cabin - Before Splitting\n"
   ]
  },
  {
   "cell_type": "markdown",
   "metadata": {},
   "source": [
    "We replace missing values in the `cabin` column with `\"Unknown\"` **before splitting** the dataset. This approach is acceptable because:\n",
    "- **Deterministic Transformation:** Replacing missing values with a fixed value (\"Unknown\") is a simple, deterministic operation that does not rely on statistical estimates from the data.\n",
    "- **Consistency:** It ensures that the same pre-processing is applied to all subsets (training, validation, and test), as the transformation is performed on the entire dataset.\n",
    "- **No Data Leakage:** Since we are not using any information (e.g., the overall distribution) to impute the missing values, there is no risk of data leakage.\n",
    "- **Categorical Feature Handling:** Treating \"Unknown\" as a separate category allows us to capture potential signals related to cabin assignment without losing information.\n",
    "\n",
    "The cabin assignments on the RMS Titanic were closely linked to passengers' socioeconomic status and ticket class:\n",
    "\n",
    "- **First-Class Passengers:** Occupied the upper decks (A, B, C), which featured the most luxurious accommodations. These cabins were priced higher and were primarily reserved for wealthy individuals.\n",
    "\n",
    "- **Second-Class Passengers:** Stayed on the middle decks (D, E), offering comfortable yet less opulent facilities compared to first class.\n",
    "\n",
    "- **Third-Class Passengers:** Located on the lower decks (F, G), these accommodations were more modest and affordable, catering to passengers of lower socioeconomic status.\n",
    "\n",
    "This arrangement reflects the broader societal structures of the early 20th century, where socioeconomic status significantly influenced access to amenities and safety. Notably, survival rates during the Titanic disaster varied with cabin class, underscoring the impact of social class on passengers' experiences. You can observe cabin actuall distribution below in the deckplans of RMS Titanic."
   ]
  },
  {
   "cell_type": "code",
   "execution_count": null,
   "metadata": {},
   "outputs": [
    {
     "data": {
      "text/html": [
       "\n",
       "        <iframe\n",
       "            width=\"100%\"\n",
       "            height=\"600\"\n",
       "            src=\"http://www.titanicsite.freewebspace.com/photo.html\"\n",
       "            frameborder=\"0\"\n",
       "            allowfullscreen\n",
       "            \n",
       "        ></iframe>\n",
       "        "
      ],
      "text/plain": [
       "<IPython.lib.display.IFrame at 0x22cbc1acda0>"
      ]
     },
     "execution_count": 1,
     "metadata": {},
     "output_type": "execute_result"
    }
   ],
   "source": [
    "# URL of the page you want to embed\n",
    "url = \"http://www.titanicsite.freewebspace.com/photo.html\"\n",
    "\n",
    "# Display the iframe in the notebook\n",
    "IFrame(src=url, width='100%', height=600)\n"
   ]
  },
  {
   "cell_type": "markdown",
   "metadata": {},
   "source": [
    "#### Step 4.1: Checking Cabin Values"
   ]
  },
  {
   "cell_type": "markdown",
   "metadata": {},
   "source": [
    "Before any transformations, we first explore the `cabin` column to understand its current state, including missing values and rare entries."
   ]
  },
  {
   "cell_type": "code",
   "execution_count": 17,
   "metadata": {},
   "outputs": [
    {
     "name": "stdout",
     "output_type": "stream",
     "text": [
      "Unique values in 'cabin' before any cleaning:\n",
      "['B5' 'C22 C26' 'E12' 'D7' 'A36' 'C101' nan 'C62 C64' 'B35' 'A23'\n",
      " 'B58 B60' 'D15' 'C6' 'D35' 'C148' 'C97' 'B49' 'C99' 'C52' 'T']\n",
      "\n",
      "❓ Missing 'cabin' entries: 1014\n"
     ]
    }
   ],
   "source": [
    "print(\"Unique values in 'cabin' before any cleaning:\")\n",
    "print(data[\"cabin\"].unique()[:20])  \n",
    "missing_cabin = data[\"cabin\"].isnull().sum()\n",
    "print(f\"\\n❓ Missing 'cabin' entries: {missing_cabin}\")\n"
   ]
  },
  {
   "cell_type": "markdown",
   "metadata": {},
   "source": [
    "#### Step 4.2: Replacing Missing Values and Rare Entries"
   ]
  },
  {
   "cell_type": "markdown",
   "metadata": {},
   "source": [
    "We replace all missing cabin entries with `\"Unknown\"` and handle any rare or suspicious cabin letters (e.g., `'T'`) by treating them as `\"Unknown\"`."
   ]
  },
  {
   "cell_type": "code",
   "execution_count": 18,
   "metadata": {},
   "outputs": [
    {
     "name": "stdout",
     "output_type": "stream",
     "text": [
      "['B' 'C' 'E' 'D' 'A' 'U' 'F' 'G']\n"
     ]
    }
   ],
   "source": [
    "# Step 4.2: Replace missing cabins with \"Unknown\" and cast to string\n",
    "data[\"cabin\"] = data[\"cabin\"].fillna(\"Unknown\").astype(str)\n",
    "\n",
    "# Handle 'T' as 'Unknown' if it exists\n",
    "data[\"cabin\"] = data[\"cabin\"].replace(\"T\", \"Unknown\")\n",
    "\n",
    "# Extract the first letter (deck level), e.g., \"C85\" → \"C\"\n",
    "data[\"cabin\"] = data[\"cabin\"].str[0]\n",
    "\n",
    "print(data[\"cabin\"].unique())"
   ]
  },
  {
   "cell_type": "markdown",
   "metadata": {},
   "source": [
    "#### Step 4.3:  Ordinal Encoding with Verification"
   ]
  },
  {
   "cell_type": "markdown",
   "metadata": {},
   "source": [
    "- **Use `LabelEncoder`** to transform the resulting letters into numeric code, according to scikit learn page \"This transformer should be used to encode target values, i.e. y, and not the input X.\". - Scikit-learn’s [LabelEncoder documentation](https://scikit-learn.org/stable/modules/generated/sklearn.preprocessing.LabelEncoder.html) so in cocnlusion we shouldn't use it. But we can still use another encoder that works the same.\n",
    "- **Verify** that each letter has the **intended numeric assignment** by comparing the `classes_` attribute of the encoder side by side with the actual letters.\n"
   ]
  },
  {
   "cell_type": "code",
   "execution_count": 19,
   "metadata": {},
   "outputs": [
    {
     "name": "stdout",
     "output_type": "stream",
     "text": [
      "Ordinal Encoding Mapping (Alphabetical):\n",
      "'A' -> 0\n",
      "'B' -> 1\n",
      "'C' -> 2\n",
      "'D' -> 3\n",
      "'E' -> 4\n",
      "'F' -> 5\n",
      "'G' -> 6\n",
      "'U' -> 7\n",
      "\n",
      "Preview of cabin and cabin_encoded:\n"
     ]
    },
    {
     "data": {
      "text/html": [
       "<div>\n",
       "<style scoped>\n",
       "    .dataframe tbody tr th:only-of-type {\n",
       "        vertical-align: middle;\n",
       "    }\n",
       "\n",
       "    .dataframe tbody tr th {\n",
       "        vertical-align: top;\n",
       "    }\n",
       "\n",
       "    .dataframe thead th {\n",
       "        text-align: right;\n",
       "    }\n",
       "</style>\n",
       "<table border=\"1\" class=\"dataframe\">\n",
       "  <thead>\n",
       "    <tr style=\"text-align: right;\">\n",
       "      <th></th>\n",
       "      <th>cabin</th>\n",
       "      <th>cabin_encoded</th>\n",
       "    </tr>\n",
       "  </thead>\n",
       "  <tbody>\n",
       "    <tr>\n",
       "      <th>0</th>\n",
       "      <td>B</td>\n",
       "      <td>1</td>\n",
       "    </tr>\n",
       "    <tr>\n",
       "      <th>1</th>\n",
       "      <td>C</td>\n",
       "      <td>2</td>\n",
       "    </tr>\n",
       "    <tr>\n",
       "      <th>2</th>\n",
       "      <td>C</td>\n",
       "      <td>2</td>\n",
       "    </tr>\n",
       "    <tr>\n",
       "      <th>3</th>\n",
       "      <td>C</td>\n",
       "      <td>2</td>\n",
       "    </tr>\n",
       "    <tr>\n",
       "      <th>4</th>\n",
       "      <td>C</td>\n",
       "      <td>2</td>\n",
       "    </tr>\n",
       "    <tr>\n",
       "      <th>5</th>\n",
       "      <td>E</td>\n",
       "      <td>4</td>\n",
       "    </tr>\n",
       "    <tr>\n",
       "      <th>6</th>\n",
       "      <td>D</td>\n",
       "      <td>3</td>\n",
       "    </tr>\n",
       "    <tr>\n",
       "      <th>7</th>\n",
       "      <td>A</td>\n",
       "      <td>0</td>\n",
       "    </tr>\n",
       "    <tr>\n",
       "      <th>8</th>\n",
       "      <td>C</td>\n",
       "      <td>2</td>\n",
       "    </tr>\n",
       "    <tr>\n",
       "      <th>9</th>\n",
       "      <td>U</td>\n",
       "      <td>7</td>\n",
       "    </tr>\n",
       "  </tbody>\n",
       "</table>\n",
       "</div>"
      ],
      "text/plain": [
       "  cabin  cabin_encoded\n",
       "0     B              1\n",
       "1     C              2\n",
       "2     C              2\n",
       "3     C              2\n",
       "4     C              2\n",
       "5     E              4\n",
       "6     D              3\n",
       "7     A              0\n",
       "8     C              2\n",
       "9     U              7"
      ]
     },
     "metadata": {},
     "output_type": "display_data"
    }
   ],
   "source": [
    "# Initialize and fit the OrdinalEncoder on the 'cabin' column\n",
    "ordinal_encoder = OrdinalEncoder()\n",
    "# Note: OrdinalEncoder expects a 2D array, so we pass the column as a DataFrame\n",
    "data[\"cabin_encoded\"] = ordinal_encoder.fit_transform(data[[\"cabin\"]]).astype(int)\n",
    "\n",
    "# Verify the mapping by retrieving the sorted unique categories\n",
    "print(\"Ordinal Encoding Mapping (Alphabetical):\")\n",
    "mapping = {cat: idx for idx, cat in enumerate(ordinal_encoder.categories_[0])}\n",
    "for cat, idx in mapping.items():\n",
    "    print(f\"'{cat}' -> {idx}\")\n",
    "\n",
    "# Display the first few rows to confirm the encoding\n",
    "print(\"\\nPreview of cabin and cabin_encoded:\")\n",
    "display(data[[\"cabin\", \"cabin_encoded\"]].head(10))\n",
    "\n",
    "# Drop the original 'cabin' column\n",
    "data.drop(columns=[\"cabin\"], inplace=True)\n"
   ]
  },
  {
   "cell_type": "markdown",
   "metadata": {},
   "source": [
    "#### Step 4.4: Explanation and Justification"
   ]
  },
  {
   "cell_type": "markdown",
   "metadata": {},
   "source": [
    "- **Missing Values → \"Unknown\":**  \n",
    "  We first assign `\"Unknown\"` to all missing cabin entries, ensuring no data leakage because this is a **deterministic** replacement.\n",
    "\n",
    "- **Extract First Letter:**  \n",
    "  Many cabins are written like `\"C85\"` or `\"B57 B59\"`. Taking only the first letter (`\"C\"`, `\"B\"`) helps group decks logically.\n",
    "\n",
    "- **Replacing `'T'` with `'Unknown'`:**  \n",
    "  If `'T'` is extremely rare or erroneous, this step keeps data consistent.\n",
    "\n",
    "- **Ordinal Encoding**:\n",
    "  1. **Fits** on the **entire** `cabin` column.  \n",
    "  2. **Assigns** each unique letter a numeric code in **alphabetical** order.  \n",
    "  3. The code snippet prints `le_cabin.classes_`, so we can **verify** each letter is mapped as expected.\n",
    "\n",
    "- **Side-by-Side Verification**:\n",
    "  - We **print** how `'A'`, `'B'`, `'C'`, etc. are mapped to **0, 1, 2**, etc.  \n",
    "  - By comparing `data[[\"cabin\", \"cabin_encoded\"]]`, we ensure the correct numeric assignment is applied.\n",
    "\n",
    "Thus, we maintain a **consistent numeric representation** of cabin decks (plus `\"Unknown\"`) while **verifying** the encoder’s mapping.\n"
   ]
  },
  {
   "cell_type": "markdown",
   "metadata": {},
   "source": [
    "### Step 5: Splitting Dataset"
   ]
  },
  {
   "cell_type": "markdown",
   "metadata": {},
   "source": [
    "**Why Splitting Before Imputation?**  \n",
    "\n",
    "In the assignment, **Task 5 (Data Splitting)** was originally placed after handling missing values. However, I decided to **perform the split before imputation** to prevent **data leakage**.  \n",
    "\n",
    "🔹 **Avoiding Data Leakage:**  \n",
    "- If we impute missing values **before splitting**, we use information from the entire dataset to fill in gaps.  \n",
    "- This unintentionally allows the validation and test sets to influence the training set, leading to **inflated model performance** that wouldn't generalize to new data.  \n",
    "\n",
    "🔹 **Correct Approach:**  \n",
    "- First, **split** the dataset into training, validation, and test sets.  \n",
    "- Then, **impute missing values only within the training set**, ensuring that no information from validation or test sets is leaked into training.  \n",
    "\n",
    "By following this approach, the model remains **fairly evaluated on unseen data**, reflecting **real-world performance** more accurately.\n"
   ]
  },
  {
   "cell_type": "code",
   "execution_count": 20,
   "metadata": {},
   "outputs": [
    {
     "name": "stdout",
     "output_type": "stream",
     "text": [
      "Training Set: X=(916, 9), y=(916,)\n",
      "Validation Set: X=(196, 9), y=(196,)\n",
      "Test Set: X=(197, 9), y=(197,)\n"
     ]
    }
   ],
   "source": [
    "# 🎯 Define the target variable\n",
    "target = \"survived\"\n",
    "\n",
    "# 🛠 Define features (X) and target (y)\n",
    "X = data.drop(columns=[target])  # Keep only features, drop the target\n",
    "y = data[target].astype(int)  # Convert target variable to integer\n",
    "\n",
    "# 🚀 Step 1: Perform Splitting Before Data Imputation\n",
    "# First split: Training (70%) and Remaining (30%)\n",
    "X_train, X_temp, y_train, y_temp = train_test_split(\n",
    "    X, y, test_size=0.3, stratify=y, random_state=42\n",
    ")\n",
    "\n",
    "# Second split: Validation (50%) and Test (50%) from remaining 30%\n",
    "X_val, X_test, y_val, y_test = train_test_split(\n",
    "    X_temp, y_temp, test_size=0.5, stratify=y_temp, random_state=42\n",
    ")\n",
    "\n",
    "# ✅ Display dataset sizes after splitting\n",
    "print(f\"Training Set: X={X_train.shape}, y={y_train.shape}\")\n",
    "print(f\"Validation Set: X={X_val.shape}, y={y_val.shape}\")\n",
    "print(f\"Test Set: X={X_test.shape}, y={y_test.shape}\")\n",
    "\n"
   ]
  },
  {
   "cell_type": "markdown",
   "metadata": {},
   "source": [
    "| Dataset      | Percentage | Purpose |\n",
    "|-------------|-----------|---------|\n",
    "| **Training**   | 70%  | Model training |\n",
    "| **Validation** | 15%  | Hyperparameter tuning |\n",
    "| **Test**       | 15%  | Final evaluation |"
   ]
  },
  {
   "cell_type": "markdown",
   "metadata": {},
   "source": [
    "### Step 6: Hangling Imputations"
   ]
  },
  {
   "cell_type": "markdown",
   "metadata": {},
   "source": [
    "#### Step 6.1: Handling Embarked - Mode Imputation\n"
   ]
  },
  {
   "cell_type": "markdown",
   "metadata": {},
   "source": [
    "Since **only two values** are missing, we replace them with the most common value."
   ]
  },
  {
   "cell_type": "code",
   "execution_count": 21,
   "metadata": {},
   "outputs": [
    {
     "name": "stdout",
     "output_type": "stream",
     "text": [
      "✅ Missing values in 'embarked' filled with mode: S\n"
     ]
    }
   ],
   "source": [
    "# 🚀 Compute mode of 'embarked' **only on training data**\n",
    "most_common_embarked = X_train[\"embarked\"].mode().iloc[0]  \n",
    "\n",
    "# 🏗 Apply mode imputation using the training mode\n",
    "X_train[\"embarked\"] = X_train[\"embarked\"].fillna(most_common_embarked)\n",
    "X_val[\"embarked\"] = X_val[\"embarked\"].fillna(most_common_embarked)\n",
    "X_test[\"embarked\"] = X_test[\"embarked\"].fillna(most_common_embarked)\n",
    "\n",
    "print(f\"✅ Missing values in 'embarked' filled with mode: {most_common_embarked}\")\n"
   ]
  },
  {
   "cell_type": "markdown",
   "metadata": {},
   "source": [
    "####  Step 6.2: Handling Age - Mean Imputation"
   ]
  },
  {
   "cell_type": "markdown",
   "metadata": {},
   "source": [
    "We aim to **impute missing Age values** using a **grouped mean approach**, proving that **Pclass is the best grouping feature** to maintain the dataset’s demographic structure, even though sex could also be a posibility.\n"
   ]
  },
  {
   "cell_type": "markdown",
   "metadata": {},
   "source": [
    "Compute Correlation Between Age and Categorical Variables"
   ]
  },
  {
   "cell_type": "code",
   "execution_count": 22,
   "metadata": {},
   "outputs": [
    {
     "name": "stdout",
     "output_type": "stream",
     "text": [
      "📊 Correlation between Age and Categorical Features:\n",
      "  Feature  Correlation with Age\n",
      "1     sex              0.088947\n",
      "0  pclass             -0.398730\n"
     ]
    }
   ],
   "source": [
    "# Convert 'sex' column to numerical values for correlation computation\n",
    "X_train[\"sex_numeric\"] = X_train[\"sex\"].map({\"male\": 1, \"female\": 0})\n",
    "\n",
    "# Compute correlation between age and categorical variables (pclass and sex_numeric)\n",
    "correlation_pclass = X_train[\"age\"].corr(X_train[\"pclass\"])\n",
    "correlation_sex = X_train[\"age\"].corr(X_train[\"sex_numeric\"])\n",
    "\n",
    "# Create a DataFrame to store correlation values\n",
    "correlation_df = pd.DataFrame({\n",
    "    \"Feature\": [\"pclass\", \"sex\"],\n",
    "    \"Correlation with Age\": [correlation_pclass, correlation_sex]\n",
    "}).sort_values(by=\"Correlation with Age\", ascending=False)\n",
    "\n",
    "# Display correlation values\n",
    "print(\"📊 Correlation between Age and Categorical Features:\")\n",
    "print(correlation_df)\n",
    "\n",
    "# Select the feature with the highest correlation\n",
    "best_grouping_feature = correlation_df.iloc[correlation_df[\"Correlation with Age\"].idxmax(), 0]\n",
    "best_correlation_value = correlation_df[\"Correlation with Age\"].abs().max()"
   ]
  },
  {
   "cell_type": "markdown",
   "metadata": {},
   "source": [
    "Visualizing the Relationship Between Age and Best Feature"
   ]
  },
  {
   "cell_type": "code",
   "execution_count": 23,
   "metadata": {},
   "outputs": [
    {
     "data": {
      "image/png": "[encoded data removed]",
      "text/plain": [
       "<Figure size 1400x500 with 2 Axes>"
      ]
     },
     "metadata": {},
     "output_type": "display_data"
    },
    {
     "name": "stdout",
     "output_type": "stream",
     "text": [
      "✅ The best feature for grouping Age imputation is: pclass (Correlation: 0.40)\n"
     ]
    }
   ],
   "source": [
    "# Plot Age Distribution by Pclass and Sex\n",
    "fig, axes = plt.subplots(1, 2, figsize=(14, 5))\n",
    "\n",
    "sns.boxplot(data=X_train, x=\"pclass\", y=\"age\", hue=\"pclass\", dodge=False, palette=\"coolwarm\", legend=False, ax=axes[0])\n",
    "axes[0].set_title(f\"Age Distribution by Pclass (Correlation: {correlation_pclass:.2f})\")\n",
    "axes[0].set_xlabel(\"Pclass\")\n",
    "axes[0].set_ylabel(\"Age\")\n",
    "\n",
    "sns.boxplot(data=X_train, x=\"sex\", y=\"age\", hue=\"sex\", dodge=False, palette=\"coolwarm\", legend=False, ax=axes[1])\n",
    "axes[1].set_title(f\"Age Distribution by Sex (Correlation: {correlation_sex:.2f})\")\n",
    "axes[1].set_xlabel(\"Sex\")\n",
    "axes[1].set_ylabel(\"Age\")\n",
    "\n",
    "plt.tight_layout()\n",
    "plt.show()\n",
    "\n",
    "# Print the final selected feature\n",
    "print(f\"✅ The best feature for grouping Age imputation is: {best_grouping_feature} (Correlation: {best_correlation_value:.2f})\")\n",
    "\n"
   ]
  },
  {
   "cell_type": "markdown",
   "metadata": {},
   "source": [
    " Analyzing Age Ranges for Each Pclass Group"
   ]
  },
  {
   "cell_type": "code",
   "execution_count": 24,
   "metadata": {},
   "outputs": [
    {
     "name": "stdout",
     "output_type": "stream",
     "text": [
      "📊 Mean Age per Pclass:\n",
      "pclass\n",
      "1    38.531609\n",
      "2    29.743845\n",
      "3    24.762488\n",
      "Name: age, dtype: float64\n"
     ]
    },
    {
     "data": {
      "image/png": "[encoded data removed]",
      "text/plain": [
       "<Figure size 800x500 with 1 Axes>"
      ]
     },
     "metadata": {},
     "output_type": "display_data"
    }
   ],
   "source": [
    "# Compute mean age per Pclass\n",
    "age_means_by_pclass = X_train.groupby(\"pclass\")[\"age\"].mean()\n",
    "\n",
    "# Display mean age per Pclass\n",
    "print(\"📊 Mean Age per Pclass:\")\n",
    "print(age_means_by_pclass)\n",
    "\n",
    "# Plot Age Distribution by Pclass (Fixing Future Warning)\n",
    "plt.figure(figsize=(8, 5))\n",
    "sns.barplot(data=age_means_by_pclass.reset_index(), x=\"pclass\", y=\"age\", hue=\"pclass\", palette=\"coolwarm\", dodge=False)\n",
    "plt.xlabel(\"Pclass\")\n",
    "plt.ylabel(\"Mean Age\")\n",
    "plt.title(\"Mean Age by Pclass\")\n",
    "plt.grid(alpha=0.3)\n",
    "plt.legend([], frameon=False)\n",
    "plt.show()\n"
   ]
  },
  {
   "cell_type": "markdown",
   "metadata": {},
   "source": [
    "Correlation Matrix"
   ]
  },
  {
   "cell_type": "code",
   "execution_count": 25,
   "metadata": {},
   "outputs": [
    {
     "name": "stderr",
     "output_type": "stream",
     "text": [
      "C:\\Users\\ASUS\\AppData\\Roaming\\Python\\Python312\\site-packages\\IPython\\core\\pylabtools.py:152: UserWarning: Glyph 128202 (\\N{BAR CHART}) missing from current font.\n",
      "  fig.canvas.print_figure(bytes_io, **kw)\n"
     ]
    },
    {
     "data": {
      "image/png": "[encoded data removed]",
      "text/plain": [
       "<Figure size 800x500 with 2 Axes>"
      ]
     },
     "metadata": {},
     "output_type": "display_data"
    }
   ],
   "source": [
    "# Compute correlation matrix for numerical features\n",
    "numerical_features = [\"age\", \"pclass\", \"fare\", \"sibsp\", \"parch\"]\n",
    "corr_matrix = X_train[numerical_features].corr()\n",
    "\n",
    "# Plot correlation heatmap\n",
    "plt.figure(figsize=(8, 5))\n",
    "sns.heatmap(corr_matrix, annot=True, cmap=\"coolwarm\", fmt=\".2f\", linewidths=0.5)\n",
    "plt.title(\"📊 Correlation Matrix of Numerical Features\")\n",
    "plt.show()\n"
   ]
  },
  {
   "cell_type": "markdown",
   "metadata": {},
   "source": [
    "Apply Pclass-Based Mean Imputation"
   ]
  },
  {
   "cell_type": "code",
   "execution_count": 26,
   "metadata": {},
   "outputs": [
    {
     "name": "stdout",
     "output_type": "stream",
     "text": [
      "✅ Age imputation completed using Pclass-specific means.\n"
     ]
    }
   ],
   "source": [
    "# 🚀 Compute mean age per Pclass in training data\n",
    "age_means_by_pclass = X_train.groupby(\"pclass\")[\"age\"].mean()\n",
    "\n",
    "# 🏗 Apply Pclass-based mean imputation for missing Age values\n",
    "for pclass, mean_age in age_means_by_pclass.items():\n",
    "    X_train.loc[(X_train[\"age\"].isnull()) & (X_train[\"pclass\"] == pclass), \"age\"] = mean_age\n",
    "    X_val.loc[(X_val[\"age\"].isnull()) & (X_val[\"pclass\"] == pclass), \"age\"] = mean_age\n",
    "    X_test.loc[(X_test[\"age\"].isnull()) & (X_test[\"pclass\"] == pclass), \"age\"] = mean_age\n",
    "\n",
    "print(\"✅ Age imputation completed using Pclass-specific means.\")\n",
    "\n"
   ]
  },
  {
   "cell_type": "code",
   "execution_count": 27,
   "metadata": {},
   "outputs": [],
   "source": [
    "# Drop \"sex_numeric\" column after imputation\n",
    "X_train.drop(columns=[\"sex_numeric\"], inplace=True)"
   ]
  },
  {
   "cell_type": "markdown",
   "metadata": {},
   "source": [
    "**Filled missing Age values using Pclass-specific means:**\n",
    "- **First-Class:** ~38.53 years  \n",
    "- **Second-Class:** ~29.74 years  \n",
    "- **Third-Class:** ~24.76 years  \n",
    "\n",
    "🔍 **Justification:**\n",
    "- Instead of a **single mean (~29.88 years)**, we used **grouped means** based on **Pclass** to reflect the actual distribution.  \n",
    "- **First-class passengers tend to be older**, while **third-class passengers are generally younger**.  \n",
    "- This approach **preserves the real demographic structure** of the dataset and avoids distorting the age distribution.\n",
    "\n"
   ]
  },
  {
   "cell_type": "markdown",
   "metadata": {},
   "source": [
    "#### Step 6.3: Handling Fare - Median Imputation\n"
   ]
  },
  {
   "cell_type": "markdown",
   "metadata": {},
   "source": [
    "Since only **one fare** is missing, we replace it with the **median** to prevent outliers from skewing the data."
   ]
  },
  {
   "cell_type": "code",
   "execution_count": 28,
   "metadata": {},
   "outputs": [
    {
     "name": "stdout",
     "output_type": "stream",
     "text": [
      "✅ Missing value in 'Fare' filled with median: 14.4542\n"
     ]
    }
   ],
   "source": [
    "# 🚀 Compute median fare **only on training data**\n",
    "median_fare = X_train[\"fare\"].median()\n",
    "\n",
    "# 🏗 Apply median imputation using the training median\n",
    "X_train[\"fare\"] = X_train[\"fare\"].fillna(median_fare)\n",
    "X_val[\"fare\"] = X_val[\"fare\"].fillna(median_fare)\n",
    "X_test[\"fare\"] = X_test[\"fare\"].fillna(median_fare)\n",
    "\n",
    "print(f\"✅ Missing value in 'Fare' filled with median: {median_fare}\")"
   ]
  },
  {
   "cell_type": "markdown",
   "metadata": {},
   "source": [
    "### Step 7: Verifying Data After Handling Missing Values"
   ]
  },
  {
   "cell_type": "markdown",
   "metadata": {},
   "source": [
    "To ensure all missing values have been handled correctly, we re-check the dataset."
   ]
  },
  {
   "cell_type": "code",
   "execution_count": 29,
   "metadata": {},
   "outputs": [
    {
     "name": "stdout",
     "output_type": "stream",
     "text": [
      "✅ No missing values remain in Training Set (X_train).\n",
      "✅ No missing values remain in Validation Set (X_val).\n",
      "✅ No missing values remain in Test Set (X_test).\n"
     ]
    }
   ],
   "source": [
    "# 🚀 Function to check missing values in a dataset\n",
    "def check_missing_values(dataset, name):\n",
    "    missing_values = dataset.isnull().sum()\n",
    "    missing_values = missing_values[missing_values > 0]  # Filter only columns with missing values\n",
    "    \n",
    "    if missing_values.empty:\n",
    "        print(f\"✅ No missing values remain in {name}.\")\n",
    "    else:\n",
    "        print(f\"⚠️ Columns with remaining missing values in {name}:\")\n",
    "        print(missing_values)\n",
    "\n",
    "# 🔍 Check missing values in all sets\n",
    "check_missing_values(X_train, \"Training Set (X_train)\")\n",
    "check_missing_values(X_val, \"Validation Set (X_val)\")\n",
    "check_missing_values(X_test, \"Test Set (X_test)\")\n"
   ]
  },
  {
   "cell_type": "markdown",
   "metadata": {},
   "source": [
    "## 📌 **Task 3: Encoding Categorical Variables**\n",
    "\n",
    "Machine learning models typically require **numerical inputs**, so categorical variables must be transformed into numerical representations.  \n",
    "In this step, we:  \n",
    "- **Identify categorical variables** in the dataset.  \n",
    "- **Apply OneHotEncoder** to convert them into numerical form.  \n",
    "- **Discuss the impact** of encoding on model performance.  \n"
   ]
  },
  {
   "cell_type": "markdown",
   "metadata": {},
   "source": [
    "### Step 1: Feature Engineering: Family Size"
   ]
  },
  {
   "cell_type": "markdown",
   "metadata": {},
   "source": [
    "- The dataset contains **`sibsp` (siblings/spouses aboard)** and **`parch` (parents/children aboard)**.\n",
    "- These two features are summed into a **new column**: `family_size`.\n",
    "- A single passenger can travel **alone**, with a **small family** (2-4 members), or with a **large family** (5+ members).\n",
    "- We apply **ordinal encoding** to represent these categories numerically.\n",
    "- **Why?** Family size **may impact survival**, as larger families may have had difficulty staying together."
   ]
  },
  {
   "cell_type": "code",
   "execution_count": 30,
   "metadata": {},
   "outputs": [
    {
     "name": "stdout",
     "output_type": "stream",
     "text": [
      "✅ 'family_size' successfully created in all X_sets.\n"
     ]
    }
   ],
   "source": [
    "# Create family_size column for all datasets\n",
    "for dataset in [X_train, X_val, X_test]:\n",
    "    dataset[\"family_size\"] = dataset[\"sibsp\"] + dataset[\"parch\"] + 1  # Include the passenger\n",
    "\n",
    "# Drop the original 'sibsp' and 'parch' columns\n",
    "for dataset in [X_train, X_val, X_test]:\n",
    "    dataset.drop(columns=[\"sibsp\", \"parch\"], inplace=True)\n",
    "\n",
    "# Verify that the family_size column exists\n",
    "print(\"✅ 'family_size' successfully created in all X_sets.\")"
   ]
  },
  {
   "cell_type": "markdown",
   "metadata": {},
   "source": [
    "### Step 2: Identifying Categorical Variables"
   ]
  },
  {
   "cell_type": "code",
   "execution_count": 31,
   "metadata": {},
   "outputs": [
    {
     "name": "stdout",
     "output_type": "stream",
     "text": [
      "✅ Common Categorical Variables Across Sets: ['name', 'embarked', 'sex']\n"
     ]
    }
   ],
   "source": [
    "# 🚀 Function to identify categorical variables\n",
    "def get_categorical_columns(dataset, name):\n",
    "    categorical_columns = dataset.select_dtypes(include=[\"object\"]).columns\n",
    "    return list(categorical_columns)\n",
    "\n",
    "# 🔍 Identify categorical variables in all sets\n",
    "categorical_train = get_categorical_columns(X_train, \"Training Set (X_train)\")\n",
    "categorical_val = get_categorical_columns(X_val, \"Validation Set (X_val)\")\n",
    "categorical_test = get_categorical_columns(X_test, \"Test Set (X_test)\")\n",
    "\n",
    "# 🛠 Ensure consistency across sets\n",
    "common_categorical = list(set(categorical_train) & set(categorical_val) & set(categorical_test))\n",
    "print(f\"✅ Common Categorical Variables Across Sets: {common_categorical}\")\n"
   ]
  },
  {
   "cell_type": "markdown",
   "metadata": {},
   "source": [
    "### Step 3: Choosing the Encoding Method"
   ]
  },
  {
   "cell_type": "markdown",
   "metadata": {},
   "source": [
    "Based on **lecture slides**, furter analysis, google and chatgpt recomendation we decide the following encoding methods, we apply:\n",
    "| Column   | Encoding Method | Justification |\n",
    "|----------|----------------|---------------|\n",
    "| **sex**  | One-Hot Encoding | Binary categorical (0/1), simple transformation. |\n",
    "| **embarked** | One-Hot Encoding | Small number of unique values (`C`, `Q`, `S`). |\n",
    "| **cabin**  | Label Encoding | Too many unique values, better handled as categorical numbers. |\n",
    "| **name/title**  | One-Hot Encoding | Titles provide social status information, impacting survival probability. |\n"
   ]
  },
  {
   "cell_type": "markdown",
   "metadata": {},
   "source": [
    "#### Step 3.1: Extracting Titles from the \"name\" Column and Encoding \"Titles\"- One Hot Encoding"
   ]
  },
  {
   "cell_type": "markdown",
   "metadata": {},
   "source": [
    "Passenger names in the Titanic dataset contain valuable information in the form of titles (e.g., \"Mr\", \"Mrs\", \"Miss\"). These titles can provide insights into social status and potentially impact survival predictions. \n",
    "\n",
    "**Steps:**\n",
    "1. **Extract the Title:**  \n",
    "   - The names follow a format like `\"Last Name, Title. First Name\"`.  \n",
    "   - We split the name on `\", \"` to isolate the portion containing the title, then split again on `\".\"` to extract the title itself.\n",
    "2. **Display Title Distribution:**  \n",
    "   - We print the value counts of the extracted titles to understand their distribution.\n",
    "3. **Group Rare Titles:**  \n",
    "   - Titles that appear infrequently (such as `\"Lady\"`, `\"Capt\"`, `\"Dr\"`, etc.) are grouped under the category `\"Rare\"` to reduce sparsity.\n",
    "4. **Standardize Similar Titles:**  \n",
    "   - Titles with minor variations (like `\"Mlle\"` and `\"Ms\"`) are standardized to `\"Miss\"`, and `\"Mme\"` is standardized to `\"Mrs\"`.\n",
    "\n",
    "This process adds a new `Title` column to the dataset, allowing the model to leverage social and demographic information that may influence survival.\n"
   ]
  },
  {
   "cell_type": "code",
   "execution_count": 32,
   "metadata": {},
   "outputs": [],
   "source": [
    "# Extract titles from the \"name\" column in each X_set\n",
    "for dataset in [X_train, X_val, X_test]:\n",
    "    dataset[\"Title\"] = dataset[\"name\"].str.split(\", \", expand=True)[1].str.split(\".\", expand=True)[0]\n",
    "\n",
    "# Group rare titles into a single category \"Rare\"\n",
    "for dataset in [X_train, X_val, X_test]:\n",
    "    dataset[\"Title\"] = dataset[\"Title\"].replace(\n",
    "        ['Lady', 'the Countess', 'Capt', 'Col', 'Don', 'Dr', 'Major', 'Rev', 'Sir', 'Jonkheer', 'Dona'],\n",
    "        'Rare'\n",
    "    )\n",
    "\n",
    "# Standardize similar titles\n",
    "for dataset in [X_train, X_val, X_test]:\n",
    "    dataset[\"Title\"] = dataset[\"Title\"].replace({'Mlle': 'Miss', 'Ms': 'Miss', 'Mme': 'Mrs'})\n",
    "\n",
    "# Drop the \"name\" column as it is no longer needed\n",
    "for dataset in [X_train, X_val, X_test]:\n",
    "    dataset.drop(columns=[\"name\"], inplace=True)"
   ]
  },
  {
   "cell_type": "markdown",
   "metadata": {},
   "source": [
    "Now that we have it separated in 5 different categories we are able to use One-Hot Encoding:"
   ]
  },
  {
   "cell_type": "code",
   "execution_count": 33,
   "metadata": {},
   "outputs": [],
   "source": [
    "# Initialize One-Hot Encoder with unknown value handling\n",
    "title_encoder = OneHotEncoder(sparse_output=False, drop=\"first\", handle_unknown=\"ignore\")\n",
    "\n",
    "# Fit One-Hot Encoder on X_train titles\n",
    "title_encoder.fit(X_train[[\"Title\"]])\n",
    "\n",
    "# Transform titles into one-hot encoded format\n",
    "encoded_titles_train = title_encoder.transform(X_train[[\"Title\"]])\n",
    "encoded_titles_val = title_encoder.transform(X_val[[\"Title\"]])\n",
    "encoded_titles_test = title_encoder.transform(X_test[[\"Title\"]])\n",
    "\n",
    "# Convert to DataFrame with appropriate column names\n",
    "encoded_titles_train_df = pd.DataFrame(encoded_titles_train, \n",
    "                                       columns=title_encoder.get_feature_names_out([\"Title\"]),\n",
    "                                       index=X_train.index)\n",
    "\n",
    "encoded_titles_val_df = pd.DataFrame(encoded_titles_val, \n",
    "                                     columns=title_encoder.get_feature_names_out([\"Title\"]),\n",
    "                                     index=X_val.index)\n",
    "\n",
    "encoded_titles_test_df = pd.DataFrame(encoded_titles_test, \n",
    "                                      columns=title_encoder.get_feature_names_out([\"Title\"]),\n",
    "                                      index=X_test.index)\n",
    "\n",
    "# Drop the original \"Title\" column from each dataset\n",
    "X_train.drop(columns=[\"Title\"], inplace=True)\n",
    "X_val.drop(columns=[\"Title\"], inplace=True)\n",
    "X_test.drop(columns=[\"Title\"], inplace=True)\n",
    "\n",
    "# Merge the one-hot encoded features back to each dataset\n",
    "X_train = pd.concat([X_train.reset_index(drop=True), encoded_titles_train_df.reset_index(drop=True)], axis=1)\n",
    "X_val = pd.concat([X_val.reset_index(drop=True), encoded_titles_val_df.reset_index(drop=True)], axis=1)\n",
    "X_test = pd.concat([X_test.reset_index(drop=True), encoded_titles_test_df.reset_index(drop=True)], axis=1)"
   ]
  },
  {
   "cell_type": "markdown",
   "metadata": {},
   "source": [
    "#### Step 3.2: Encoding for \"sex\" and \"embarked\" - One Hot Encoding"
   ]
  },
  {
   "cell_type": "markdown",
   "metadata": {},
   "source": [
    "The following could be done to \"pclass\" but it doesn't affect in nothing the accuracy so for parsimony, so i'm not including it as it adds unecessary complexity."
   ]
  },
  {
   "cell_type": "code",
   "execution_count": 34,
   "metadata": {},
   "outputs": [
    {
     "data": {
      "text/plain": [
       "'\\'\\n\\n# select pclass for ordinal encoding\\nordinal_features = [\"pclass\"]\\n\\n# Initialize the Ordinal Encoder\\nordinal_encoder = OrdinalEncoder(categories=\"auto\", handle_unknown=\"use_encoded_value\", unknown_value=-1)\\n\\n# Fit the Ordinal Encoder on X_train and transform all sets\\nX_train[ordinal_features] = ordinal_encoder.fit_transform(X_train[ordinal_features])\\nX_val[ordinal_features] = ordinal_encoder.transform(X_val[ordinal_features])\\nX_test[ordinal_features] = ordinal_encoder.transform(X_test[ordinal_features])\\n\\n'"
      ]
     },
     "execution_count": 34,
     "metadata": {},
     "output_type": "execute_result"
    }
   ],
   "source": [
    "''''\n",
    "\n",
    "# select pclass for ordinal encoding\n",
    "ordinal_features = [\"pclass\"]\n",
    "\n",
    "# Initialize the Ordinal Encoder\n",
    "ordinal_encoder = OrdinalEncoder(categories=\"auto\", handle_unknown=\"use_encoded_value\", unknown_value=-1)\n",
    "\n",
    "# Fit the Ordinal Encoder on X_train and transform all sets\n",
    "X_train[ordinal_features] = ordinal_encoder.fit_transform(X_train[ordinal_features])\n",
    "X_val[ordinal_features] = ordinal_encoder.transform(X_val[ordinal_features])\n",
    "X_test[ordinal_features] = ordinal_encoder.transform(X_test[ordinal_features])\n",
    "\n",
    "'''"
   ]
  },
  {
   "cell_type": "markdown",
   "metadata": {},
   "source": [
    "Since \"sex\" and \"embarked\" have **a small number of categories**, One-Hot Encoding converts them into **binary columns**.\n"
   ]
  },
  {
   "cell_type": "code",
   "execution_count": 35,
   "metadata": {},
   "outputs": [
    {
     "name": "stdout",
     "output_type": "stream",
     "text": [
      "✅ One-Hot Encoding successfully applied to all datasets.\n",
      "(916, 12) (196, 12) (197, 12)\n"
     ]
    }
   ],
   "source": [
    "# 🔍 Select columns for One-Hot Encoding\n",
    "one_hot_columns = [\"sex\", \"embarked\"]\n",
    "\n",
    "# 🚀 Initialize One-Hot Encoder with Unknown Handling\n",
    "encoder = OneHotEncoder(sparse_output=False, drop=\"first\", handle_unknown=\"ignore\")\n",
    "\n",
    "# 🎯 Fit on Training Set (X_train) and Transform\n",
    "X_train_encoded = encoder.fit_transform(X_train[one_hot_columns])\n",
    "X_val_encoded = encoder.transform(X_val[one_hot_columns])\n",
    "X_test_encoded = encoder.transform(X_test[one_hot_columns])\n",
    "\n",
    "# 📌 Convert to DataFrames with Column Names\n",
    "encoded_train_df = pd.DataFrame(X_train_encoded, columns=encoder.get_feature_names_out(one_hot_columns), index=X_train.index)\n",
    "encoded_val_df = pd.DataFrame(X_val_encoded, columns=encoder.get_feature_names_out(one_hot_columns), index=X_val.index)\n",
    "encoded_test_df = pd.DataFrame(X_test_encoded, columns=encoder.get_feature_names_out(one_hot_columns), index=X_test.index)\n",
    "\n",
    "# 🛠 Drop Original Categorical Columns and Merge Encoded Features\n",
    "X_train = X_train.drop(columns=one_hot_columns).reset_index(drop=True)\n",
    "X_val = X_val.drop(columns=one_hot_columns).reset_index(drop=True)\n",
    "X_test = X_test.drop(columns=one_hot_columns).reset_index(drop=True)\n",
    "\n",
    "X_train = pd.concat([X_train, encoded_train_df], axis=1)\n",
    "X_val = pd.concat([X_val, encoded_val_df], axis=1)\n",
    "X_test = pd.concat([X_test, encoded_test_df], axis=1)\n",
    "\n",
    "print(\"✅ One-Hot Encoding successfully applied to all datasets.\")\n",
    "print(X_train.shape, X_val.shape, X_test.shape)  # Display new shapes"
   ]
  },
  {
   "cell_type": "markdown",
   "metadata": {},
   "source": [
    "✅ **Applied One-Hot Encoding**\n",
    "- Converted **\"sex\"** to `sex_male` (0 = female, 1 = male).\n",
    "- Converted **\"embarked\"** into binary columns (`embarked_Q`, `embarked_S`).\n"
   ]
  },
  {
   "cell_type": "markdown",
   "metadata": {},
   "source": [
    "### Step 4: Verifying Encoded Data"
   ]
  },
  {
   "cell_type": "markdown",
   "metadata": {},
   "source": [
    "**Textual Feature Transformation Considerations**\n",
    "\n",
    "Since our dataset does not contain any textual features (such as free-form text, reviews, or descriptions), there is no need to apply Bag-of-Words (BoW) or TF-IDF. Instead, we use encoding techniques like Label Encoding and One-Hot Encoding to transform categorical variables (e.g., the cabin information) into numerical features.\n"
   ]
  },
  {
   "cell_type": "markdown",
   "metadata": {},
   "source": [
    "After encoding, we check that:\n",
    "1. **Original categorical columns are removed**.\n",
    "2. **Newly encoded numerical features exist**.\n"
   ]
  },
  {
   "cell_type": "code",
   "execution_count": 36,
   "metadata": {},
   "outputs": [
    {
     "name": "stdout",
     "output_type": "stream",
     "text": [
      "📊 X_train Preview:\n"
     ]
    },
    {
     "data": {
      "text/html": [
       "<div>\n",
       "<style scoped>\n",
       "    .dataframe tbody tr th:only-of-type {\n",
       "        vertical-align: middle;\n",
       "    }\n",
       "\n",
       "    .dataframe tbody tr th {\n",
       "        vertical-align: top;\n",
       "    }\n",
       "\n",
       "    .dataframe thead th {\n",
       "        text-align: right;\n",
       "    }\n",
       "</style>\n",
       "<table border=\"1\" class=\"dataframe\">\n",
       "  <thead>\n",
       "    <tr style=\"text-align: right;\">\n",
       "      <th></th>\n",
       "      <th>pclass</th>\n",
       "      <th>age</th>\n",
       "      <th>fare</th>\n",
       "      <th>cabin_encoded</th>\n",
       "      <th>family_size</th>\n",
       "      <th>Title_Miss</th>\n",
       "      <th>Title_Mr</th>\n",
       "      <th>Title_Mrs</th>\n",
       "      <th>Title_Rare</th>\n",
       "      <th>sex_male</th>\n",
       "      <th>embarked_Q</th>\n",
       "      <th>embarked_S</th>\n",
       "    </tr>\n",
       "  </thead>\n",
       "  <tbody>\n",
       "    <tr>\n",
       "      <th>0</th>\n",
       "      <td>1</td>\n",
       "      <td>54.000000</td>\n",
       "      <td>77.2875</td>\n",
       "      <td>3</td>\n",
       "      <td>2</td>\n",
       "      <td>0.0</td>\n",
       "      <td>1.0</td>\n",
       "      <td>0.0</td>\n",
       "      <td>0.0</td>\n",
       "      <td>1.0</td>\n",
       "      <td>0.0</td>\n",
       "      <td>1.0</td>\n",
       "    </tr>\n",
       "    <tr>\n",
       "      <th>1</th>\n",
       "      <td>3</td>\n",
       "      <td>24.762488</td>\n",
       "      <td>14.4542</td>\n",
       "      <td>7</td>\n",
       "      <td>2</td>\n",
       "      <td>0.0</td>\n",
       "      <td>1.0</td>\n",
       "      <td>0.0</td>\n",
       "      <td>0.0</td>\n",
       "      <td>1.0</td>\n",
       "      <td>0.0</td>\n",
       "      <td>0.0</td>\n",
       "    </tr>\n",
       "    <tr>\n",
       "      <th>2</th>\n",
       "      <td>3</td>\n",
       "      <td>13.000000</td>\n",
       "      <td>31.3875</td>\n",
       "      <td>7</td>\n",
       "      <td>7</td>\n",
       "      <td>0.0</td>\n",
       "      <td>0.0</td>\n",
       "      <td>0.0</td>\n",
       "      <td>0.0</td>\n",
       "      <td>1.0</td>\n",
       "      <td>0.0</td>\n",
       "      <td>1.0</td>\n",
       "    </tr>\n",
       "    <tr>\n",
       "      <th>3</th>\n",
       "      <td>3</td>\n",
       "      <td>28.500000</td>\n",
       "      <td>16.1000</td>\n",
       "      <td>7</td>\n",
       "      <td>1</td>\n",
       "      <td>0.0</td>\n",
       "      <td>1.0</td>\n",
       "      <td>0.0</td>\n",
       "      <td>0.0</td>\n",
       "      <td>1.0</td>\n",
       "      <td>0.0</td>\n",
       "      <td>1.0</td>\n",
       "    </tr>\n",
       "    <tr>\n",
       "      <th>4</th>\n",
       "      <td>3</td>\n",
       "      <td>55.500000</td>\n",
       "      <td>8.0500</td>\n",
       "      <td>7</td>\n",
       "      <td>1</td>\n",
       "      <td>0.0</td>\n",
       "      <td>1.0</td>\n",
       "      <td>0.0</td>\n",
       "      <td>0.0</td>\n",
       "      <td>1.0</td>\n",
       "      <td>0.0</td>\n",
       "      <td>1.0</td>\n",
       "    </tr>\n",
       "  </tbody>\n",
       "</table>\n",
       "</div>"
      ],
      "text/plain": [
       "   pclass        age     fare  cabin_encoded  family_size  Title_Miss  \\\n",
       "0       1  54.000000  77.2875              3            2         0.0   \n",
       "1       3  24.762488  14.4542              7            2         0.0   \n",
       "2       3  13.000000  31.3875              7            7         0.0   \n",
       "3       3  28.500000  16.1000              7            1         0.0   \n",
       "4       3  55.500000   8.0500              7            1         0.0   \n",
       "\n",
       "   Title_Mr  Title_Mrs  Title_Rare  sex_male  embarked_Q  embarked_S  \n",
       "0       1.0        0.0         0.0       1.0         0.0         1.0  \n",
       "1       1.0        0.0         0.0       1.0         0.0         0.0  \n",
       "2       0.0        0.0         0.0       1.0         0.0         1.0  \n",
       "3       1.0        0.0         0.0       1.0         0.0         1.0  \n",
       "4       1.0        0.0         0.0       1.0         0.0         1.0  "
      ]
     },
     "metadata": {},
     "output_type": "display_data"
    },
    {
     "name": "stdout",
     "output_type": "stream",
     "text": [
      "\n",
      "📊 X_val Preview:\n"
     ]
    },
    {
     "data": {
      "text/html": [
       "<div>\n",
       "<style scoped>\n",
       "    .dataframe tbody tr th:only-of-type {\n",
       "        vertical-align: middle;\n",
       "    }\n",
       "\n",
       "    .dataframe tbody tr th {\n",
       "        vertical-align: top;\n",
       "    }\n",
       "\n",
       "    .dataframe thead th {\n",
       "        text-align: right;\n",
       "    }\n",
       "</style>\n",
       "<table border=\"1\" class=\"dataframe\">\n",
       "  <thead>\n",
       "    <tr style=\"text-align: right;\">\n",
       "      <th></th>\n",
       "      <th>pclass</th>\n",
       "      <th>age</th>\n",
       "      <th>fare</th>\n",
       "      <th>cabin_encoded</th>\n",
       "      <th>family_size</th>\n",
       "      <th>Title_Miss</th>\n",
       "      <th>Title_Mr</th>\n",
       "      <th>Title_Mrs</th>\n",
       "      <th>Title_Rare</th>\n",
       "      <th>sex_male</th>\n",
       "      <th>embarked_Q</th>\n",
       "      <th>embarked_S</th>\n",
       "    </tr>\n",
       "  </thead>\n",
       "  <tbody>\n",
       "    <tr>\n",
       "      <th>0</th>\n",
       "      <td>3</td>\n",
       "      <td>25.000000</td>\n",
       "      <td>7.775</td>\n",
       "      <td>7</td>\n",
       "      <td>2</td>\n",
       "      <td>0.0</td>\n",
       "      <td>1.0</td>\n",
       "      <td>0.0</td>\n",
       "      <td>0.0</td>\n",
       "      <td>1.0</td>\n",
       "      <td>0.0</td>\n",
       "      <td>1.0</td>\n",
       "    </tr>\n",
       "    <tr>\n",
       "      <th>1</th>\n",
       "      <td>3</td>\n",
       "      <td>19.000000</td>\n",
       "      <td>7.650</td>\n",
       "      <td>5</td>\n",
       "      <td>1</td>\n",
       "      <td>0.0</td>\n",
       "      <td>1.0</td>\n",
       "      <td>0.0</td>\n",
       "      <td>0.0</td>\n",
       "      <td>1.0</td>\n",
       "      <td>0.0</td>\n",
       "      <td>1.0</td>\n",
       "    </tr>\n",
       "    <tr>\n",
       "      <th>2</th>\n",
       "      <td>3</td>\n",
       "      <td>29.000000</td>\n",
       "      <td>9.500</td>\n",
       "      <td>7</td>\n",
       "      <td>1</td>\n",
       "      <td>0.0</td>\n",
       "      <td>1.0</td>\n",
       "      <td>0.0</td>\n",
       "      <td>0.0</td>\n",
       "      <td>1.0</td>\n",
       "      <td>0.0</td>\n",
       "      <td>1.0</td>\n",
       "    </tr>\n",
       "    <tr>\n",
       "      <th>3</th>\n",
       "      <td>1</td>\n",
       "      <td>38.531609</td>\n",
       "      <td>50.000</td>\n",
       "      <td>0</td>\n",
       "      <td>1</td>\n",
       "      <td>0.0</td>\n",
       "      <td>1.0</td>\n",
       "      <td>0.0</td>\n",
       "      <td>0.0</td>\n",
       "      <td>1.0</td>\n",
       "      <td>0.0</td>\n",
       "      <td>1.0</td>\n",
       "    </tr>\n",
       "    <tr>\n",
       "      <th>4</th>\n",
       "      <td>3</td>\n",
       "      <td>25.000000</td>\n",
       "      <td>0.000</td>\n",
       "      <td>7</td>\n",
       "      <td>1</td>\n",
       "      <td>0.0</td>\n",
       "      <td>1.0</td>\n",
       "      <td>0.0</td>\n",
       "      <td>0.0</td>\n",
       "      <td>1.0</td>\n",
       "      <td>0.0</td>\n",
       "      <td>1.0</td>\n",
       "    </tr>\n",
       "  </tbody>\n",
       "</table>\n",
       "</div>"
      ],
      "text/plain": [
       "   pclass        age    fare  cabin_encoded  family_size  Title_Miss  \\\n",
       "0       3  25.000000   7.775              7            2         0.0   \n",
       "1       3  19.000000   7.650              5            1         0.0   \n",
       "2       3  29.000000   9.500              7            1         0.0   \n",
       "3       1  38.531609  50.000              0            1         0.0   \n",
       "4       3  25.000000   0.000              7            1         0.0   \n",
       "\n",
       "   Title_Mr  Title_Mrs  Title_Rare  sex_male  embarked_Q  embarked_S  \n",
       "0       1.0        0.0         0.0       1.0         0.0         1.0  \n",
       "1       1.0        0.0         0.0       1.0         0.0         1.0  \n",
       "2       1.0        0.0         0.0       1.0         0.0         1.0  \n",
       "3       1.0        0.0         0.0       1.0         0.0         1.0  \n",
       "4       1.0        0.0         0.0       1.0         0.0         1.0  "
      ]
     },
     "metadata": {},
     "output_type": "display_data"
    },
    {
     "name": "stdout",
     "output_type": "stream",
     "text": [
      "\n",
      "📊 X_test Preview:\n"
     ]
    },
    {
     "data": {
      "text/html": [
       "<div>\n",
       "<style scoped>\n",
       "    .dataframe tbody tr th:only-of-type {\n",
       "        vertical-align: middle;\n",
       "    }\n",
       "\n",
       "    .dataframe tbody tr th {\n",
       "        vertical-align: top;\n",
       "    }\n",
       "\n",
       "    .dataframe thead th {\n",
       "        text-align: right;\n",
       "    }\n",
       "</style>\n",
       "<table border=\"1\" class=\"dataframe\">\n",
       "  <thead>\n",
       "    <tr style=\"text-align: right;\">\n",
       "      <th></th>\n",
       "      <th>pclass</th>\n",
       "      <th>age</th>\n",
       "      <th>fare</th>\n",
       "      <th>cabin_encoded</th>\n",
       "      <th>family_size</th>\n",
       "      <th>Title_Miss</th>\n",
       "      <th>Title_Mr</th>\n",
       "      <th>Title_Mrs</th>\n",
       "      <th>Title_Rare</th>\n",
       "      <th>sex_male</th>\n",
       "      <th>embarked_Q</th>\n",
       "      <th>embarked_S</th>\n",
       "    </tr>\n",
       "  </thead>\n",
       "  <tbody>\n",
       "    <tr>\n",
       "      <th>0</th>\n",
       "      <td>2</td>\n",
       "      <td>24.0</td>\n",
       "      <td>65.0000</td>\n",
       "      <td>7</td>\n",
       "      <td>4</td>\n",
       "      <td>1.0</td>\n",
       "      <td>0.0</td>\n",
       "      <td>0.0</td>\n",
       "      <td>0.0</td>\n",
       "      <td>0.0</td>\n",
       "      <td>0.0</td>\n",
       "      <td>1.0</td>\n",
       "    </tr>\n",
       "    <tr>\n",
       "      <th>1</th>\n",
       "      <td>3</td>\n",
       "      <td>25.0</td>\n",
       "      <td>7.7750</td>\n",
       "      <td>7</td>\n",
       "      <td>2</td>\n",
       "      <td>0.0</td>\n",
       "      <td>1.0</td>\n",
       "      <td>0.0</td>\n",
       "      <td>0.0</td>\n",
       "      <td>1.0</td>\n",
       "      <td>0.0</td>\n",
       "      <td>1.0</td>\n",
       "    </tr>\n",
       "    <tr>\n",
       "      <th>2</th>\n",
       "      <td>2</td>\n",
       "      <td>45.0</td>\n",
       "      <td>30.0000</td>\n",
       "      <td>7</td>\n",
       "      <td>3</td>\n",
       "      <td>0.0</td>\n",
       "      <td>0.0</td>\n",
       "      <td>1.0</td>\n",
       "      <td>0.0</td>\n",
       "      <td>0.0</td>\n",
       "      <td>0.0</td>\n",
       "      <td>1.0</td>\n",
       "    </tr>\n",
       "    <tr>\n",
       "      <th>3</th>\n",
       "      <td>3</td>\n",
       "      <td>37.0</td>\n",
       "      <td>7.9250</td>\n",
       "      <td>7</td>\n",
       "      <td>3</td>\n",
       "      <td>0.0</td>\n",
       "      <td>1.0</td>\n",
       "      <td>0.0</td>\n",
       "      <td>0.0</td>\n",
       "      <td>1.0</td>\n",
       "      <td>0.0</td>\n",
       "      <td>1.0</td>\n",
       "    </tr>\n",
       "    <tr>\n",
       "      <th>4</th>\n",
       "      <td>3</td>\n",
       "      <td>22.0</td>\n",
       "      <td>7.2292</td>\n",
       "      <td>7</td>\n",
       "      <td>1</td>\n",
       "      <td>0.0</td>\n",
       "      <td>1.0</td>\n",
       "      <td>0.0</td>\n",
       "      <td>0.0</td>\n",
       "      <td>1.0</td>\n",
       "      <td>0.0</td>\n",
       "      <td>0.0</td>\n",
       "    </tr>\n",
       "  </tbody>\n",
       "</table>\n",
       "</div>"
      ],
      "text/plain": [
       "   pclass   age     fare  cabin_encoded  family_size  Title_Miss  Title_Mr  \\\n",
       "0       2  24.0  65.0000              7            4         1.0       0.0   \n",
       "1       3  25.0   7.7750              7            2         0.0       1.0   \n",
       "2       2  45.0  30.0000              7            3         0.0       0.0   \n",
       "3       3  37.0   7.9250              7            3         0.0       1.0   \n",
       "4       3  22.0   7.2292              7            1         0.0       1.0   \n",
       "\n",
       "   Title_Mrs  Title_Rare  sex_male  embarked_Q  embarked_S  \n",
       "0        0.0         0.0       0.0         0.0         1.0  \n",
       "1        0.0         0.0       1.0         0.0         1.0  \n",
       "2        1.0         0.0       0.0         0.0         1.0  \n",
       "3        0.0         0.0       1.0         0.0         1.0  \n",
       "4        0.0         0.0       1.0         0.0         0.0  "
      ]
     },
     "metadata": {},
     "output_type": "display_data"
    }
   ],
   "source": [
    "# 📌 Mostrar las primeras filas de cada dataset después de la codificación\n",
    "print(\"📊 X_train Preview:\")\n",
    "display(X_train.head())\n",
    "\n",
    "print(\"\\n📊 X_val Preview:\")\n",
    "display(X_val.head())\n",
    "\n",
    "print(\"\\n📊 X_test Preview:\")\n",
    "display(X_test.head())"
   ]
  },
  {
   "cell_type": "markdown",
   "metadata": {},
   "source": [
    "**Outcome:**\n",
    "- **No categorical variables remain.**\n",
    "- **Dataset is now fully numerical and ready for ML modeling!**  \n"
   ]
  },
  {
   "cell_type": "markdown",
   "metadata": {},
   "source": [
    "## 📌 **Task 4: Feature Scaling**\n",
    "\n",
    "Feature scaling is crucial for ensuring that **all numerical features have a similar range**, preventing any one feature from **dominating the model**.  \n",
    "\n",
    "- **Standardize numerical variables** using **StandardScaler**.\n",
    "- **Normalize numerical variables** using **MinMaxScaler**.\n",
    "- **Compare Standardization and Normalization** and their impact on machine learning models."
   ]
  },
  {
   "cell_type": "markdown",
   "metadata": {},
   "source": [
    "### Step 1: Applying Standardization\n",
    "\n"
   ]
  },
  {
   "cell_type": "markdown",
   "metadata": {},
   "source": [
    "**What is Standardization?**\n",
    "- Rescales features **to have a mean of 0** and **standard deviation of 1**.\n",
    "- Works well with **normally distributed data**.\n",
    "- Formula:\n",
    "$$\n",
    "[ X_{\\text{scaled}} = \\frac{X - \\mu}{\\sigma} ]\n",
    "$$"
   ]
  },
  {
   "cell_type": "code",
   "execution_count": 37,
   "metadata": {},
   "outputs": [],
   "source": [
    "# Initialize StandardScaler\n",
    "scaler = StandardScaler()\n",
    "\n",
    "# Fit the scaler on X_train and transform it\n",
    "X_train_standardized = pd.DataFrame(\n",
    "    scaler.fit_transform(X_train),  # Convert back to DataFrame\n",
    "    columns=X_train.columns,  # Retain original feature names\n",
    "    index=X_train.index  # Retain original indices\n",
    ")\n",
    "\n",
    "# Transform validation and test sets using the same scaler (without refitting)\n",
    "X_val_standardized = pd.DataFrame(scaler.transform(X_val), columns=X_val.columns, index=X_val.index)\n",
    "X_test_standardized = pd.DataFrame(scaler.transform(X_test), columns=X_test.columns, index=X_test.index)"
   ]
  },
  {
   "cell_type": "markdown",
   "metadata": {},
   "source": [
    "**Applied Standardization**\n",
    "- All numerical features now have **mean = 0, standard deviation = 1**.\n",
    "- Helps in **gradient-based algorithms (e.g., logistic regression, neural networks)**.\n",
    "- It specifically helps and contributes to logistic regressions.\n"
   ]
  },
  {
   "cell_type": "markdown",
   "metadata": {},
   "source": [
    "###  Step 2: Applying Normalization"
   ]
  },
  {
   "cell_type": "markdown",
   "metadata": {},
   "source": [
    "**What is Normalization?**\n",
    "- Rescales features **to a fixed range [0,1]**.\n",
    "- Works well with **uniformly distributed data**.\n",
    "- Formula:\n",
    "\n",
    "$$\n",
    "  [\n",
    "  X_{\\text{normalized}} = \\frac{X - X_{\\min}}{X_{\\max} - X_{\\min}}\n",
    "  ]\n",
    "$$"
   ]
  },
  {
   "cell_type": "code",
   "execution_count": 38,
   "metadata": {},
   "outputs": [],
   "source": [
    "# Initialize MinMaxScaler\n",
    "scaler = MinMaxScaler()\n",
    "\n",
    "# Fit the scaler on X_train and transform it\n",
    "X_train_normalized = pd.DataFrame(\n",
    "    scaler.fit_transform(X_train),\n",
    "    columns=X_train.columns,\n",
    "    index=X_train.index\n",
    ")\n",
    "\n",
    "# Transform validation and test sets using the same scaler (without refitting)\n",
    "X_val_normalized = pd.DataFrame(scaler.transform(X_val), columns=X_val.columns, index=X_val.index)\n",
    "X_test_normalized = pd.DataFrame(scaler.transform(X_test), columns=X_test.columns, index=X_test.index)"
   ]
  },
  {
   "cell_type": "markdown",
   "metadata": {},
   "source": [
    "**Applied Normalization**\n",
    "- All numerical features are **scaled between 0 and 1**.\n",
    "- Useful for models **sensitive to feature magnitude**\n"
   ]
  },
  {
   "cell_type": "markdown",
   "metadata": {},
   "source": [
    "### Step 3: Comparing Scaling Methods\n"
   ]
  },
  {
   "cell_type": "markdown",
   "metadata": {},
   "source": [
    "#### **Standardization vs. Normalization: When to Use?**\n",
    "| Method            | Best for... | \n",
    "|------------------|------------|\n",
    "| **Standardization (Z-score)** | Normally distributed data | \n",
    "| **Normalization (Min-Max)** | Uniformly distributed data |\n",
    "\n",
    "#### **Which one to use?**\n",
    "- Some ML models like **logistic regression or neural networks** work better with **standardized data**.\n",
    "- Other models (e.g., **k-NN, SVM**) perform well with **normalized data**.\n",
    "- In this case we are already told that we are suppose to train our model using a logistic regression so we should stay with Standarization in this case.\n"
   ]
  },
  {
   "cell_type": "code",
   "execution_count": 39,
   "metadata": {},
   "outputs": [
    {
     "data": {
      "text/html": [
       "<div>\n",
       "<style scoped>\n",
       "    .dataframe tbody tr th:only-of-type {\n",
       "        vertical-align: middle;\n",
       "    }\n",
       "\n",
       "    .dataframe tbody tr th {\n",
       "        vertical-align: top;\n",
       "    }\n",
       "\n",
       "    .dataframe thead th {\n",
       "        text-align: right;\n",
       "    }\n",
       "</style>\n",
       "<table border=\"1\" class=\"dataframe\">\n",
       "  <thead>\n",
       "    <tr style=\"text-align: right;\">\n",
       "      <th></th>\n",
       "      <th>pclass</th>\n",
       "      <th>age</th>\n",
       "      <th>fare</th>\n",
       "      <th>cabin_encoded</th>\n",
       "      <th>family_size</th>\n",
       "      <th>Title_Miss</th>\n",
       "      <th>Title_Mr</th>\n",
       "      <th>Title_Mrs</th>\n",
       "      <th>Title_Rare</th>\n",
       "      <th>sex_male</th>\n",
       "      <th>embarked_Q</th>\n",
       "      <th>embarked_S</th>\n",
       "    </tr>\n",
       "  </thead>\n",
       "  <tbody>\n",
       "    <tr>\n",
       "      <th>0</th>\n",
       "      <td>-1.543720</td>\n",
       "      <td>1.904476</td>\n",
       "      <td>0.905927</td>\n",
       "      <td>-1.437627</td>\n",
       "      <td>0.083146</td>\n",
       "      <td>-0.496244</td>\n",
       "      <td>0.841995</td>\n",
       "      <td>-0.419364</td>\n",
       "      <td>-0.141579</td>\n",
       "      <td>0.730985</td>\n",
       "      <td>-0.336157</td>\n",
       "      <td>0.675485</td>\n",
       "    </tr>\n",
       "    <tr>\n",
       "      <th>1</th>\n",
       "      <td>0.834829</td>\n",
       "      <td>-0.341376</td>\n",
       "      <td>-0.366777</td>\n",
       "      <td>0.503222</td>\n",
       "      <td>0.083146</td>\n",
       "      <td>-0.496244</td>\n",
       "      <td>0.841995</td>\n",
       "      <td>-0.419364</td>\n",
       "      <td>-0.141579</td>\n",
       "      <td>0.730985</td>\n",
       "      <td>-0.336157</td>\n",
       "      <td>-1.480418</td>\n",
       "    </tr>\n",
       "    <tr>\n",
       "      <th>2</th>\n",
       "      <td>0.834829</td>\n",
       "      <td>-1.244900</td>\n",
       "      <td>-0.023788</td>\n",
       "      <td>0.503222</td>\n",
       "      <td>3.310339</td>\n",
       "      <td>-0.496244</td>\n",
       "      <td>-1.187656</td>\n",
       "      <td>-0.419364</td>\n",
       "      <td>-0.141579</td>\n",
       "      <td>0.730985</td>\n",
       "      <td>-0.336157</td>\n",
       "      <td>0.675485</td>\n",
       "    </tr>\n",
       "    <tr>\n",
       "      <th>3</th>\n",
       "      <td>0.834829</td>\n",
       "      <td>-0.054282</td>\n",
       "      <td>-0.333441</td>\n",
       "      <td>0.503222</td>\n",
       "      <td>-0.562293</td>\n",
       "      <td>-0.496244</td>\n",
       "      <td>0.841995</td>\n",
       "      <td>-0.419364</td>\n",
       "      <td>-0.141579</td>\n",
       "      <td>0.730985</td>\n",
       "      <td>-0.336157</td>\n",
       "      <td>0.675485</td>\n",
       "    </tr>\n",
       "    <tr>\n",
       "      <th>4</th>\n",
       "      <td>0.834829</td>\n",
       "      <td>2.019697</td>\n",
       "      <td>-0.496495</td>\n",
       "      <td>0.503222</td>\n",
       "      <td>-0.562293</td>\n",
       "      <td>-0.496244</td>\n",
       "      <td>0.841995</td>\n",
       "      <td>-0.419364</td>\n",
       "      <td>-0.141579</td>\n",
       "      <td>0.730985</td>\n",
       "      <td>-0.336157</td>\n",
       "      <td>0.675485</td>\n",
       "    </tr>\n",
       "  </tbody>\n",
       "</table>\n",
       "</div>"
      ],
      "text/plain": [
       "     pclass       age      fare  cabin_encoded  family_size  Title_Miss  \\\n",
       "0 -1.543720  1.904476  0.905927      -1.437627     0.083146   -0.496244   \n",
       "1  0.834829 -0.341376 -0.366777       0.503222     0.083146   -0.496244   \n",
       "2  0.834829 -1.244900 -0.023788       0.503222     3.310339   -0.496244   \n",
       "3  0.834829 -0.054282 -0.333441       0.503222    -0.562293   -0.496244   \n",
       "4  0.834829  2.019697 -0.496495       0.503222    -0.562293   -0.496244   \n",
       "\n",
       "   Title_Mr  Title_Mrs  Title_Rare  sex_male  embarked_Q  embarked_S  \n",
       "0  0.841995  -0.419364   -0.141579  0.730985   -0.336157    0.675485  \n",
       "1  0.841995  -0.419364   -0.141579  0.730985   -0.336157   -1.480418  \n",
       "2 -1.187656  -0.419364   -0.141579  0.730985   -0.336157    0.675485  \n",
       "3  0.841995  -0.419364   -0.141579  0.730985   -0.336157    0.675485  \n",
       "4  0.841995  -0.419364   -0.141579  0.730985   -0.336157    0.675485  "
      ]
     },
     "metadata": {},
     "output_type": "display_data"
    }
   ],
   "source": [
    "display(X_train_standardized.head())"
   ]
  },
  {
   "cell_type": "markdown",
   "metadata": {},
   "source": [
    "### Step 4: Visualizing the Effect of Scaling"
   ]
  },
  {
   "cell_type": "markdown",
   "metadata": {},
   "source": [
    "To understand the transformation, we **plot original vs. scaled distributions**."
   ]
  },
  {
   "cell_type": "code",
   "execution_count": 40,
   "metadata": {},
   "outputs": [
    {
     "data": {
      "image/png": "[encoded data removed]",
      "text/plain": [
       "<Figure size 1800x500 with 3 Axes>"
      ]
     },
     "metadata": {},
     "output_type": "display_data"
    }
   ],
   "source": [
    "# Create figure with subplots\n",
    "fig, axes = plt.subplots(1, 3, figsize=(18, 5))\n",
    "\n",
    "# Original Fare Distribution (Before Standardization & Normalization)\n",
    "sns.histplot(X_train[\"fare\"], bins=30, kde=True, ax=axes[0], color=\"blue\")\n",
    "axes[0].set_title(\"Original Fare Distribution\")\n",
    "axes[0].set_xlabel(\"Fare\")\n",
    "axes[0].set_ylabel(\"Frequency\")\n",
    "\n",
    "# Standardized Fare Distribution\n",
    "sns.histplot(X_train_standardized[\"fare\"], bins=30, kde=True, ax=axes[1], color=\"red\")\n",
    "axes[1].set_title(\"Standardized Fare Distribution\")\n",
    "axes[1].set_xlabel(\"Fare\")\n",
    "axes[1].set_ylabel(\"Frequency\")\n",
    "\n",
    "# Normalized Fare Distribution\n",
    "sns.histplot(X_train_normalized[\"fare\"] / X_train_normalized[\"fare\"].max(), \n",
    "             bins=30, kde=True, ax=axes[2], color=\"green\")\n",
    "axes[2].set_title(\"Normalized Fare Distribution\")\n",
    "axes[2].set_xlabel(\"Fare\")\n",
    "axes[2].set_ylabel(\"Frequency\")\n",
    "\n",
    "plt.tight_layout()\n",
    "plt.show()\n"
   ]
  },
  {
   "cell_type": "markdown",
   "metadata": {},
   "source": [
    "- **Standardization keeps feature relationships intact** while ensuring **zero mean and unit variance**.\n",
    "- **Normalization (scaling 0-1)** was tested but does **not improve Logistic Regression**, as it does **not rely on distance-based metrics**.\n",
    "- **Why Standardization?** It helps **gradient-based optimization converge faster** and makes the model **numerically stable**.\n",
    "- **Final Decision**: We proceed with **standardized data** for training, ensuring **better performance and interpretability** and it works better for linear regression models wich is the one explore in this assignment."
   ]
  },
  {
   "cell_type": "code",
   "execution_count": 41,
   "metadata": {},
   "outputs": [
    {
     "name": "stdout",
     "output_type": "stream",
     "text": [
      "First 5 rows of Standardized Training Data:\n"
     ]
    },
    {
     "data": {
      "text/html": [
       "<div>\n",
       "<style scoped>\n",
       "    .dataframe tbody tr th:only-of-type {\n",
       "        vertical-align: middle;\n",
       "    }\n",
       "\n",
       "    .dataframe tbody tr th {\n",
       "        vertical-align: top;\n",
       "    }\n",
       "\n",
       "    .dataframe thead th {\n",
       "        text-align: right;\n",
       "    }\n",
       "</style>\n",
       "<table border=\"1\" class=\"dataframe\">\n",
       "  <thead>\n",
       "    <tr style=\"text-align: right;\">\n",
       "      <th></th>\n",
       "      <th>pclass</th>\n",
       "      <th>age</th>\n",
       "      <th>fare</th>\n",
       "      <th>cabin_encoded</th>\n",
       "      <th>family_size</th>\n",
       "      <th>Title_Miss</th>\n",
       "      <th>Title_Mr</th>\n",
       "      <th>Title_Mrs</th>\n",
       "      <th>Title_Rare</th>\n",
       "      <th>sex_male</th>\n",
       "      <th>embarked_Q</th>\n",
       "      <th>embarked_S</th>\n",
       "    </tr>\n",
       "  </thead>\n",
       "  <tbody>\n",
       "    <tr>\n",
       "      <th>0</th>\n",
       "      <td>-1.543720</td>\n",
       "      <td>1.904476</td>\n",
       "      <td>0.905927</td>\n",
       "      <td>-1.437627</td>\n",
       "      <td>0.083146</td>\n",
       "      <td>-0.496244</td>\n",
       "      <td>0.841995</td>\n",
       "      <td>-0.419364</td>\n",
       "      <td>-0.141579</td>\n",
       "      <td>0.730985</td>\n",
       "      <td>-0.336157</td>\n",
       "      <td>0.675485</td>\n",
       "    </tr>\n",
       "    <tr>\n",
       "      <th>1</th>\n",
       "      <td>0.834829</td>\n",
       "      <td>-0.341376</td>\n",
       "      <td>-0.366777</td>\n",
       "      <td>0.503222</td>\n",
       "      <td>0.083146</td>\n",
       "      <td>-0.496244</td>\n",
       "      <td>0.841995</td>\n",
       "      <td>-0.419364</td>\n",
       "      <td>-0.141579</td>\n",
       "      <td>0.730985</td>\n",
       "      <td>-0.336157</td>\n",
       "      <td>-1.480418</td>\n",
       "    </tr>\n",
       "    <tr>\n",
       "      <th>2</th>\n",
       "      <td>0.834829</td>\n",
       "      <td>-1.244900</td>\n",
       "      <td>-0.023788</td>\n",
       "      <td>0.503222</td>\n",
       "      <td>3.310339</td>\n",
       "      <td>-0.496244</td>\n",
       "      <td>-1.187656</td>\n",
       "      <td>-0.419364</td>\n",
       "      <td>-0.141579</td>\n",
       "      <td>0.730985</td>\n",
       "      <td>-0.336157</td>\n",
       "      <td>0.675485</td>\n",
       "    </tr>\n",
       "    <tr>\n",
       "      <th>3</th>\n",
       "      <td>0.834829</td>\n",
       "      <td>-0.054282</td>\n",
       "      <td>-0.333441</td>\n",
       "      <td>0.503222</td>\n",
       "      <td>-0.562293</td>\n",
       "      <td>-0.496244</td>\n",
       "      <td>0.841995</td>\n",
       "      <td>-0.419364</td>\n",
       "      <td>-0.141579</td>\n",
       "      <td>0.730985</td>\n",
       "      <td>-0.336157</td>\n",
       "      <td>0.675485</td>\n",
       "    </tr>\n",
       "    <tr>\n",
       "      <th>4</th>\n",
       "      <td>0.834829</td>\n",
       "      <td>2.019697</td>\n",
       "      <td>-0.496495</td>\n",
       "      <td>0.503222</td>\n",
       "      <td>-0.562293</td>\n",
       "      <td>-0.496244</td>\n",
       "      <td>0.841995</td>\n",
       "      <td>-0.419364</td>\n",
       "      <td>-0.141579</td>\n",
       "      <td>0.730985</td>\n",
       "      <td>-0.336157</td>\n",
       "      <td>0.675485</td>\n",
       "    </tr>\n",
       "  </tbody>\n",
       "</table>\n",
       "</div>"
      ],
      "text/plain": [
       "     pclass       age      fare  cabin_encoded  family_size  Title_Miss  \\\n",
       "0 -1.543720  1.904476  0.905927      -1.437627     0.083146   -0.496244   \n",
       "1  0.834829 -0.341376 -0.366777       0.503222     0.083146   -0.496244   \n",
       "2  0.834829 -1.244900 -0.023788       0.503222     3.310339   -0.496244   \n",
       "3  0.834829 -0.054282 -0.333441       0.503222    -0.562293   -0.496244   \n",
       "4  0.834829  2.019697 -0.496495       0.503222    -0.562293   -0.496244   \n",
       "\n",
       "   Title_Mr  Title_Mrs  Title_Rare  sex_male  embarked_Q  embarked_S  \n",
       "0  0.841995  -0.419364   -0.141579  0.730985   -0.336157    0.675485  \n",
       "1  0.841995  -0.419364   -0.141579  0.730985   -0.336157   -1.480418  \n",
       "2 -1.187656  -0.419364   -0.141579  0.730985   -0.336157    0.675485  \n",
       "3  0.841995  -0.419364   -0.141579  0.730985   -0.336157    0.675485  \n",
       "4  0.841995  -0.419364   -0.141579  0.730985   -0.336157    0.675485  "
      ]
     },
     "metadata": {},
     "output_type": "display_data"
    },
    {
     "name": "stdout",
     "output_type": "stream",
     "text": [
      "First 5 rows of Standardized Validation Data:\n"
     ]
    },
    {
     "data": {
      "text/html": [
       "<div>\n",
       "<style scoped>\n",
       "    .dataframe tbody tr th:only-of-type {\n",
       "        vertical-align: middle;\n",
       "    }\n",
       "\n",
       "    .dataframe tbody tr th {\n",
       "        vertical-align: top;\n",
       "    }\n",
       "\n",
       "    .dataframe thead th {\n",
       "        text-align: right;\n",
       "    }\n",
       "</style>\n",
       "<table border=\"1\" class=\"dataframe\">\n",
       "  <thead>\n",
       "    <tr style=\"text-align: right;\">\n",
       "      <th></th>\n",
       "      <th>pclass</th>\n",
       "      <th>age</th>\n",
       "      <th>fare</th>\n",
       "      <th>cabin_encoded</th>\n",
       "      <th>family_size</th>\n",
       "      <th>Title_Miss</th>\n",
       "      <th>Title_Mr</th>\n",
       "      <th>Title_Mrs</th>\n",
       "      <th>Title_Rare</th>\n",
       "      <th>sex_male</th>\n",
       "      <th>embarked_Q</th>\n",
       "      <th>embarked_S</th>\n",
       "    </tr>\n",
       "  </thead>\n",
       "  <tbody>\n",
       "    <tr>\n",
       "      <th>0</th>\n",
       "      <td>0.834829</td>\n",
       "      <td>-0.323132</td>\n",
       "      <td>-0.502065</td>\n",
       "      <td>0.503222</td>\n",
       "      <td>0.083146</td>\n",
       "      <td>-0.496244</td>\n",
       "      <td>0.841995</td>\n",
       "      <td>-0.419364</td>\n",
       "      <td>-0.141579</td>\n",
       "      <td>0.730985</td>\n",
       "      <td>-0.336157</td>\n",
       "      <td>0.675485</td>\n",
       "    </tr>\n",
       "    <tr>\n",
       "      <th>1</th>\n",
       "      <td>0.834829</td>\n",
       "      <td>-0.784016</td>\n",
       "      <td>-0.504597</td>\n",
       "      <td>-0.467202</td>\n",
       "      <td>-0.562293</td>\n",
       "      <td>-0.496244</td>\n",
       "      <td>0.841995</td>\n",
       "      <td>-0.419364</td>\n",
       "      <td>-0.141579</td>\n",
       "      <td>0.730985</td>\n",
       "      <td>-0.336157</td>\n",
       "      <td>0.675485</td>\n",
       "    </tr>\n",
       "    <tr>\n",
       "      <th>2</th>\n",
       "      <td>0.834829</td>\n",
       "      <td>-0.015875</td>\n",
       "      <td>-0.467125</td>\n",
       "      <td>0.503222</td>\n",
       "      <td>-0.562293</td>\n",
       "      <td>-0.496244</td>\n",
       "      <td>0.841995</td>\n",
       "      <td>-0.419364</td>\n",
       "      <td>-0.141579</td>\n",
       "      <td>0.730985</td>\n",
       "      <td>-0.336157</td>\n",
       "      <td>0.675485</td>\n",
       "    </tr>\n",
       "    <tr>\n",
       "      <th>3</th>\n",
       "      <td>-1.543720</td>\n",
       "      <td>0.716286</td>\n",
       "      <td>0.353212</td>\n",
       "      <td>-2.893263</td>\n",
       "      <td>-0.562293</td>\n",
       "      <td>-0.496244</td>\n",
       "      <td>0.841995</td>\n",
       "      <td>-0.419364</td>\n",
       "      <td>-0.141579</td>\n",
       "      <td>0.730985</td>\n",
       "      <td>-0.336157</td>\n",
       "      <td>0.675485</td>\n",
       "    </tr>\n",
       "    <tr>\n",
       "      <th>4</th>\n",
       "      <td>0.834829</td>\n",
       "      <td>-0.323132</td>\n",
       "      <td>-0.659550</td>\n",
       "      <td>0.503222</td>\n",
       "      <td>-0.562293</td>\n",
       "      <td>-0.496244</td>\n",
       "      <td>0.841995</td>\n",
       "      <td>-0.419364</td>\n",
       "      <td>-0.141579</td>\n",
       "      <td>0.730985</td>\n",
       "      <td>-0.336157</td>\n",
       "      <td>0.675485</td>\n",
       "    </tr>\n",
       "  </tbody>\n",
       "</table>\n",
       "</div>"
      ],
      "text/plain": [
       "     pclass       age      fare  cabin_encoded  family_size  Title_Miss  \\\n",
       "0  0.834829 -0.323132 -0.502065       0.503222     0.083146   -0.496244   \n",
       "1  0.834829 -0.784016 -0.504597      -0.467202    -0.562293   -0.496244   \n",
       "2  0.834829 -0.015875 -0.467125       0.503222    -0.562293   -0.496244   \n",
       "3 -1.543720  0.716286  0.353212      -2.893263    -0.562293   -0.496244   \n",
       "4  0.834829 -0.323132 -0.659550       0.503222    -0.562293   -0.496244   \n",
       "\n",
       "   Title_Mr  Title_Mrs  Title_Rare  sex_male  embarked_Q  embarked_S  \n",
       "0  0.841995  -0.419364   -0.141579  0.730985   -0.336157    0.675485  \n",
       "1  0.841995  -0.419364   -0.141579  0.730985   -0.336157    0.675485  \n",
       "2  0.841995  -0.419364   -0.141579  0.730985   -0.336157    0.675485  \n",
       "3  0.841995  -0.419364   -0.141579  0.730985   -0.336157    0.675485  \n",
       "4  0.841995  -0.419364   -0.141579  0.730985   -0.336157    0.675485  "
      ]
     },
     "metadata": {},
     "output_type": "display_data"
    },
    {
     "name": "stdout",
     "output_type": "stream",
     "text": [
      "First 5 rows of Standardized Test Data:\n"
     ]
    },
    {
     "data": {
      "text/html": [
       "<div>\n",
       "<style scoped>\n",
       "    .dataframe tbody tr th:only-of-type {\n",
       "        vertical-align: middle;\n",
       "    }\n",
       "\n",
       "    .dataframe tbody tr th {\n",
       "        vertical-align: top;\n",
       "    }\n",
       "\n",
       "    .dataframe thead th {\n",
       "        text-align: right;\n",
       "    }\n",
       "</style>\n",
       "<table border=\"1\" class=\"dataframe\">\n",
       "  <thead>\n",
       "    <tr style=\"text-align: right;\">\n",
       "      <th></th>\n",
       "      <th>pclass</th>\n",
       "      <th>age</th>\n",
       "      <th>fare</th>\n",
       "      <th>cabin_encoded</th>\n",
       "      <th>family_size</th>\n",
       "      <th>Title_Miss</th>\n",
       "      <th>Title_Mr</th>\n",
       "      <th>Title_Mrs</th>\n",
       "      <th>Title_Rare</th>\n",
       "      <th>sex_male</th>\n",
       "      <th>embarked_Q</th>\n",
       "      <th>embarked_S</th>\n",
       "    </tr>\n",
       "  </thead>\n",
       "  <tbody>\n",
       "    <tr>\n",
       "      <th>0</th>\n",
       "      <td>-0.354445</td>\n",
       "      <td>-0.399946</td>\n",
       "      <td>0.657041</td>\n",
       "      <td>0.503222</td>\n",
       "      <td>1.374023</td>\n",
       "      <td>2.015136</td>\n",
       "      <td>-1.187656</td>\n",
       "      <td>-0.419364</td>\n",
       "      <td>-0.141579</td>\n",
       "      <td>-1.368018</td>\n",
       "      <td>-0.336157</td>\n",
       "      <td>0.675485</td>\n",
       "    </tr>\n",
       "    <tr>\n",
       "      <th>1</th>\n",
       "      <td>0.834829</td>\n",
       "      <td>-0.323132</td>\n",
       "      <td>-0.502065</td>\n",
       "      <td>0.503222</td>\n",
       "      <td>0.083146</td>\n",
       "      <td>-0.496244</td>\n",
       "      <td>0.841995</td>\n",
       "      <td>-0.419364</td>\n",
       "      <td>-0.141579</td>\n",
       "      <td>0.730985</td>\n",
       "      <td>-0.336157</td>\n",
       "      <td>0.675485</td>\n",
       "    </tr>\n",
       "    <tr>\n",
       "      <th>2</th>\n",
       "      <td>-0.354445</td>\n",
       "      <td>1.213149</td>\n",
       "      <td>-0.051893</td>\n",
       "      <td>0.503222</td>\n",
       "      <td>0.728585</td>\n",
       "      <td>-0.496244</td>\n",
       "      <td>-1.187656</td>\n",
       "      <td>2.384561</td>\n",
       "      <td>-0.141579</td>\n",
       "      <td>-1.368018</td>\n",
       "      <td>-0.336157</td>\n",
       "      <td>0.675485</td>\n",
       "    </tr>\n",
       "    <tr>\n",
       "      <th>3</th>\n",
       "      <td>0.834829</td>\n",
       "      <td>0.598637</td>\n",
       "      <td>-0.499027</td>\n",
       "      <td>0.503222</td>\n",
       "      <td>0.728585</td>\n",
       "      <td>-0.496244</td>\n",
       "      <td>0.841995</td>\n",
       "      <td>-0.419364</td>\n",
       "      <td>-0.141579</td>\n",
       "      <td>0.730985</td>\n",
       "      <td>-0.336157</td>\n",
       "      <td>0.675485</td>\n",
       "    </tr>\n",
       "    <tr>\n",
       "      <th>4</th>\n",
       "      <td>0.834829</td>\n",
       "      <td>-0.553574</td>\n",
       "      <td>-0.513121</td>\n",
       "      <td>0.503222</td>\n",
       "      <td>-0.562293</td>\n",
       "      <td>-0.496244</td>\n",
       "      <td>0.841995</td>\n",
       "      <td>-0.419364</td>\n",
       "      <td>-0.141579</td>\n",
       "      <td>0.730985</td>\n",
       "      <td>-0.336157</td>\n",
       "      <td>-1.480418</td>\n",
       "    </tr>\n",
       "  </tbody>\n",
       "</table>\n",
       "</div>"
      ],
      "text/plain": [
       "     pclass       age      fare  cabin_encoded  family_size  Title_Miss  \\\n",
       "0 -0.354445 -0.399946  0.657041       0.503222     1.374023    2.015136   \n",
       "1  0.834829 -0.323132 -0.502065       0.503222     0.083146   -0.496244   \n",
       "2 -0.354445  1.213149 -0.051893       0.503222     0.728585   -0.496244   \n",
       "3  0.834829  0.598637 -0.499027       0.503222     0.728585   -0.496244   \n",
       "4  0.834829 -0.553574 -0.513121       0.503222    -0.562293   -0.496244   \n",
       "\n",
       "   Title_Mr  Title_Mrs  Title_Rare  sex_male  embarked_Q  embarked_S  \n",
       "0 -1.187656  -0.419364   -0.141579 -1.368018   -0.336157    0.675485  \n",
       "1  0.841995  -0.419364   -0.141579  0.730985   -0.336157    0.675485  \n",
       "2 -1.187656   2.384561   -0.141579 -1.368018   -0.336157    0.675485  \n",
       "3  0.841995  -0.419364   -0.141579  0.730985   -0.336157    0.675485  \n",
       "4  0.841995  -0.419364   -0.141579  0.730985   -0.336157   -1.480418  "
      ]
     },
     "metadata": {},
     "output_type": "display_data"
    }
   ],
   "source": [
    "# Display first few rows of the transformed training set\n",
    "print(\"First 5 rows of Standardized Training Data:\")\n",
    "display(X_train_standardized.head())\n",
    "\n",
    "# Display first few rows of the transformed validation set\n",
    "print(\"First 5 rows of Standardized Validation Data:\")\n",
    "display(X_val_standardized.head())\n",
    "\n",
    "# Display first few rows of the transformed test set\n",
    "print(\"First 5 rows of Standardized Test Data:\")\n",
    "display(X_test_standardized.head())\n"
   ]
  },
  {
   "cell_type": "markdown",
   "metadata": {},
   "source": [
    "## 📌 **Task 5: Feature Selection**\n",
    "\n",
    "Not all features contribute equally to model performance. Some may add noise, increase computation time, or lead to overfitting.  \n",
    "In this step, we:\n",
    "- **Remove low-variance features** that do not provide much information.\n",
    "- **Eliminate highly correlated features** to prevent redundancy.\n",
    "- **Justify why feature selection is performed after data splitting** to avoid **data leakage**.\n"
   ]
  },
  {
   "cell_type": "markdown",
   "metadata": {},
   "source": [
    "### Step 1: Removing Low-Variance Features\n"
   ]
  },
  {
   "cell_type": "markdown",
   "metadata": {},
   "source": [
    "Low-variance features provide little or no useful information.  \n",
    "If a feature has almost the same value across all examples, it does not contribute meaningfully to predictions."
   ]
  },
  {
   "cell_type": "code",
   "execution_count": 42,
   "metadata": {},
   "outputs": [
    {
     "name": "stdout",
     "output_type": "stream",
     "text": [
      "Original feature count: 12\n",
      "Reduced feature count after variance thresholding: 12\n"
     ]
    }
   ],
   "source": [
    "# Initialize VarianceThreshold with a small threshold (remove near-constant features)\n",
    "var_thresh = VarianceThreshold(threshold=0.01)\n",
    "\n",
    "# Apply variance thresholding to the correct dataset (X_train_standardized)\n",
    "X_train_reduced = var_thresh.fit_transform(X_train_standardized)\n",
    "\n",
    "# Apply the same transformation to validation and test sets\n",
    "X_val_reduced = var_thresh.transform(X_val_standardized)\n",
    "X_test_reduced = var_thresh.transform(X_test_standardized)\n",
    "\n",
    "# Print the number of features before and after selection\n",
    "print(f\"Original feature count: {X_train_standardized.shape[1]}\")\n",
    "print(f\"Reduced feature count after variance thresholding: {X_train_reduced.shape[1]}\")\n"
   ]
  },
  {
   "cell_type": "markdown",
   "metadata": {},
   "source": [
    "No features were removed after applying **Variance Threshold**, this means that:\n",
    "- **All features have sufficient variance**, contributing meaningful information.\n",
    "- **The dataset does not contain near-constant features**, which is a positive outcome.\n",
    "- **Standardization does not affect variance rankings**, so scaling does not change feature selection.\n"
   ]
  },
  {
   "cell_type": "markdown",
   "metadata": {},
   "source": [
    "### Step 2: Removing Highly Correlated Features"
   ]
  },
  {
   "cell_type": "markdown",
   "metadata": {},
   "source": [
    "High correlation between features can cause **redundancy**, leading to biased models.  \n",
    "We remove one feature from each highly correlated pair to reduce redundancy.\n"
   ]
  },
  {
   "cell_type": "code",
   "execution_count": 43,
   "metadata": {},
   "outputs": [
    {
     "name": "stderr",
     "output_type": "stream",
     "text": [
      "C:\\Users\\ASUS\\AppData\\Roaming\\Python\\Python312\\site-packages\\IPython\\core\\pylabtools.py:152: UserWarning: Glyph 128269 (\\N{LEFT-POINTING MAGNIFYING GLASS}) missing from current font.\n",
      "  fig.canvas.print_figure(bytes_io, **kw)\n"
     ]
    },
    {
     "data": {
      "image/png": "[encoded data removed]",
      "text/plain": [
       "<Figure size 1000x800 with 2 Axes>"
      ]
     },
     "metadata": {},
     "output_type": "display_data"
    }
   ],
   "source": [
    "# Convert X_train_reduced back to DataFrame (preserving column names)\n",
    "X_train_reduced_df = pd.DataFrame(X_train_reduced, columns=X_train_standardized.columns)\n",
    "\n",
    "# Compute correlation matrix\n",
    "corr_matrix = X_train_reduced_df.corr()\n",
    "\n",
    "# Plot the heatmap\n",
    "plt.figure(figsize=(10, 8))\n",
    "sns.heatmap(corr_matrix, annot=True, fmt=\".2f\", cmap=\"coolwarm\", linewidths=0.5, vmin=-1, vmax=1)\n",
    "plt.title(\"🔍 Feature Correlation Heatmap (Before Feature Selection)\")\n",
    "plt.show()"
   ]
  },
  {
   "cell_type": "code",
   "execution_count": 44,
   "metadata": {},
   "outputs": [
    {
     "name": "stdout",
     "output_type": "stream",
     "text": [
      "Highly correlated features removed: ['sex_male']\n"
     ]
    }
   ],
   "source": [
    "# Convert X_train_reduced back to DataFrame (preserving column names)\n",
    "X_train_reduced_df = pd.DataFrame(X_train_reduced, columns=X_train_standardized.columns)\n",
    "\n",
    "# Compute correlation matrix AFTER variance thresholding\n",
    "corr_matrix = X_train_reduced_df.corr().abs()\n",
    "\n",
    "# Identify highly correlated features (threshold > 0.85)\n",
    "upper_tri = corr_matrix.where(np.triu(np.ones(corr_matrix.shape), k=1).astype(bool))\n",
    "high_corr_features = [column for column in upper_tri.columns if any(upper_tri[column] > 0.85)]\n",
    "\n",
    "# Drop highly correlated features from all datasets\n",
    "X_train_reduced_df = X_train_reduced_df.drop(columns=high_corr_features)\n",
    "X_val_reduced = X_val_standardized.drop(columns=high_corr_features)\n",
    "X_test_reduced = X_test_standardized.drop(columns=high_corr_features)\n",
    "\n",
    "# Print removed features\n",
    "print(f\"Highly correlated features removed: {high_corr_features}\")\n"
   ]
  },
  {
   "cell_type": "markdown",
   "metadata": {},
   "source": [
    "🔍 **Feature Correlation Analysis**  \n",
    "\n",
    "- **One feature was removed** due to **high correlation**: `sex_male`.  \n",
    "- **This means that another feature already captures similar information**, making `sex_male` redundant.  \n",
    "- **Removing it helps prevent multicollinearity**, improving model interpretability and stability.  \n",
    "- **Feature engineering and encoding remain well-executed**, as only one feature needed removal. 🚀\n"
   ]
  },
  {
   "cell_type": "markdown",
   "metadata": {},
   "source": [
    "### Step 3: Why Perform Feature Selection After Splitting?\n"
   ]
  },
  {
   "cell_type": "markdown",
   "metadata": {},
   "source": [
    "Feature selection should be done **only on the training set** to avoid **data leakage**.  \n",
    "If we apply it to the entire dataset before splitting, the test and validation sets may **contain information from the training data**, leading to **inflated model performance**.\n",
    "\n",
    "**Key Reasons**\n",
    "| Reason | Explanation |\n",
    "|--------|------------|\n",
    "| **Data Leakage** | If selection is done before splitting, information from the test set influences training. |\n",
    "| **Overfitting Risk** | The model may learn patterns that only exist in the test/validation data. |\n",
    "| **Generalization** | Features should be selected based only on training data to ensure proper evaluation. |"
   ]
  },
  {
   "cell_type": "markdown",
   "metadata": {},
   "source": [
    "## **Task 6: Adressing Class Imbalance**\n",
    "\n",
    "While experimenting, I evaluated both SMOTE and ADASYN to handle class imbalance. Although ADASYN generates synthetic samples adaptively, we found that SMOTE produces more stable and consistent synthetic examples without overfitting to noise. SMOTE better maintains the original feature distribution and yields a balanced training set, which is why we chose it over ADASYN.\n",
    "\n",
    "Below, we visualize the class distribution in the training set **before** and **after** applying SMOTE.\n"
   ]
  },
  {
   "cell_type": "code",
   "execution_count": 45,
   "metadata": {},
   "outputs": [
    {
     "name": "stderr",
     "output_type": "stream",
     "text": [
      "C:\\Users\\ASUS\\AppData\\Local\\Temp\\ipykernel_3372\\4220249987.py:3: FutureWarning: \n",
      "\n",
      "Passing `palette` without assigning `hue` is deprecated and will be removed in v0.14.0. Assign the `x` variable to `hue` and set `legend=False` for the same effect.\n",
      "\n",
      "  sns.barplot(x=y_train.value_counts().index.astype(str), y=y_train.value_counts().values, palette=\"viridis\")\n"
     ]
    },
    {
     "data": {
      "image/png": "[encoded data removed]",
      "text/plain": [
       "<Figure size 600x400 with 1 Axes>"
      ]
     },
     "metadata": {},
     "output_type": "display_data"
    },
    {
     "name": "stdout",
     "output_type": "stream",
     "text": [
      "Class distribution before SMOTE:\n",
      "survived\n",
      "0    566\n",
      "1    350\n",
      "Name: count, dtype: int64\n"
     ]
    }
   ],
   "source": [
    "# Visualize class distribution before applying SMOTE\n",
    "plt.figure(figsize=(6, 4))\n",
    "sns.barplot(x=y_train.value_counts().index.astype(str), y=y_train.value_counts().values, palette=\"viridis\")\n",
    "plt.title(\"Class Distribution Before SMOTE\")\n",
    "plt.xlabel(\"Survived\")\n",
    "plt.ylabel(\"Count\")\n",
    "plt.show()\n",
    "\n",
    "print(\"Class distribution before SMOTE:\")\n",
    "print(y_train.value_counts())"
   ]
  },
  {
   "cell_type": "markdown",
   "metadata": {},
   "source": [
    "#### Step 1: Applying SMOTE"
   ]
  },
  {
   "cell_type": "markdown",
   "metadata": {},
   "source": [
    "We now apply SMOTE **only on the training set** to balance the classes. This prevents data leakage into the validation and test sets."
   ]
  },
  {
   "cell_type": "code",
   "execution_count": 46,
   "metadata": {},
   "outputs": [
    {
     "name": "stdout",
     "output_type": "stream",
     "text": [
      "Class distribution after SMOTE:\n",
      "survived\n",
      "0    566\n",
      "1    566\n",
      "Name: count, dtype: int64\n"
     ]
    }
   ],
   "source": [
    "from imblearn.over_sampling import SMOTE\n",
    "\n",
    "# Initialize SMOTE with a fixed random state for reproducibility\n",
    "smote = SMOTE(random_state=42)\n",
    "\n",
    "# Apply SMOTE to the training set\n",
    "X_train_resampled, y_train_resampled = smote.fit_resample(X_train_reduced_df, y_train)\n",
    "\n",
    "print(\"Class distribution after SMOTE:\")\n",
    "print(pd.Series(y_train_resampled).value_counts())\n"
   ]
  },
  {
   "cell_type": "markdown",
   "metadata": {},
   "source": [
    "#### Step 2: Visualizing the Class Distribution After SMOTE"
   ]
  },
  {
   "cell_type": "markdown",
   "metadata": {},
   "source": [
    "The following plot shows that SMOTE has balanced the classes in the training set."
   ]
  },
  {
   "cell_type": "code",
   "execution_count": 47,
   "metadata": {},
   "outputs": [
    {
     "name": "stderr",
     "output_type": "stream",
     "text": [
      "C:\\Users\\ASUS\\AppData\\Local\\Temp\\ipykernel_3372\\269464185.py:3: FutureWarning: \n",
      "\n",
      "Passing `palette` without assigning `hue` is deprecated and will be removed in v0.14.0. Assign the `x` variable to `hue` and set `legend=False` for the same effect.\n",
      "\n",
      "  sns.barplot(x=pd.Series(y_train_resampled).value_counts().index.astype(str),\n"
     ]
    },
    {
     "data": {
      "image/png": "[encoded data removed]",
      "text/plain": [
       "<Figure size 600x400 with 1 Axes>"
      ]
     },
     "metadata": {},
     "output_type": "display_data"
    }
   ],
   "source": [
    "# Visualize class distribution after applying SMOTE\n",
    "plt.figure(figsize=(6, 4))\n",
    "sns.barplot(x=pd.Series(y_train_resampled).value_counts().index.astype(str), \n",
    "            y=pd.Series(y_train_resampled).value_counts().values, palette=\"viridis\")\n",
    "plt.title(\"Class Distribution After SMOTE\")\n",
    "plt.xlabel(\"Survived\")\n",
    "plt.ylabel(\"Count\")\n",
    "plt.show()\n"
   ]
  },
  {
   "cell_type": "markdown",
   "metadata": {},
   "source": [
    "- **SMOTE** was chosen over **ADASYN** because it provides more stable synthetic samples and maintains the underlying feature distribution better.\n",
    "- **Class distributions** are visualized before and after SMOTE, demonstrating that SMOTE effectively balances the training set.\n",
    "- Importantly, SMOTE is applied **only on the training set** to avoid data leakage, while the validation and test sets retain their original imbalanced distribution for unbiased evaluation."
   ]
  },
  {
   "cell_type": "markdown",
   "metadata": {},
   "source": [
    "## 📌 **Task 8: Training a Logistic Regression Model**\n",
    "\n",
    "In this task, we will train a **Logistic Regression model** to predict whether a passenger survived the Titanic disaster.  \n",
    "\n",
    "We will follow these steps:  \n",
    "1. **Train the model** using the **SMOTE-resampled training data**.  \n",
    "2. **Make predictions** on the validation set.  \n",
    "3. **Evaluate model accuracy** and compare it to baseline accuracy.  \n",
    "4. **Visualize the model’s confidence in predictions**.\n"
   ]
  },
  {
   "cell_type": "markdown",
   "metadata": {},
   "source": [
    "### Step 1: Training the Logistic Regression Model  \n"
   ]
  },
  {
   "cell_type": "markdown",
   "metadata": {},
   "source": [
    "We train a **Logistic Regression** model using the **SMOTE-balanced training dataset** to improve classification performance."
   ]
  },
  {
   "cell_type": "code",
   "execution_count": 48,
   "metadata": {},
   "outputs": [
    {
     "data": {
      "text/html": [
       "<style>#sk-container-id-1 {\n",
       "  /* Definition of color scheme common for light and dark mode */\n",
       "  --sklearn-color-text: black;\n",
       "  --sklearn-color-line: gray;\n",
       "  /* Definition of color scheme for unfitted estimators */\n",
       "  --sklearn-color-unfitted-level-0: #fff5e6;\n",
       "  --sklearn-color-unfitted-level-1: #f6e4d2;\n",
       "  --sklearn-color-unfitted-level-2: #ffe0b3;\n",
       "  --sklearn-color-unfitted-level-3: chocolate;\n",
       "  /* Definition of color scheme for fitted estimators */\n",
       "  --sklearn-color-fitted-level-0: #f0f8ff;\n",
       "  --sklearn-color-fitted-level-1: #d4ebff;\n",
       "  --sklearn-color-fitted-level-2: #b3dbfd;\n",
       "  --sklearn-color-fitted-level-3: cornflowerblue;\n",
       "\n",
       "  /* Specific color for light theme */\n",
       "  --sklearn-color-text-on-default-background: var(--sg-text-color, var(--theme-code-foreground, var(--jp-content-font-color1, black)));\n",
       "  --sklearn-color-background: var(--sg-background-color, var(--theme-background, var(--jp-layout-color0, white)));\n",
       "  --sklearn-color-border-box: var(--sg-text-color, var(--theme-code-foreground, var(--jp-content-font-color1, black)));\n",
       "  --sklearn-color-icon: #696969;\n",
       "\n",
       "  @media (prefers-color-scheme: dark) {\n",
       "    /* Redefinition of color scheme for dark theme */\n",
       "    --sklearn-color-text-on-default-background: var(--sg-text-color, var(--theme-code-foreground, var(--jp-content-font-color1, white)));\n",
       "    --sklearn-color-background: var(--sg-background-color, var(--theme-background, var(--jp-layout-color0, #111)));\n",
       "    --sklearn-color-border-box: var(--sg-text-color, var(--theme-code-foreground, var(--jp-content-font-color1, white)));\n",
       "    --sklearn-color-icon: #878787;\n",
       "  }\n",
       "}\n",
       "\n",
       "#sk-container-id-1 {\n",
       "  color: var(--sklearn-color-text);\n",
       "}\n",
       "\n",
       "#sk-container-id-1 pre {\n",
       "  padding: 0;\n",
       "}\n",
       "\n",
       "#sk-container-id-1 input.sk-hidden--visually {\n",
       "  border: 0;\n",
       "  clip: rect(1px 1px 1px 1px);\n",
       "  clip: rect(1px, 1px, 1px, 1px);\n",
       "  height: 1px;\n",
       "  margin: -1px;\n",
       "  overflow: hidden;\n",
       "  padding: 0;\n",
       "  position: absolute;\n",
       "  width: 1px;\n",
       "}\n",
       "\n",
       "#sk-container-id-1 div.sk-dashed-wrapped {\n",
       "  border: 1px dashed var(--sklearn-color-line);\n",
       "  margin: 0 0.4em 0.5em 0.4em;\n",
       "  box-sizing: border-box;\n",
       "  padding-bottom: 0.4em;\n",
       "  background-color: var(--sklearn-color-background);\n",
       "}\n",
       "\n",
       "#sk-container-id-1 div.sk-container {\n",
       "  /* jupyter's `normalize.less` sets `[hidden] { display: none; }`\n",
       "     but bootstrap.min.css set `[hidden] { display: none !important; }`\n",
       "     so we also need the `!important` here to be able to override the\n",
       "     default hidden behavior on the sphinx rendered scikit-learn.org.\n",
       "     See: https://github.com/scikit-learn/scikit-learn/issues/21755 */\n",
       "  display: inline-block !important;\n",
       "  position: relative;\n",
       "}\n",
       "\n",
       "#sk-container-id-1 div.sk-text-repr-fallback {\n",
       "  display: none;\n",
       "}\n",
       "\n",
       "div.sk-parallel-item,\n",
       "div.sk-serial,\n",
       "div.sk-item {\n",
       "  /* draw centered vertical line to link estimators */\n",
       "  background-image: linear-gradient(var(--sklearn-color-text-on-default-background), var(--sklearn-color-text-on-default-background));\n",
       "  background-size: 2px 100%;\n",
       "  background-repeat: no-repeat;\n",
       "  background-position: center center;\n",
       "}\n",
       "\n",
       "/* Parallel-specific style estimator block */\n",
       "\n",
       "#sk-container-id-1 div.sk-parallel-item::after {\n",
       "  content: \"\";\n",
       "  width: 100%;\n",
       "  border-bottom: 2px solid var(--sklearn-color-text-on-default-background);\n",
       "  flex-grow: 1;\n",
       "}\n",
       "\n",
       "#sk-container-id-1 div.sk-parallel {\n",
       "  display: flex;\n",
       "  align-items: stretch;\n",
       "  justify-content: center;\n",
       "  background-color: var(--sklearn-color-background);\n",
       "  position: relative;\n",
       "}\n",
       "\n",
       "#sk-container-id-1 div.sk-parallel-item {\n",
       "  display: flex;\n",
       "  flex-direction: column;\n",
       "}\n",
       "\n",
       "#sk-container-id-1 div.sk-parallel-item:first-child::after {\n",
       "  align-self: flex-end;\n",
       "  width: 50%;\n",
       "}\n",
       "\n",
       "#sk-container-id-1 div.sk-parallel-item:last-child::after {\n",
       "  align-self: flex-start;\n",
       "  width: 50%;\n",
       "}\n",
       "\n",
       "#sk-container-id-1 div.sk-parallel-item:only-child::after {\n",
       "  width: 0;\n",
       "}\n",
       "\n",
       "/* Serial-specific style estimator block */\n",
       "\n",
       "#sk-container-id-1 div.sk-serial {\n",
       "  display: flex;\n",
       "  flex-direction: column;\n",
       "  align-items: center;\n",
       "  background-color: var(--sklearn-color-background);\n",
       "  padding-right: 1em;\n",
       "  padding-left: 1em;\n",
       "}\n",
       "\n",
       "\n",
       "/* Toggleable style: style used for estimator/Pipeline/ColumnTransformer box that is\n",
       "clickable and can be expanded/collapsed.\n",
       "- Pipeline and ColumnTransformer use this feature and define the default style\n",
       "- Estimators will overwrite some part of the style using the `sk-estimator` class\n",
       "*/\n",
       "\n",
       "/* Pipeline and ColumnTransformer style (default) */\n",
       "\n",
       "#sk-container-id-1 div.sk-toggleable {\n",
       "  /* Default theme specific background. It is overwritten whether we have a\n",
       "  specific estimator or a Pipeline/ColumnTransformer */\n",
       "  background-color: var(--sklearn-color-background);\n",
       "}\n",
       "\n",
       "/* Toggleable label */\n",
       "#sk-container-id-1 label.sk-toggleable__label {\n",
       "  cursor: pointer;\n",
       "  display: block;\n",
       "  width: 100%;\n",
       "  margin-bottom: 0;\n",
       "  padding: 0.5em;\n",
       "  box-sizing: border-box;\n",
       "  text-align: center;\n",
       "}\n",
       "\n",
       "#sk-container-id-1 label.sk-toggleable__label-arrow:before {\n",
       "  /* Arrow on the left of the label */\n",
       "  content: \"▸\";\n",
       "  float: left;\n",
       "  margin-right: 0.25em;\n",
       "  color: var(--sklearn-color-icon);\n",
       "}\n",
       "\n",
       "#sk-container-id-1 label.sk-toggleable__label-arrow:hover:before {\n",
       "  color: var(--sklearn-color-text);\n",
       "}\n",
       "\n",
       "/* Toggleable content - dropdown */\n",
       "\n",
       "#sk-container-id-1 div.sk-toggleable__content {\n",
       "  max-height: 0;\n",
       "  max-width: 0;\n",
       "  overflow: hidden;\n",
       "  text-align: left;\n",
       "  /* unfitted */\n",
       "  background-color: var(--sklearn-color-unfitted-level-0);\n",
       "}\n",
       "\n",
       "#sk-container-id-1 div.sk-toggleable__content.fitted {\n",
       "  /* fitted */\n",
       "  background-color: var(--sklearn-color-fitted-level-0);\n",
       "}\n",
       "\n",
       "#sk-container-id-1 div.sk-toggleable__content pre {\n",
       "  margin: 0.2em;\n",
       "  border-radius: 0.25em;\n",
       "  color: var(--sklearn-color-text);\n",
       "  /* unfitted */\n",
       "  background-color: var(--sklearn-color-unfitted-level-0);\n",
       "}\n",
       "\n",
       "#sk-container-id-1 div.sk-toggleable__content.fitted pre {\n",
       "  /* unfitted */\n",
       "  background-color: var(--sklearn-color-fitted-level-0);\n",
       "}\n",
       "\n",
       "#sk-container-id-1 input.sk-toggleable__control:checked~div.sk-toggleable__content {\n",
       "  /* Expand drop-down */\n",
       "  max-height: 200px;\n",
       "  max-width: 100%;\n",
       "  overflow: auto;\n",
       "}\n",
       "\n",
       "#sk-container-id-1 input.sk-toggleable__control:checked~label.sk-toggleable__label-arrow:before {\n",
       "  content: \"▾\";\n",
       "}\n",
       "\n",
       "/* Pipeline/ColumnTransformer-specific style */\n",
       "\n",
       "#sk-container-id-1 div.sk-label input.sk-toggleable__control:checked~label.sk-toggleable__label {\n",
       "  color: var(--sklearn-color-text);\n",
       "  background-color: var(--sklearn-color-unfitted-level-2);\n",
       "}\n",
       "\n",
       "#sk-container-id-1 div.sk-label.fitted input.sk-toggleable__control:checked~label.sk-toggleable__label {\n",
       "  background-color: var(--sklearn-color-fitted-level-2);\n",
       "}\n",
       "\n",
       "/* Estimator-specific style */\n",
       "\n",
       "/* Colorize estimator box */\n",
       "#sk-container-id-1 div.sk-estimator input.sk-toggleable__control:checked~label.sk-toggleable__label {\n",
       "  /* unfitted */\n",
       "  background-color: var(--sklearn-color-unfitted-level-2);\n",
       "}\n",
       "\n",
       "#sk-container-id-1 div.sk-estimator.fitted input.sk-toggleable__control:checked~label.sk-toggleable__label {\n",
       "  /* fitted */\n",
       "  background-color: var(--sklearn-color-fitted-level-2);\n",
       "}\n",
       "\n",
       "#sk-container-id-1 div.sk-label label.sk-toggleable__label,\n",
       "#sk-container-id-1 div.sk-label label {\n",
       "  /* The background is the default theme color */\n",
       "  color: var(--sklearn-color-text-on-default-background);\n",
       "}\n",
       "\n",
       "/* On hover, darken the color of the background */\n",
       "#sk-container-id-1 div.sk-label:hover label.sk-toggleable__label {\n",
       "  color: var(--sklearn-color-text);\n",
       "  background-color: var(--sklearn-color-unfitted-level-2);\n",
       "}\n",
       "\n",
       "/* Label box, darken color on hover, fitted */\n",
       "#sk-container-id-1 div.sk-label.fitted:hover label.sk-toggleable__label.fitted {\n",
       "  color: var(--sklearn-color-text);\n",
       "  background-color: var(--sklearn-color-fitted-level-2);\n",
       "}\n",
       "\n",
       "/* Estimator label */\n",
       "\n",
       "#sk-container-id-1 div.sk-label label {\n",
       "  font-family: monospace;\n",
       "  font-weight: bold;\n",
       "  display: inline-block;\n",
       "  line-height: 1.2em;\n",
       "}\n",
       "\n",
       "#sk-container-id-1 div.sk-label-container {\n",
       "  text-align: center;\n",
       "}\n",
       "\n",
       "/* Estimator-specific */\n",
       "#sk-container-id-1 div.sk-estimator {\n",
       "  font-family: monospace;\n",
       "  border: 1px dotted var(--sklearn-color-border-box);\n",
       "  border-radius: 0.25em;\n",
       "  box-sizing: border-box;\n",
       "  margin-bottom: 0.5em;\n",
       "  /* unfitted */\n",
       "  background-color: var(--sklearn-color-unfitted-level-0);\n",
       "}\n",
       "\n",
       "#sk-container-id-1 div.sk-estimator.fitted {\n",
       "  /* fitted */\n",
       "  background-color: var(--sklearn-color-fitted-level-0);\n",
       "}\n",
       "\n",
       "/* on hover */\n",
       "#sk-container-id-1 div.sk-estimator:hover {\n",
       "  /* unfitted */\n",
       "  background-color: var(--sklearn-color-unfitted-level-2);\n",
       "}\n",
       "\n",
       "#sk-container-id-1 div.sk-estimator.fitted:hover {\n",
       "  /* fitted */\n",
       "  background-color: var(--sklearn-color-fitted-level-2);\n",
       "}\n",
       "\n",
       "/* Specification for estimator info (e.g. \"i\" and \"?\") */\n",
       "\n",
       "/* Common style for \"i\" and \"?\" */\n",
       "\n",
       ".sk-estimator-doc-link,\n",
       "a:link.sk-estimator-doc-link,\n",
       "a:visited.sk-estimator-doc-link {\n",
       "  float: right;\n",
       "  font-size: smaller;\n",
       "  line-height: 1em;\n",
       "  font-family: monospace;\n",
       "  background-color: var(--sklearn-color-background);\n",
       "  border-radius: 1em;\n",
       "  height: 1em;\n",
       "  width: 1em;\n",
       "  text-decoration: none !important;\n",
       "  margin-left: 1ex;\n",
       "  /* unfitted */\n",
       "  border: var(--sklearn-color-unfitted-level-1) 1pt solid;\n",
       "  color: var(--sklearn-color-unfitted-level-1);\n",
       "}\n",
       "\n",
       ".sk-estimator-doc-link.fitted,\n",
       "a:link.sk-estimator-doc-link.fitted,\n",
       "a:visited.sk-estimator-doc-link.fitted {\n",
       "  /* fitted */\n",
       "  border: var(--sklearn-color-fitted-level-1) 1pt solid;\n",
       "  color: var(--sklearn-color-fitted-level-1);\n",
       "}\n",
       "\n",
       "/* On hover */\n",
       "div.sk-estimator:hover .sk-estimator-doc-link:hover,\n",
       ".sk-estimator-doc-link:hover,\n",
       "div.sk-label-container:hover .sk-estimator-doc-link:hover,\n",
       ".sk-estimator-doc-link:hover {\n",
       "  /* unfitted */\n",
       "  background-color: var(--sklearn-color-unfitted-level-3);\n",
       "  color: var(--sklearn-color-background);\n",
       "  text-decoration: none;\n",
       "}\n",
       "\n",
       "div.sk-estimator.fitted:hover .sk-estimator-doc-link.fitted:hover,\n",
       ".sk-estimator-doc-link.fitted:hover,\n",
       "div.sk-label-container:hover .sk-estimator-doc-link.fitted:hover,\n",
       ".sk-estimator-doc-link.fitted:hover {\n",
       "  /* fitted */\n",
       "  background-color: var(--sklearn-color-fitted-level-3);\n",
       "  color: var(--sklearn-color-background);\n",
       "  text-decoration: none;\n",
       "}\n",
       "\n",
       "/* Span, style for the box shown on hovering the info icon */\n",
       ".sk-estimator-doc-link span {\n",
       "  display: none;\n",
       "  z-index: 9999;\n",
       "  position: relative;\n",
       "  font-weight: normal;\n",
       "  right: .2ex;\n",
       "  padding: .5ex;\n",
       "  margin: .5ex;\n",
       "  width: min-content;\n",
       "  min-width: 20ex;\n",
       "  max-width: 50ex;\n",
       "  color: var(--sklearn-color-text);\n",
       "  box-shadow: 2pt 2pt 4pt #999;\n",
       "  /* unfitted */\n",
       "  background: var(--sklearn-color-unfitted-level-0);\n",
       "  border: .5pt solid var(--sklearn-color-unfitted-level-3);\n",
       "}\n",
       "\n",
       ".sk-estimator-doc-link.fitted span {\n",
       "  /* fitted */\n",
       "  background: var(--sklearn-color-fitted-level-0);\n",
       "  border: var(--sklearn-color-fitted-level-3);\n",
       "}\n",
       "\n",
       ".sk-estimator-doc-link:hover span {\n",
       "  display: block;\n",
       "}\n",
       "\n",
       "/* \"?\"-specific style due to the `<a>` HTML tag */\n",
       "\n",
       "#sk-container-id-1 a.estimator_doc_link {\n",
       "  float: right;\n",
       "  font-size: 1rem;\n",
       "  line-height: 1em;\n",
       "  font-family: monospace;\n",
       "  background-color: var(--sklearn-color-background);\n",
       "  border-radius: 1rem;\n",
       "  height: 1rem;\n",
       "  width: 1rem;\n",
       "  text-decoration: none;\n",
       "  /* unfitted */\n",
       "  color: var(--sklearn-color-unfitted-level-1);\n",
       "  border: var(--sklearn-color-unfitted-level-1) 1pt solid;\n",
       "}\n",
       "\n",
       "#sk-container-id-1 a.estimator_doc_link.fitted {\n",
       "  /* fitted */\n",
       "  border: var(--sklearn-color-fitted-level-1) 1pt solid;\n",
       "  color: var(--sklearn-color-fitted-level-1);\n",
       "}\n",
       "\n",
       "/* On hover */\n",
       "#sk-container-id-1 a.estimator_doc_link:hover {\n",
       "  /* unfitted */\n",
       "  background-color: var(--sklearn-color-unfitted-level-3);\n",
       "  color: var(--sklearn-color-background);\n",
       "  text-decoration: none;\n",
       "}\n",
       "\n",
       "#sk-container-id-1 a.estimator_doc_link.fitted:hover {\n",
       "  /* fitted */\n",
       "  background-color: var(--sklearn-color-fitted-level-3);\n",
       "}\n",
       "</style><div id=\"sk-container-id-1\" class=\"sk-top-container\"><div class=\"sk-text-repr-fallback\"><pre>LogisticRegression(max_iter=500, random_state=42)</pre><b>In a Jupyter environment, please rerun this cell to show the HTML representation or trust the notebook. <br />On GitHub, the HTML representation is unable to render, please try loading this page with nbviewer.org.</b></div><div class=\"sk-container\" hidden><div class=\"sk-item\"><div class=\"sk-estimator fitted sk-toggleable\"><input class=\"sk-toggleable__control sk-hidden--visually\" id=\"sk-estimator-id-1\" type=\"checkbox\" checked><label for=\"sk-estimator-id-1\" class=\"sk-toggleable__label fitted sk-toggleable__label-arrow fitted\">&nbsp;&nbsp;LogisticRegression<a class=\"sk-estimator-doc-link fitted\" rel=\"noreferrer\" target=\"_blank\" href=\"https://scikit-learn.org/1.4/modules/generated/sklearn.linear_model.LogisticRegression.html\">?<span>Documentation for LogisticRegression</span></a><span class=\"sk-estimator-doc-link fitted\">i<span>Fitted</span></span></label><div class=\"sk-toggleable__content fitted\"><pre>LogisticRegression(max_iter=500, random_state=42)</pre></div> </div></div></div></div>"
      ],
      "text/plain": [
       "LogisticRegression(max_iter=500, random_state=42)"
      ]
     },
     "execution_count": 48,
     "metadata": {},
     "output_type": "execute_result"
    }
   ],
   "source": [
    "# Train Logistic Regression Model on the standardized training dataset\n",
    "log_reg = LogisticRegression(random_state=42, max_iter=500)\n",
    "log_reg.fit(X_train_resampled, y_train_resampled)\n",
    "#(X_train_reduced_df, y_train)\n"
   ]
  },
  {
   "cell_type": "markdown",
   "metadata": {},
   "source": [
    "### Step 2: Making Predictions on the Validation Set  \n",
    "\n"
   ]
  },
  {
   "cell_type": "markdown",
   "metadata": {},
   "source": [
    "We use the trained **Logistic Regression model** to predict **whether each passenger survived or not** on the validation set.  \n",
    "- The model **outputs a probability** representing the likelihood of survival.  \n",
    "- A **decision threshold (0.5)** is applied to classify passengers as **survived (1) or not (0)**.  \n",
    "\n",
    " **Probability ≥ 0.5 → Survived (1)**  \n",
    " **Probability < 0.5 → Did not survive (0)**  "
   ]
  },
  {
   "cell_type": "code",
   "execution_count": 49,
   "metadata": {},
   "outputs": [
    {
     "data": {
      "text/html": [
       "<div>\n",
       "<style scoped>\n",
       "    .dataframe tbody tr th:only-of-type {\n",
       "        vertical-align: middle;\n",
       "    }\n",
       "\n",
       "    .dataframe tbody tr th {\n",
       "        vertical-align: top;\n",
       "    }\n",
       "\n",
       "    .dataframe thead th {\n",
       "        text-align: right;\n",
       "    }\n",
       "</style>\n",
       "<table border=\"1\" class=\"dataframe\">\n",
       "  <thead>\n",
       "    <tr style=\"text-align: right;\">\n",
       "      <th></th>\n",
       "      <th>Passenger Index</th>\n",
       "      <th>Predicted Probability</th>\n",
       "      <th>Predicted Survival (Binary)</th>\n",
       "      <th>Actual Survival</th>\n",
       "    </tr>\n",
       "  </thead>\n",
       "  <tbody>\n",
       "    <tr>\n",
       "      <th>0</th>\n",
       "      <td>0</td>\n",
       "      <td>0.134874</td>\n",
       "      <td>0</td>\n",
       "      <td>0</td>\n",
       "    </tr>\n",
       "    <tr>\n",
       "      <th>1</th>\n",
       "      <td>1</td>\n",
       "      <td>0.270416</td>\n",
       "      <td>0</td>\n",
       "      <td>0</td>\n",
       "    </tr>\n",
       "    <tr>\n",
       "      <th>2</th>\n",
       "      <td>2</td>\n",
       "      <td>0.169349</td>\n",
       "      <td>0</td>\n",
       "      <td>1</td>\n",
       "    </tr>\n",
       "    <tr>\n",
       "      <th>3</th>\n",
       "      <td>3</td>\n",
       "      <td>0.602462</td>\n",
       "      <td>1</td>\n",
       "      <td>0</td>\n",
       "    </tr>\n",
       "    <tr>\n",
       "      <th>4</th>\n",
       "      <td>4</td>\n",
       "      <td>0.186294</td>\n",
       "      <td>0</td>\n",
       "      <td>1</td>\n",
       "    </tr>\n",
       "    <tr>\n",
       "      <th>5</th>\n",
       "      <td>5</td>\n",
       "      <td>0.877611</td>\n",
       "      <td>1</td>\n",
       "      <td>1</td>\n",
       "    </tr>\n",
       "    <tr>\n",
       "      <th>6</th>\n",
       "      <td>6</td>\n",
       "      <td>0.238996</td>\n",
       "      <td>0</td>\n",
       "      <td>0</td>\n",
       "    </tr>\n",
       "    <tr>\n",
       "      <th>7</th>\n",
       "      <td>7</td>\n",
       "      <td>0.108216</td>\n",
       "      <td>0</td>\n",
       "      <td>0</td>\n",
       "    </tr>\n",
       "    <tr>\n",
       "      <th>8</th>\n",
       "      <td>8</td>\n",
       "      <td>0.157750</td>\n",
       "      <td>0</td>\n",
       "      <td>0</td>\n",
       "    </tr>\n",
       "    <tr>\n",
       "      <th>9</th>\n",
       "      <td>9</td>\n",
       "      <td>0.809546</td>\n",
       "      <td>1</td>\n",
       "      <td>1</td>\n",
       "    </tr>\n",
       "  </tbody>\n",
       "</table>\n",
       "</div>"
      ],
      "text/plain": [
       "   Passenger Index  Predicted Probability  Predicted Survival (Binary)  \\\n",
       "0                0               0.134874                            0   \n",
       "1                1               0.270416                            0   \n",
       "2                2               0.169349                            0   \n",
       "3                3               0.602462                            1   \n",
       "4                4               0.186294                            0   \n",
       "5                5               0.877611                            1   \n",
       "6                6               0.238996                            0   \n",
       "7                7               0.108216                            0   \n",
       "8                8               0.157750                            0   \n",
       "9                9               0.809546                            1   \n",
       "\n",
       "   Actual Survival  \n",
       "0                0  \n",
       "1                0  \n",
       "2                1  \n",
       "3                0  \n",
       "4                1  \n",
       "5                1  \n",
       "6                0  \n",
       "7                0  \n",
       "8                0  \n",
       "9                1  "
      ]
     },
     "metadata": {},
     "output_type": "display_data"
    }
   ],
   "source": [
    "# Predict survival probabilities on the validation set using the reduced feature set\n",
    "y_val_pred_probs = log_reg.predict_proba(X_val_reduced)[:, 1]  # Extract probabilities for survival (class 1)\n",
    "\n",
    "# Apply a decision threshold to classify passengers\n",
    "threshold = 0.55  # Default threshold\n",
    "y_val_pred = (y_val_pred_probs >= threshold).astype(int)  # Convert probabilities to binary labels\n",
    "\n",
    "# Combine predictions with actual values for comparison\n",
    "predictions_df = pd.DataFrame({\n",
    "    \"Passenger Index\": X_val_reduced.index,  # Ensure index consistency\n",
    "    \"Predicted Probability\": y_val_pred_probs,\n",
    "    \"Predicted Survival (Binary)\": y_val_pred,\n",
    "    \"Actual Survival\": y_val.values  # Actual survival values from the dataset\n",
    "})\n",
    "\n",
    "# Display first few rows of the comparison\n",
    "display(predictions_df.head(10))"
   ]
  },
  {
   "cell_type": "markdown",
   "metadata": {},
   "source": [
    "### Step 3: Computing Accuracy on Validation Set   "
   ]
  },
  {
   "cell_type": "markdown",
   "metadata": {},
   "source": [
    "Now that we have **predicted survival outcomes** for the validation set, we need to assess how well our model performed.  \n",
    "\n",
    "🔹 **Metrics Used for Evaluation**  \n",
    "1. **Validation Accuracy** - Measures the proportion of correctly classified passengers.  \n",
    "2. **Baseline Accuracy** - Accuracy if we always predicted the majority class.  \n",
    "\n",
    "💡 **If the validation accuracy is significantly higher than the baseline accuracy, the model is learning meaningful patterns.**  \n"
   ]
  },
  {
   "cell_type": "code",
   "execution_count": 50,
   "metadata": {},
   "outputs": [
    {
     "name": "stdout",
     "output_type": "stream",
     "text": [
      "✅ Validation Accuracy: 0.8571\n",
      "📌 Baseline Accuracy (Majority Class Prediction): 0.6173\n"
     ]
    }
   ],
   "source": [
    "# Compute validation accuracy using the reduced validation set\n",
    "validation_accuracy = accuracy_score(y_val, y_val_pred)\n",
    "\n",
    "# Compute baseline accuracy (always predicting the majority class)\n",
    "baseline_accuracy = y_val.value_counts().max() / len(y_val)\n",
    "\n",
    "# Print accuracy results\n",
    "print(f\"✅ Validation Accuracy: {validation_accuracy:.4f}\")\n",
    "print(f\"📌 Baseline Accuracy (Majority Class Prediction): {baseline_accuracy:.4f}\")\n"
   ]
  },
  {
   "cell_type": "markdown",
   "metadata": {},
   "source": [
    "### Step 4: Interpreting the Results"
   ]
  },
  {
   "cell_type": "markdown",
   "metadata": {},
   "source": [
    "\n",
    "We compare the **validation accuracy** (`0.8520`) with the **baseline accuracy** (`0.6173`).  \n",
    "\n",
    "#### 🔹 What Do These Numbers Mean?  \n",
    "\n",
    "✅ **Baseline Accuracy (`61.73%`)**  \n",
    "- This represents the **simplest approach**: always predicting the most common class (passenger did not survive).  \n",
    "- If our model was **not learning anything useful**, we would expect it to achieve a score **close to this value**.  \n",
    "\n",
    "✅ **Validation Accuracy (`85.20%`)**  \n",
    "- The model correctly classifies **85.20% of the passengers**.  \n",
    "- This is **significantly higher** than the baseline, meaning the model is **learning real survival patterns** rather than guessing.  \n",
    "\n",
    "#### 🔹 How Good is 85.20% Accuracy?  \n",
    "- **Higher than the baseline**, so the model is **meaningfully better than random chance**.  \n",
    "- Logistic Regression is a **simple, interpretable model**, so this is a strong baseline performance.  \n",
    "- Further **feature engineering, tuning, or different models** (e.g., Decision Trees, Neural Networks) might improve accuracy further."
   ]
  },
  {
   "cell_type": "markdown",
   "metadata": {},
   "source": [
    "### Step 5:  Visualizing Predicted Survival Probabilities   "
   ]
  },
  {
   "cell_type": "markdown",
   "metadata": {},
   "source": [
    "\n",
    "To fully understand how well our model predicts survival, we will generate the following visualizations:\n",
    "\n",
    "🔹 **1. Distribution of Predicted Survival Probabilities**  \n",
    "   - This shows how confident the model is in its predictions.  \n",
    "   - The red line at `0.5` represents the decision threshold used for classification.  \n",
    "\n",
    "🔹 **2. Receiver Operating Characteristic (ROC) Curve**  \n",
    "   - The ROC curve helps us evaluate the trade-off between **True Positive Rate (Sensitivity)** and **False Positive Rate (1 - Specificity)** across different threshold values.  \n",
    "   - The **AUC (Area Under the Curve)** summarizes the model’s ability to distinguish between survivors and non-survivors.  \n",
    "\n",
    "🔹 **3. Confusion Matrix**  \n",
    "   - Provides a breakdown of model performance in terms of **True Positives (TP)**, **True Negatives (TN)**, **False Positives (FP)**, and **False Negatives (FN)**.  \n",
    "   - This allows us to see where the model is making errors.  \n",
    "\n"
   ]
  },
  {
   "cell_type": "code",
   "execution_count": 51,
   "metadata": {},
   "outputs": [
    {
     "data": {
      "image/png": "[encoded data removed]",
      "text/plain": [
       "<Figure size 800x500 with 1 Axes>"
      ]
     },
     "metadata": {},
     "output_type": "display_data"
    }
   ],
   "source": [
    "# Suppress seaborn/matplotlib warnings\n",
    "warnings.filterwarnings(\"ignore\", category=UserWarning)\n",
    "\n",
    "# Create a figure with adjusted size\n",
    "plt.figure(figsize=(8, 5))\n",
    "\n",
    "# Plot distribution of predicted survival probabilities\n",
    "sns.histplot(y_val_pred_probs, bins=100, kde=True, color=\"blue\", alpha=0.6, label=\"Predicted Probabilities\")\n",
    "\n",
    "# Mark the decision threshold at 0.5\n",
    "plt.axvline(x=0.55, color=\"red\", linestyle=\"--\", label=\"Decision Threshold (0.4)\")\n",
    "\n",
    "# Customize labels and title\n",
    "plt.xlabel(\"Predicted Probability of Survival\")\n",
    "plt.ylabel(\"Frequency\")\n",
    "plt.title(\"📊 Distribution of Predicted Survival Probabilities\")\n",
    "\n",
    "# Display legend\n",
    "plt.legend()\n",
    "\n",
    "# Show the plot\n",
    "plt.show()\n",
    "\n"
   ]
  },
  {
   "cell_type": "markdown",
   "metadata": {},
   "source": [
    "**Most probabilities are clustered near 0 and 1**, meaning the model is confident in its predictions.  \n",
    "**A clear decision threshold (0.5) separates predictions into survived vs. not survived.**  \n",
    "**This visualization helps us understand how confidently the model classifies passengers.**\n"
   ]
  },
  {
   "cell_type": "code",
   "execution_count": 52,
   "metadata": {},
   "outputs": [
    {
     "data": {
      "image/png": "[encoded data removed]",
      "text/plain": [
       "<Figure size 800x600 with 1 Axes>"
      ]
     },
     "metadata": {},
     "output_type": "display_data"
    }
   ],
   "source": [
    "# Compute False Positive Rate (FPR) and True Positive Rate (TPR)\n",
    "fpr, tpr, thresholds = roc_curve(y_val, y_val_pred_probs)\n",
    "\n",
    "# Compute Area Under the Curve (AUC)\n",
    "roc_auc = auc(fpr, tpr)\n",
    "\n",
    "# Plot ROC Curve\n",
    "plt.figure(figsize=(8, 6))\n",
    "plt.plot(fpr, tpr, color='blue', lw=2, label=f'ROC Curve (AUC = {roc_auc:.2f})')\n",
    "plt.plot([0, 1], [0, 1], color='red', linestyle='--', lw=2, label='Random Guess')\n",
    "plt.xlim([0.0, 1.0])\n",
    "plt.ylim([0.0, 1.05])\n",
    "plt.xlabel('False Positive Rate (FPR)')\n",
    "plt.ylabel('True Positive Rate (TPR)')\n",
    "plt.title('Receiver Operating Characteristic (ROC) Curve')\n",
    "plt.legend(loc='lower right')\n",
    "plt.grid(alpha=0.3)\n",
    "plt.show()\n"
   ]
  },
  {
   "cell_type": "markdown",
   "metadata": {},
   "source": [
    "The **ROC Curve** evaluates the trade-off between the **True Positive Rate (TPR, or Sensitivity)** and **False Positive Rate (FPR, or 1 - Specificity)** at various classification thresholds.\n",
    "\n",
    "✅ **Key Insights from the ROC Curve:**\n",
    "- The blue line represents the performance of the **Logistic Regression model**.\n",
    "- The red dashed line represents a **random classifier** (baseline, AUC = 0.50).\n",
    "- The **higher the curve is above the red line**, the better the model is at distinguishing between survivors and non-survivors.\n",
    "\n",
    "🔹 **AUC Score Interpretation:**\n",
    "- **AUC = 0.90** means the model has **high discriminatory power**.\n",
    "- **AUC close to 1.0** suggests a nearly perfect classifier.\n",
    "- **AUC near 0.5** would indicate random guessing.\n"
   ]
  },
  {
   "cell_type": "code",
   "execution_count": 53,
   "metadata": {},
   "outputs": [
    {
     "data": {
      "image/png": "[encoded data removed]",
      "text/plain": [
       "<Figure size 600x500 with 2 Axes>"
      ]
     },
     "metadata": {},
     "output_type": "display_data"
    }
   ],
   "source": [
    "# Suppress specific warnings\n",
    "warnings.filterwarnings(\"ignore\", category=UserWarning)\n",
    "\n",
    "# Compute Confusion Matrix\n",
    "cm = confusion_matrix(y_val, y_val_pred)\n",
    "\n",
    "# Create figure and axis\n",
    "fig, ax = plt.subplots(figsize=(6, 5))\n",
    "\n",
    "# Initialize Confusion Matrix Display\n",
    "disp = ConfusionMatrixDisplay(confusion_matrix=cm, display_labels=['Did Not Survive', 'Survived'])\n",
    "\n",
    "# Plot the confusion matrix\n",
    "disp.plot(cmap='Blues', ax=ax, values_format='d')\n",
    "\n",
    "# Customize title\n",
    "ax.set_title('📊 Confusion Matrix for Logistic Regression')\n",
    "\n",
    "# Ensure only one plt.show() call\n",
    "plt.show()\n"
   ]
  },
  {
   "cell_type": "markdown",
   "metadata": {},
   "source": [
    "|   | **Predicted: Did Not Survive** | **Predicted: Survived** |\n",
    "|---|-------------------------------|--------------------------|\n",
    "| **Actual: Did Not Survive**  | **102** (True Negatives - TN) | **19** (False Positives - FP) |\n",
    "| **Actual: Survived**  | **11** (False Negatives - FN) | **64** (True Positives - TP) |\n",
    "\n",
    "**Insights:**\n",
    "- **True Positives (TP) = 64:** Passengers correctly predicted to have survived.\n",
    "- **True Negatives (TN) = 102:** Passengers correctly predicted not to have survived.\n",
    "- **False Positives (FP) = 19:** Passengers incorrectly predicted to have survived.\n",
    "- **False Negatives (FN) = 11:** Passengers incorrectly predicted not to have survived.\n",
    "\n",
    "✅ **The model performs well, but there are still 19 False Positives and 11 False Negatives.**  \n",
    "✅ **The False Negative rate is important as missing survivors could have serious consequences.**  \n",
    "✅ **Further tuning, adjusting the decision threshold, or trying alternative models may improve performance.**\n"
   ]
  },
  {
   "cell_type": "markdown",
   "metadata": {},
   "source": [
    "### Step 6: Final Summary: Logistic Regression Model for Titanic Survival Prediction\n"
   ]
  },
  {
   "cell_type": "markdown",
   "metadata": {},
   "source": [
    "🔹 **Key Steps and Results**\n",
    "| **Step**                     | **Summary** |\n",
    "|------------------------------|-------------|\n",
    "| **Data Preprocessing**        | Handled missing values, encoded categorical variables, and standardized numerical features. |\n",
    "| **Data Splitting**            | Split into training (70%), validation (15%), and test (15%) with stratification. |\n",
    "| **Addressing Class Imbalance**| Applied **SMOTE** to balance the dataset. |\n",
    "| **Feature Selection**         | Checked for low-variance and high-correlation features (none removed). |\n",
    "| **Model Training**            | Trained **Logistic Regression** on resampled data with 500 iterations. |\n",
    "| **Model Evaluation**          | **Validation Accuracy: 84.69%**, **Baseline Accuracy: 61.73%** |\n",
    "| **ROC Curve Analysis**        | **AUC = 0.90**, indicating **strong discriminatory power**. |\n",
    "| **Confusion Matrix Insights** | 102 **True Negatives**, 64 **True Positives**, 19 **False Positives**, 11 **False Negatives**. |\n",
    "| **Prediction Probability Distribution** | The model is confident, pushing probabilities toward **0 and 1**, minimizing uncertainty. |\n",
    "\n",
    "**📊 Key Takeaways**\n",
    "- **Model Performance:** The logistic regression classifier **outperforms the baseline** (61.73%) with a **solid accuracy of 84.69%**.\n",
    "- **ROC Curve Strength:** **AUC = 0.90** confirms the model is **effective at distinguishing survivors** from non-survivors.\n",
    "- **Confusion Matrix Insights:** The model makes **some errors**, but it **correctly classifies most cases**.\n",
    "- **Confidence in Predictions:** The probability distribution suggests the model makes **strongly confident classifications**.\n",
    "\n",
    "**🚀 Final Verdict**\n",
    "✅ **Our model is performing well**, with **high accuracy, strong classification power, and clear probability distribution patterns.**  \n",
    "✅ **Potential Improvements:** Fine-tuning hyperparameters, adjusting the decision threshold, or trying **alternative models (e.g., Random Forest, XGBoost)** could further enhance performance.  \n",
    "\n",
    "📌 **Conclusion:** The logistic regression model provides **meaningful insights into survival probabilities** on the Titanic and serves as a strong foundation for further improvements. 🎯"
   ]
  }
 ],
 "metadata": {
  "kernelspec": {
   "display_name": "Python 3",
   "language": "python",
   "name": "python3"
  },
  "language_info": {
   "codemirror_mode": {
    "name": "ipython",
    "version": 3
   },
   "file_extension": ".py",
   "mimetype": "text/x-python",
   "name": "python",
   "nbconvert_exporter": "python",
   "pygments_lexer": "ipython3",
   "version": "3.12.4"
  }
 },
 "nbformat": 4,
 "nbformat_minor": 2
}
