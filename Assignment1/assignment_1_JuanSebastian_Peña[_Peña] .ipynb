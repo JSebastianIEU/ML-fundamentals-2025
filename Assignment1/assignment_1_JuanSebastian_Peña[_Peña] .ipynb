{
 "cells": [
  {
   "cell_type": "markdown",
   "metadata": {},
   "source": [
    "# Individual Assignment 1 | Titanic Dataset"
   ]
  },
  {
   "cell_type": "code",
   "execution_count": 82,
   "metadata": {},
   "outputs": [],
   "source": [
    "# Importing libraries\n",
    "import numpy as np\n",
    "import pandas as pd\n",
    "import matplotlib.pyplot as plt\n",
    "import seaborn as sns\n",
    "from sklearn.preprocessing import OneHotEncoder\n",
    "from sklearn.preprocessing import LabelEncoder\n",
    "from sklearn.feature_extraction import FeatureHasher"
   ]
  },
  {
   "cell_type": "markdown",
   "metadata": {},
   "source": [
    "## 🚢 Task 1: Titanic Dataset: Initial Exploration\n",
    "\n",
    "The Titanic dataset contains information about passengers aboard the Titanic, including survival status, class, age, fare, and other details. The goal of this initial exploration is to:\n",
    "- Load the dataset.\n",
    "- Understand its structure and content.\n",
    "- Identify missing values and potential issues.\n",
    "- Visualize key aspects of the data.\n",
    "- Answer key data analysis questions.\n",
    "\n",
    "---\n"
   ]
  },
  {
   "cell_type": "code",
   "execution_count": 83,
   "metadata": {},
   "outputs": [
    {
     "data": {
      "text/html": [
       "<div>\n",
       "<style scoped>\n",
       "    .dataframe tbody tr th:only-of-type {\n",
       "        vertical-align: middle;\n",
       "    }\n",
       "\n",
       "    .dataframe tbody tr th {\n",
       "        vertical-align: top;\n",
       "    }\n",
       "\n",
       "    .dataframe thead th {\n",
       "        text-align: right;\n",
       "    }\n",
       "</style>\n",
       "<table border=\"1\" class=\"dataframe\">\n",
       "  <thead>\n",
       "    <tr style=\"text-align: right;\">\n",
       "      <th></th>\n",
       "      <th>pclass</th>\n",
       "      <th>survived</th>\n",
       "      <th>name</th>\n",
       "      <th>sex</th>\n",
       "      <th>age</th>\n",
       "      <th>sibsp</th>\n",
       "      <th>parch</th>\n",
       "      <th>ticket</th>\n",
       "      <th>fare</th>\n",
       "      <th>cabin</th>\n",
       "      <th>embarked</th>\n",
       "      <th>boat</th>\n",
       "      <th>body</th>\n",
       "      <th>home.dest</th>\n",
       "    </tr>\n",
       "  </thead>\n",
       "  <tbody>\n",
       "    <tr>\n",
       "      <th>0</th>\n",
       "      <td>1</td>\n",
       "      <td>1</td>\n",
       "      <td>Allen, Miss. Elisabeth Walton</td>\n",
       "      <td>female</td>\n",
       "      <td>29.0000</td>\n",
       "      <td>0</td>\n",
       "      <td>0</td>\n",
       "      <td>24160</td>\n",
       "      <td>211.3375</td>\n",
       "      <td>B5</td>\n",
       "      <td>S</td>\n",
       "      <td>2</td>\n",
       "      <td>NaN</td>\n",
       "      <td>St Louis, MO</td>\n",
       "    </tr>\n",
       "    <tr>\n",
       "      <th>1</th>\n",
       "      <td>1</td>\n",
       "      <td>1</td>\n",
       "      <td>Allison, Master. Hudson Trevor</td>\n",
       "      <td>male</td>\n",
       "      <td>0.9167</td>\n",
       "      <td>1</td>\n",
       "      <td>2</td>\n",
       "      <td>113781</td>\n",
       "      <td>151.5500</td>\n",
       "      <td>C22 C26</td>\n",
       "      <td>S</td>\n",
       "      <td>11</td>\n",
       "      <td>NaN</td>\n",
       "      <td>Montreal, PQ / Chesterville, ON</td>\n",
       "    </tr>\n",
       "    <tr>\n",
       "      <th>2</th>\n",
       "      <td>1</td>\n",
       "      <td>0</td>\n",
       "      <td>Allison, Miss. Helen Loraine</td>\n",
       "      <td>female</td>\n",
       "      <td>2.0000</td>\n",
       "      <td>1</td>\n",
       "      <td>2</td>\n",
       "      <td>113781</td>\n",
       "      <td>151.5500</td>\n",
       "      <td>C22 C26</td>\n",
       "      <td>S</td>\n",
       "      <td>NaN</td>\n",
       "      <td>NaN</td>\n",
       "      <td>Montreal, PQ / Chesterville, ON</td>\n",
       "    </tr>\n",
       "    <tr>\n",
       "      <th>3</th>\n",
       "      <td>1</td>\n",
       "      <td>0</td>\n",
       "      <td>Allison, Mr. Hudson Joshua Creighton</td>\n",
       "      <td>male</td>\n",
       "      <td>30.0000</td>\n",
       "      <td>1</td>\n",
       "      <td>2</td>\n",
       "      <td>113781</td>\n",
       "      <td>151.5500</td>\n",
       "      <td>C22 C26</td>\n",
       "      <td>S</td>\n",
       "      <td>NaN</td>\n",
       "      <td>135.0</td>\n",
       "      <td>Montreal, PQ / Chesterville, ON</td>\n",
       "    </tr>\n",
       "    <tr>\n",
       "      <th>4</th>\n",
       "      <td>1</td>\n",
       "      <td>0</td>\n",
       "      <td>Allison, Mrs. Hudson J C (Bessie Waldo Daniels)</td>\n",
       "      <td>female</td>\n",
       "      <td>25.0000</td>\n",
       "      <td>1</td>\n",
       "      <td>2</td>\n",
       "      <td>113781</td>\n",
       "      <td>151.5500</td>\n",
       "      <td>C22 C26</td>\n",
       "      <td>S</td>\n",
       "      <td>NaN</td>\n",
       "      <td>NaN</td>\n",
       "      <td>Montreal, PQ / Chesterville, ON</td>\n",
       "    </tr>\n",
       "  </tbody>\n",
       "</table>\n",
       "</div>"
      ],
      "text/plain": [
       "   pclass  survived                                             name     sex  \\\n",
       "0       1         1                    Allen, Miss. Elisabeth Walton  female   \n",
       "1       1         1                   Allison, Master. Hudson Trevor    male   \n",
       "2       1         0                     Allison, Miss. Helen Loraine  female   \n",
       "3       1         0             Allison, Mr. Hudson Joshua Creighton    male   \n",
       "4       1         0  Allison, Mrs. Hudson J C (Bessie Waldo Daniels)  female   \n",
       "\n",
       "       age  sibsp  parch  ticket      fare    cabin embarked boat   body  \\\n",
       "0  29.0000      0      0   24160  211.3375       B5        S    2    NaN   \n",
       "1   0.9167      1      2  113781  151.5500  C22 C26        S   11    NaN   \n",
       "2   2.0000      1      2  113781  151.5500  C22 C26        S  NaN    NaN   \n",
       "3  30.0000      1      2  113781  151.5500  C22 C26        S  NaN  135.0   \n",
       "4  25.0000      1      2  113781  151.5500  C22 C26        S  NaN    NaN   \n",
       "\n",
       "                         home.dest  \n",
       "0                     St Louis, MO  \n",
       "1  Montreal, PQ / Chesterville, ON  \n",
       "2  Montreal, PQ / Chesterville, ON  \n",
       "3  Montreal, PQ / Chesterville, ON  \n",
       "4  Montreal, PQ / Chesterville, ON  "
      ]
     },
     "execution_count": 83,
     "metadata": {},
     "output_type": "execute_result"
    }
   ],
   "source": [
    "# Load dataset\n",
    "data = pd.read_excel(\"titanic3.xls\")\n",
    "\n",
    "# Display the first few rows\n",
    "data.head()"
   ]
  },
  {
   "cell_type": "markdown",
   "metadata": {},
   "source": [
    "The dataset contains **1309 entries** and **14 columns**, covering various passenger attributes. Let's inspect the dataset structure and statistics.\n"
   ]
  },
  {
   "cell_type": "code",
   "execution_count": 84,
   "metadata": {},
   "outputs": [
    {
     "name": "stdout",
     "output_type": "stream",
     "text": [
      "<class 'pandas.core.frame.DataFrame'>\n",
      "RangeIndex: 1309 entries, 0 to 1308\n",
      "Data columns (total 14 columns):\n",
      " #   Column     Non-Null Count  Dtype  \n",
      "---  ------     --------------  -----  \n",
      " 0   pclass     1309 non-null   int64  \n",
      " 1   survived   1309 non-null   int64  \n",
      " 2   name       1309 non-null   object \n",
      " 3   sex        1309 non-null   object \n",
      " 4   age        1046 non-null   float64\n",
      " 5   sibsp      1309 non-null   int64  \n",
      " 6   parch      1309 non-null   int64  \n",
      " 7   ticket     1309 non-null   object \n",
      " 8   fare       1308 non-null   float64\n",
      " 9   cabin      295 non-null    object \n",
      " 10  embarked   1307 non-null   object \n",
      " 11  boat       486 non-null    object \n",
      " 12  body       121 non-null    float64\n",
      " 13  home.dest  745 non-null    object \n",
      "dtypes: float64(3), int64(4), object(7)\n",
      "memory usage: 143.3+ KB\n"
     ]
    }
   ],
   "source": [
    "data.info()"
   ]
  },
  {
   "cell_type": "markdown",
   "metadata": {},
   "source": [
    "The dataset includes both **numerical** (`age`, `fare`, etc.) and **categorical** (`sex`, `embarked`, etc.) variables. Missing values are present, particularly in `cabin`, `boat`, and `body`.\n"
   ]
  },
  {
   "cell_type": "code",
   "execution_count": 85,
   "metadata": {},
   "outputs": [
    {
     "data": {
      "text/html": [
       "<div>\n",
       "<style scoped>\n",
       "    .dataframe tbody tr th:only-of-type {\n",
       "        vertical-align: middle;\n",
       "    }\n",
       "\n",
       "    .dataframe tbody tr th {\n",
       "        vertical-align: top;\n",
       "    }\n",
       "\n",
       "    .dataframe thead th {\n",
       "        text-align: right;\n",
       "    }\n",
       "</style>\n",
       "<table border=\"1\" class=\"dataframe\">\n",
       "  <thead>\n",
       "    <tr style=\"text-align: right;\">\n",
       "      <th></th>\n",
       "      <th>pclass</th>\n",
       "      <th>survived</th>\n",
       "      <th>age</th>\n",
       "      <th>sibsp</th>\n",
       "      <th>parch</th>\n",
       "      <th>fare</th>\n",
       "      <th>body</th>\n",
       "    </tr>\n",
       "  </thead>\n",
       "  <tbody>\n",
       "    <tr>\n",
       "      <th>count</th>\n",
       "      <td>1309.000000</td>\n",
       "      <td>1309.000000</td>\n",
       "      <td>1046.000000</td>\n",
       "      <td>1309.000000</td>\n",
       "      <td>1309.000000</td>\n",
       "      <td>1308.000000</td>\n",
       "      <td>121.000000</td>\n",
       "    </tr>\n",
       "    <tr>\n",
       "      <th>mean</th>\n",
       "      <td>2.294882</td>\n",
       "      <td>0.381971</td>\n",
       "      <td>29.881135</td>\n",
       "      <td>0.498854</td>\n",
       "      <td>0.385027</td>\n",
       "      <td>33.295479</td>\n",
       "      <td>160.809917</td>\n",
       "    </tr>\n",
       "    <tr>\n",
       "      <th>std</th>\n",
       "      <td>0.837836</td>\n",
       "      <td>0.486055</td>\n",
       "      <td>14.413500</td>\n",
       "      <td>1.041658</td>\n",
       "      <td>0.865560</td>\n",
       "      <td>51.758668</td>\n",
       "      <td>97.696922</td>\n",
       "    </tr>\n",
       "    <tr>\n",
       "      <th>min</th>\n",
       "      <td>1.000000</td>\n",
       "      <td>0.000000</td>\n",
       "      <td>0.166700</td>\n",
       "      <td>0.000000</td>\n",
       "      <td>0.000000</td>\n",
       "      <td>0.000000</td>\n",
       "      <td>1.000000</td>\n",
       "    </tr>\n",
       "    <tr>\n",
       "      <th>25%</th>\n",
       "      <td>2.000000</td>\n",
       "      <td>0.000000</td>\n",
       "      <td>21.000000</td>\n",
       "      <td>0.000000</td>\n",
       "      <td>0.000000</td>\n",
       "      <td>7.895800</td>\n",
       "      <td>72.000000</td>\n",
       "    </tr>\n",
       "    <tr>\n",
       "      <th>50%</th>\n",
       "      <td>3.000000</td>\n",
       "      <td>0.000000</td>\n",
       "      <td>28.000000</td>\n",
       "      <td>0.000000</td>\n",
       "      <td>0.000000</td>\n",
       "      <td>14.454200</td>\n",
       "      <td>155.000000</td>\n",
       "    </tr>\n",
       "    <tr>\n",
       "      <th>75%</th>\n",
       "      <td>3.000000</td>\n",
       "      <td>1.000000</td>\n",
       "      <td>39.000000</td>\n",
       "      <td>1.000000</td>\n",
       "      <td>0.000000</td>\n",
       "      <td>31.275000</td>\n",
       "      <td>256.000000</td>\n",
       "    </tr>\n",
       "    <tr>\n",
       "      <th>max</th>\n",
       "      <td>3.000000</td>\n",
       "      <td>1.000000</td>\n",
       "      <td>80.000000</td>\n",
       "      <td>8.000000</td>\n",
       "      <td>9.000000</td>\n",
       "      <td>512.329200</td>\n",
       "      <td>328.000000</td>\n",
       "    </tr>\n",
       "  </tbody>\n",
       "</table>\n",
       "</div>"
      ],
      "text/plain": [
       "            pclass     survived          age        sibsp        parch  \\\n",
       "count  1309.000000  1309.000000  1046.000000  1309.000000  1309.000000   \n",
       "mean      2.294882     0.381971    29.881135     0.498854     0.385027   \n",
       "std       0.837836     0.486055    14.413500     1.041658     0.865560   \n",
       "min       1.000000     0.000000     0.166700     0.000000     0.000000   \n",
       "25%       2.000000     0.000000    21.000000     0.000000     0.000000   \n",
       "50%       3.000000     0.000000    28.000000     0.000000     0.000000   \n",
       "75%       3.000000     1.000000    39.000000     1.000000     0.000000   \n",
       "max       3.000000     1.000000    80.000000     8.000000     9.000000   \n",
       "\n",
       "              fare        body  \n",
       "count  1308.000000  121.000000  \n",
       "mean     33.295479  160.809917  \n",
       "std      51.758668   97.696922  \n",
       "min       0.000000    1.000000  \n",
       "25%       7.895800   72.000000  \n",
       "50%      14.454200  155.000000  \n",
       "75%      31.275000  256.000000  \n",
       "max     512.329200  328.000000  "
      ]
     },
     "execution_count": 85,
     "metadata": {},
     "output_type": "execute_result"
    }
   ],
   "source": [
    "# Display summary statistics\n",
    "data.describe()"
   ]
  },
  {
   "cell_type": "markdown",
   "metadata": {},
   "source": [
    "The summary statistics reveal:\n",
    "- **Age** ranges from 0.17 to 80 years.\n",
    "- **Fare** has a maximum of **$512.33**, indicating some high-paying passengers.\n",
    "- **Siblings/Spouses (sibsp)** and **Parents/Children (parch)** vary widely, with most passengers traveling alone.\n",
    "\n",
    "---\n"
   ]
  },
  {
   "cell_type": "code",
   "execution_count": 86,
   "metadata": {},
   "outputs": [
    {
     "name": "stdout",
     "output_type": "stream",
     "text": [
      "\n",
      "pclass:\n",
      "pclass\n",
      "3    709\n",
      "1    323\n",
      "2    277\n",
      "Name: count, dtype: int64\n",
      "\n",
      "survived:\n",
      "survived\n",
      "0    809\n",
      "1    500\n",
      "Name: count, dtype: int64\n",
      "\n",
      "name:\n",
      "name\n",
      "Connolly, Miss. Kate             2\n",
      "Kelly, Mr. James                 2\n",
      "Allen, Miss. Elisabeth Walton    1\n",
      "Ilmakangas, Miss. Ida Livija     1\n",
      "Ilieff, Mr. Ylio                 1\n",
      "                                ..\n",
      "Hart, Miss. Eva Miriam           1\n",
      "Harris, Mr. Walter               1\n",
      "Harris, Mr. George               1\n",
      "Harper, Rev. John                1\n",
      "Zimmerman, Mr. Leo               1\n",
      "Name: count, Length: 1307, dtype: int64\n",
      "\n",
      "sex:\n",
      "sex\n",
      "male      843\n",
      "female    466\n",
      "Name: count, dtype: int64\n",
      "\n",
      "age:\n",
      "age\n",
      "24.0000    47\n",
      "22.0000    43\n",
      "21.0000    41\n",
      "30.0000    40\n",
      "18.0000    39\n",
      "           ..\n",
      "0.3333      1\n",
      "22.5000     1\n",
      "70.5000     1\n",
      "0.6667      1\n",
      "26.5000     1\n",
      "Name: count, Length: 98, dtype: int64\n",
      "\n",
      "sibsp:\n",
      "sibsp\n",
      "0    891\n",
      "1    319\n",
      "2     42\n",
      "4     22\n",
      "3     20\n",
      "8      9\n",
      "5      6\n",
      "Name: count, dtype: int64\n",
      "\n",
      "parch:\n",
      "parch\n",
      "0    1002\n",
      "1     170\n",
      "2     113\n",
      "3       8\n",
      "4       6\n",
      "5       6\n",
      "6       2\n",
      "9       2\n",
      "Name: count, dtype: int64\n",
      "\n",
      "ticket:\n",
      "ticket\n",
      "CA. 2343        11\n",
      "CA 2144          8\n",
      "1601             8\n",
      "S.O.C. 14879     7\n",
      "3101295          7\n",
      "                ..\n",
      "C 7076           1\n",
      "341826           1\n",
      "7546             1\n",
      "3474             1\n",
      "315082           1\n",
      "Name: count, Length: 939, dtype: int64\n",
      "\n",
      "fare:\n",
      "fare\n",
      "8.0500     60\n",
      "13.0000    59\n",
      "7.7500     55\n",
      "26.0000    50\n",
      "7.8958     49\n",
      "           ..\n",
      "15.0500     1\n",
      "9.6875      1\n",
      "15.5792     1\n",
      "12.0000     1\n",
      "7.8750      1\n",
      "Name: count, Length: 281, dtype: int64\n",
      "\n",
      "cabin:\n",
      "cabin\n",
      "C23 C25 C27        6\n",
      "G6                 5\n",
      "B57 B59 B63 B66    5\n",
      "F4                 4\n",
      "F33                4\n",
      "                  ..\n",
      "C132               1\n",
      "E60                1\n",
      "B52 B54 B56        1\n",
      "C49                1\n",
      "F38                1\n",
      "Name: count, Length: 186, dtype: int64\n",
      "\n",
      "embarked:\n",
      "embarked\n",
      "S    914\n",
      "C    270\n",
      "Q    123\n",
      "Name: count, dtype: int64\n",
      "\n",
      "boat:\n",
      "boat\n",
      "13         39\n",
      "C          38\n",
      "15         37\n",
      "14         33\n",
      "4          31\n",
      "10         29\n",
      "5          27\n",
      "3          26\n",
      "9          25\n",
      "11         25\n",
      "7          23\n",
      "16         23\n",
      "8          23\n",
      "6          20\n",
      "D          20\n",
      "12         19\n",
      "2          12\n",
      "A          11\n",
      "B           9\n",
      "1           5\n",
      "C D         2\n",
      "13 15       2\n",
      "5 7         2\n",
      "8 10        1\n",
      "13 15 B     1\n",
      "5 9         1\n",
      "15 16       1\n",
      "2           1\n",
      "Name: count, dtype: int64\n",
      "\n",
      "body:\n",
      "body\n",
      "135.0    1\n",
      "101.0    1\n",
      "37.0     1\n",
      "285.0    1\n",
      "156.0    1\n",
      "        ..\n",
      "97.0     1\n",
      "174.0    1\n",
      "169.0    1\n",
      "245.0    1\n",
      "304.0    1\n",
      "Name: count, Length: 121, dtype: int64\n",
      "\n",
      "home.dest:\n",
      "home.dest\n",
      "New York, NY                                    64\n",
      "London                                          14\n",
      "Montreal, PQ                                    10\n",
      "Paris, France                                    9\n",
      "Cornwall / Akron, OH                             9\n",
      "                                                ..\n",
      "Chelsea, London                                  1\n",
      "Harrow-on-the-Hill, Middlesex                    1\n",
      "Copenhagen, Denmark                              1\n",
      "Guernsey / Montclair, NJ and/or Toledo, Ohio     1\n",
      "Antwerp, Belgium / Stanton, OH                   1\n",
      "Name: count, Length: 369, dtype: int64\n"
     ]
    }
   ],
   "source": [
    "# Display count of unique values in each column\n",
    "for column in data.columns:\n",
    "    print(f\"\\n{column}:\")\n",
    "    print(data[column].value_counts())\n"
   ]
  },
  {
   "cell_type": "markdown",
   "metadata": {},
   "source": [
    "This helps identify categorical variables, repeated ticket numbers, and potential duplicates in passenger names.\n",
    "\n",
    "---\n"
   ]
  },
  {
   "cell_type": "markdown",
   "metadata": {},
   "source": [
    "### 1️⃣ Dataset Overview\n",
    "- **Total Entries**: 1309\n",
    "- **Total Columns**: 14\n",
    "- **Target Variable**: `survived` (0 = No, 1 = Yes)\n",
    "\n",
    "### 2️⃣ Data Dictionary\n",
    "| Column    | Description |\n",
    "|-----------|------------|\n",
    "| survived  | Survival (0 = No, 1 = Yes) |\n",
    "| pclass    | Passenger Class (1st, 2nd, 3rd) |\n",
    "| name      | Passenger Name |\n",
    "| sex       | Sex (Male/Female) |\n",
    "| age       | Age of Passenger |\n",
    "| sibsp     | Number of Siblings/Spouses Aboard |\n",
    "| parch     | Number of Parents/Children Aboard |\n",
    "| ticket    | Ticket Number |\n",
    "| fare      | Passenger Fare |\n",
    "| cabin     | Cabin Number (if known) |\n",
    "| embarked  | Port of Embarkation (C, Q, S) |\n",
    "| boat      | Lifeboat Number (if survived) |\n",
    "| body      | Body Number (if recovered) |\n",
    "| home.dest | Final Destination |\n"
   ]
  },
  {
   "cell_type": "code",
   "execution_count": 87,
   "metadata": {},
   "outputs": [
    {
     "data": {
      "image/png": "[encoded data removed]",
      "text/plain": [
       "<Figure size 600x400 with 1 Axes>"
      ]
     },
     "metadata": {},
     "output_type": "display_data"
    }
   ],
   "source": [
    "# Set visualization style\n",
    "sns.set_style(\"whitegrid\")\n",
    "\n",
    "# Survival count plot\n",
    "plt.figure(figsize=(6, 4))\n",
    "sns.countplot(data=data, x=\"survived\", hue=\"survived\", palette=\"viridis\", legend=False)\n",
    "plt.xticks([0, 1], ['Did Not Survive', 'Survived'])\n",
    "plt.xlabel(\"Survival\")\n",
    "plt.ylabel(\"Count\")\n",
    "plt.title(\"Survival Distribution\")\n",
    "plt.show()"
   ]
  },
  {
   "cell_type": "markdown",
   "metadata": {},
   "source": [
    "🔍 **Observation:**  \n",
    "- More people **did not survive (61.8%)** than survived (38.2%).\n",
    "- This class imbalance should be considered when training a predictive model.\n",
    "\n",
    "---\n"
   ]
  },
  {
   "cell_type": "code",
   "execution_count": 88,
   "metadata": {},
   "outputs": [
    {
     "data": {
      "image/png": "[encoded data removed]",
      "text/plain": [
       "<Figure size 800x500 with 1 Axes>"
      ]
     },
     "metadata": {},
     "output_type": "display_data"
    }
   ],
   "source": [
    "plt.figure(figsize=(8, 5))\n",
    "sns.countplot(x=data[\"pclass\"], hue=data[\"survived\"], palette=\"coolwarm\")\n",
    "plt.xticks([0, 1, 2], ['1st Class', '2nd Class', '3rd Class'])\n",
    "plt.xlabel(\"Passenger Class\")\n",
    "plt.ylabel(\"Count\")\n",
    "plt.title(\"Survival Rate by Passenger Class\")\n",
    "plt.legend([\"Did Not Survive\", \"Survived\"])\n",
    "plt.show()\n"
   ]
  },
  {
   "cell_type": "markdown",
   "metadata": {},
   "source": [
    "🔍 **Observation:**  \n",
    "- **1st Class passengers** had the highest survival rate.\n",
    "- **3rd Class passengers** had the lowest survival rate, indicating socioeconomic factors played a role.\n",
    "\n",
    "---\n"
   ]
  },
  {
   "cell_type": "code",
   "execution_count": 89,
   "metadata": {},
   "outputs": [
    {
     "data": {
      "image/png": "[encoded data removed]",
      "text/plain": [
       "<Figure size 600x400 with 1 Axes>"
      ]
     },
     "metadata": {},
     "output_type": "display_data"
    }
   ],
   "source": [
    "plt.figure(figsize=(6, 4))\n",
    "sns.countplot(x=data[\"sex\"], hue=data[\"survived\"], palette=\"pastel\")\n",
    "plt.xlabel(\"Sex\")\n",
    "plt.ylabel(\"Count\")\n",
    "plt.title(\"Survival Rate by Gender\")\n",
    "plt.legend([\"Did Not Survive\", \"Survived\"])\n",
    "plt.show()\n"
   ]
  },
  {
   "cell_type": "markdown",
   "metadata": {},
   "source": [
    "🔍 **Observation:**  \n",
    "- **Females had a significantly higher survival rate** than males.\n",
    "- This aligns with the **\"women and children first\"** principle used during evacuation.\n",
    "\n",
    "---\n"
   ]
  },
  {
   "cell_type": "code",
   "execution_count": 90,
   "metadata": {},
   "outputs": [
    {
     "data": {
      "image/png": "[encoded data removed]",
      "text/plain": [
       "<Figure size 800x500 with 1 Axes>"
      ]
     },
     "metadata": {},
     "output_type": "display_data"
    }
   ],
   "source": [
    "plt.figure(figsize=(8, 5))\n",
    "sns.histplot(data[\"age\"].dropna(), bins=30, kde=True, color=\"skyblue\")\n",
    "plt.xlabel(\"Age\")\n",
    "plt.ylabel(\"Count\")\n",
    "plt.title(\"Age Distribution of Passengers\")\n",
    "plt.show()\n"
   ]
  },
  {
   "cell_type": "markdown",
   "metadata": {},
   "source": [
    "🔍 **Observation:**  \n",
    "- Most passengers were between **20-40 years old**.\n",
    "- A few **elderly passengers (above 60)** were aboard.\n",
    "\n",
    "---\n"
   ]
  },
  {
   "cell_type": "code",
   "execution_count": 91,
   "metadata": {},
   "outputs": [
    {
     "data": {
      "image/png": "[encoded data removed]",
      "text/plain": [
       "<Figure size 800x500 with 1 Axes>"
      ]
     },
     "metadata": {},
     "output_type": "display_data"
    }
   ],
   "source": [
    "plt.figure(figsize=(8, 5))\n",
    "sns.boxplot(data=data, x=\"pclass\", y=\"fare\", hue=\"pclass\", palette=\"muted\", legend=False)\n",
    "plt.xticks([0, 1, 2], ['1st Class', '2nd Class', '3rd Class'])\n",
    "plt.xlabel(\"Passenger Class\")\n",
    "plt.ylabel(\"Fare\")\n",
    "plt.title(\"Fare Distribution by Passenger Class\")\n",
    "plt.ylim(0, 300)  # Limiting y-axis to remove extreme outliers\n",
    "plt.show()\n"
   ]
  },
  {
   "cell_type": "markdown",
   "metadata": {},
   "source": [
    "🔍 **Observation:**  \n",
    "- **1st Class passengers paid the highest fares**, sometimes exceeding **$300**.\n",
    "- **3rd Class passengers paid significantly lower fares**.\n",
    "\n",
    "---\n"
   ]
  },
  {
   "cell_type": "code",
   "execution_count": 92,
   "metadata": {},
   "outputs": [
    {
     "data": {
      "image/png": "[encoded data removed]",
      "text/plain": [
       "<Figure size 600x400 with 1 Axes>"
      ]
     },
     "metadata": {},
     "output_type": "display_data"
    }
   ],
   "source": [
    "plt.figure(figsize=(6, 4))\n",
    "sns.countplot(x=data[\"embarked\"], hue=data[\"survived\"], palette=\"viridis\")\n",
    "plt.xlabel(\"Embarked Port\")\n",
    "plt.ylabel(\"Count\")\n",
    "plt.title(\"Survival Rate by Embarked Port\")\n",
    "plt.legend([\"Did Not Survive\", \"Survived\"])\n",
    "plt.show()\n"
   ]
  },
  {
   "cell_type": "markdown",
   "metadata": {},
   "source": [
    "🔍 **Observation:**  \n",
    "- Passengers embarking from **Cherbourg (C) had a higher survival rate**.\n",
    "- Most passengers embarked at **Southampton (S)**.\n",
    "\n",
    "---\n"
   ]
  },
  {
   "cell_type": "markdown",
   "metadata": {},
   "source": [
    "### Answering key questions from the slides\n",
    "#### 1️⃣ Are the data tidy?\n",
    "The dataset is **mostly tidy**, but some columns require **cleaning**:\n",
    "- **Cabin**: Multiple cabin values in a single cell.\n",
    "- **Boat**: Some passengers listed with multiple lifeboats.\n",
    "- **Ticket**: Needs feature extraction.\n",
    "\n",
    "✅ **Verdict**: **Mostly tidy**, but requires **feature engineering**.\n",
    "\n",
    "---\n",
    "\n",
    "#### 2️⃣ Are the data tidy but incomplete?\n",
    "Several columns have missing values:\n",
    "| Column      | Missing Values | % Missing |\n",
    "|------------|----------------|-----------|\n",
    "| age        | 263            | 20.1%     |\n",
    "| fare       | 1              | <0.1%     |\n",
    "| embarked   | 2              | 0.15%     |\n",
    "| cabin      | 1014           | 77.5%     |\n",
    "| boat       | 823            | 62.8%     |\n",
    "| body       | 1188           | 90.8%     |\n",
    "| home.dest  | 564            | 43.1%     |\n",
    "\n",
    "✅ **Verdict**: **Yes, data are incomplete.** Imputation is required.\n",
    "\n",
    "---\n",
    "\n",
    "#### 3️⃣ Are the data tidy but with duplicates?\n",
    "Potential duplicates exist:\n",
    "- `name`: 1307 unique values for 1309 rows.\n",
    "- `ticket`: Some tickets shared among passengers.\n",
    "- `cabin`: Potential inconsistencies.\n",
    "\n",
    "✅ **Verdict**: **Possible duplicates** in `Name` and `Ticket`.\n",
    "\n",
    "---\n",
    "\n",
    "#### 4️⃣ Are the data expired or outdated?\n",
    "The dataset **represents a historical event (1912)**, so **expiration is not a concern**.\n",
    "\n",
    "✅ **Verdict**: **No risk of outdated data**.\n",
    "\n",
    "---\n",
    "\n",
    "#### 5️⃣ Are the data incomplete or unrepresentative?\n",
    "- **Survival rates are imbalanced** (38.2% survived, 61.8% did not).\n",
    "- **Missing data may introduce bias**.\n",
    "\n",
    "✅ **Verdict**: **Dataset is incomplete and may not fully represent survival patterns**.\n",
    "\n",
    "---\n",
    "\n",
    "#### 6️⃣ Is the data source known?\n",
    "The **Titanic dataset is well-documented** and sourced from **passenger records**.\n",
    "\n",
    "✅ **Verdict**: **Yes, the source is known**.\n",
    "\n",
    "---\n",
    "\n",
    "#### 7️⃣ Were gender data manually inputted or derived?\n",
    "- The **`sex` column is manually recorded**.\n",
    "- No automated classifier used.\n",
    "\n",
    "✅ **Verdict**: **Gender data is reliable**.\n",
    "\n",
    "---\n",
    "\n",
    "#### 8️⃣ Is there data leakage?\n",
    "- **Boat column** indirectly reveals survival status.\n",
    "- **Body column** only recorded for deceased passengers.\n",
    "\n",
    "✅ **Verdict**: **Yes, potential leakage. Drop `Boat` and `Body`**.\n",
    "\n",
    "---\n",
    "\n",
    "#### 9️⃣ Are the data reliable?\n",
    "- **Survival labels** are historically accurate.\n",
    "- **Potential inconsistencies** in `home.dest` and `cabin`.\n",
    "\n",
    "✅ **Verdict**: **Mostly reliable, but some validation needed**.\n",
    "\n",
    "---\n",
    "\n",
    "#### **📌 Final Summary**\n",
    "| **Issue**                | **Status**                | **Recommended Action**                                   |\n",
    "|--------------------------|--------------------------|----------------------------------------------------------|\n",
    "| **Tidy Data**            | Mostly tidy              | Feature engineering for `Cabin`, `Boat`, `Ticket`       |\n",
    "| **Missing Data**         | Yes                      | Impute `Age`, `Fare`, `Embarked`                        |\n",
    "| **Duplicates**           | Possibly                 | Check `Name`, `Ticket` for duplicates                   |\n",
    "| **Outdated Data**        | No                       | Not an issue                                            |\n",
    "| **Unrepresentative Data**| Yes                      | Missing data may introduce bias                         |\n",
    "| **Data Leakage?**        | Yes                      | Drop `Boat` and `Body`                                  |\n",
    "| **Data Reliability?**    | Generally reliable       | Validate labels                                         |\n"
   ]
  },
  {
   "cell_type": "markdown",
   "metadata": {},
   "source": [
    "## 📌 Task 2: Managing Missing Values  \n",
    "\n",
    "The Titanic dataset contains missing values that must be handled to ensure **data integrity** and **model accuracy**. The goal of this section is to:\n",
    "- Identify and analyze missing values.  \n",
    "- Apply appropriate **imputation** or remove columns if necessary.  \n",
    "- Verify that no missing values remain.  \n",
    "\n",
    "Proper handling prevents **bias** and ensures the dataset is **ready for feature engineering and modeling**. 🚀  \n",
    "\n",
    "---\n"
   ]
  },
  {
   "cell_type": "markdown",
   "metadata": {},
   "source": [
    "### 📊 Step 1: Identifying Missing Values\n",
    "\n",
    "Before handling missing values, we first identify **which columns contain missing data** and their percentage. Understanding missing values is crucial to selecting the best imputation strategy.\n",
    "\n"
   ]
  },
  {
   "cell_type": "code",
   "execution_count": 93,
   "metadata": {},
   "outputs": [
    {
     "name": "stdout",
     "output_type": "stream",
     "text": [
      "Missing Values Summary:\n",
      "           Missing Values  Percentage\n",
      "body                 1188   90.756303\n",
      "cabin                1014   77.463713\n",
      "boat                  823   62.872422\n",
      "home.dest             564   43.086325\n",
      "age                   263   20.091673\n",
      "embarked                2    0.152788\n",
      "fare                    1    0.076394\n",
      "pclass                  0    0.000000\n",
      "survived                0    0.000000\n",
      "name                    0    0.000000\n",
      "sex                     0    0.000000\n",
      "sibsp                   0    0.000000\n",
      "parch                   0    0.000000\n",
      "ticket                  0    0.000000\n"
     ]
    },
    {
     "data": {
      "text/plain": [
       "<Figure size 1000x500 with 0 Axes>"
      ]
     },
     "metadata": {},
     "output_type": "display_data"
    },
    {
     "data": {
      "image/png": "[encoded data removed]",
      "text/plain": [
       "<Figure size 640x480 with 1 Axes>"
      ]
     },
     "metadata": {},
     "output_type": "display_data"
    }
   ],
   "source": [
    "# Count missing values and percentage\n",
    "missing_values = data.isnull().sum()\n",
    "missing_percentage = (missing_values / len(data)) * 100\n",
    "\n",
    "# Create a DataFrame for better visualization\n",
    "missing_df = pd.DataFrame({\n",
    "    \"Missing Values\": missing_values,\n",
    "    \"Percentage\": missing_percentage\n",
    "}).sort_values(by=\"Percentage\", ascending=False)\n",
    "\n",
    "# Display missing values summary\n",
    "print(\"Missing Values Summary:\")\n",
    "print(missing_df)\n",
    "\n",
    "# Plot missing values\n",
    "plt.figure(figsize=(10, 5))\n",
    "missing_df[missing_df[\"Missing Values\"] > 0].sort_values(by=\"Percentage\", ascending=False).plot(\n",
    "    kind=\"bar\", y=\"Percentage\", legend=False, color=\"darkred\", alpha=0.7\n",
    ")\n",
    "plt.title(\"Percentage of Missing Values per Column\")\n",
    "plt.ylabel(\"Percentage\")\n",
    "plt.xlabel(\"Columns\")\n",
    "plt.xticks(rotation=45)\n",
    "plt.grid(axis=\"y\", linestyle=\"--\", alpha=0.7)\n",
    "plt.show()\n"
   ]
  },
  {
   "cell_type": "markdown",
   "metadata": {},
   "source": [
    "### 🛠 Step 2: Strategy for Handling Missing Values\n",
    "\n",
    "Now that we have identified missing values, we must decide the best approach to handle them. The strategy depends on:\n",
    "1. The **importance of the column** for survival prediction.\n",
    "2. The **percentage of missing data**—if too high, the column may be dropped.\n",
    "3. Whether missing values are **random or systematic**, which can impact predictive modeling.\n",
    "\n",
    "Below is the **selected strategy for each column**:\n",
    "\n"
   ]
  },
  {
   "cell_type": "markdown",
   "metadata": {},
   "source": [
    "| Column     | Imputation Strategy         | Justification |\n",
    "|------------|----------------------------|---------------|\n",
    "| **Boat, Body, Home.dest** | **Drop the column** | `Boat` and `Body` cause **data leakage**. `Home.dest` is not essential. |\n",
    "| **Age**    | **Mean Imputation**         | Age follows a **normal distribution**, so using the mean retains its distribution. |\n",
    "| **Fare**   | **Median Imputation**       | Median is **robust to outliers**, ensuring no skewing by extreme fares. |\n",
    "| **Embarked** | **Mode Imputation**       | Since it’s **categorical**, missing values are replaced with the most common port. |\n",
    "| **Cabin**  | **New Category (\"Unknown\")** | `Cabin` may impact survival (higher-class cabins had better survival chances), so we keep it with an `\"Unknown\"` category instead of dropping it. |\n"
   ]
  },
  {
   "cell_type": "markdown",
   "metadata": {},
   "source": [
    "### 🗑 Step 3.1: Dropping Columns with High Missing Values\n",
    "Columns with excessive missing values that **do not contribute to predictive modeling** are removed.\n"
   ]
  },
  {
   "cell_type": "code",
   "execution_count": 94,
   "metadata": {},
   "outputs": [],
   "source": [
    "# Drop Boat, Body, and Home.dest columns due to high missing values and potential leakage\n",
    "data.drop(columns=['boat', 'body', 'home.dest'], inplace=True)\n"
   ]
  },
  {
   "cell_type": "markdown",
   "metadata": {},
   "source": [
    "✅ **Dropped columns**:\n",
    "- `Boat` (directly indicates survival).\n",
    "- `Body` (only recorded for deceased passengers).\n",
    "- `Home.dest` (not relevant to survival).\n",
    "\n",
    "---\n"
   ]
  },
  {
   "cell_type": "markdown",
   "metadata": {},
   "source": [
    "### 🚢 Step 3.2: Handling Categorical Missing Values - Embarked\n",
    "Since **only two values** are missing, we replace them with the most common value.\n"
   ]
  },
  {
   "cell_type": "code",
   "execution_count": 95,
   "metadata": {},
   "outputs": [],
   "source": [
    "# Fill missing values in 'embarked' with the most common value (mode)\n",
    "most_common_embarked = data[\"embarked\"].mode().iloc[0]  # Using iloc is more explicit\n",
    "data[\"embarked\"] = data[\"embarked\"].fillna(most_common_embarked)  # Avoid inplace=True"
   ]
  },
  {
   "cell_type": "markdown",
   "metadata": {},
   "source": [
    "✅ **Filled missing values in Embarked** using **mode (most common port).**\n",
    "- Most frequent value: `S` (Southampton).\n",
    "\n",
    "---\n"
   ]
  },
  {
   "cell_type": "markdown",
   "metadata": {},
   "source": [
    "### 🏠 Step 3.3: Handling Cabin - Assigning \"Unknown\" Category\n",
    "The `Cabin` column has **77.5% missing values**. Instead of dropping, we assign **\"Unknown\"** to retain information.\n"
   ]
  },
  {
   "cell_type": "code",
   "execution_count": 96,
   "metadata": {},
   "outputs": [],
   "source": [
    "# Replace missing cabin values with \"Unknown\"\n",
    "data[\"cabin\"] = data[\"cabin\"].fillna(\"Unknown\")\n"
   ]
  },
  {
   "cell_type": "markdown",
   "metadata": {},
   "source": [
    "✅ **Assigned \"Unknown\" category for missing cabins.**\n",
    "- Ensures **no data loss** while keeping useful information.\n",
    "\n",
    "---\n"
   ]
  },
  {
   "cell_type": "markdown",
   "metadata": {},
   "source": [
    "### 📏 Step 3.4: Handling Age - Mean Imputation\n",
    "Age is a **continuous variable** with **20.1% missing values**. We replace missing values with the **mean age**.\n"
   ]
  },
  {
   "cell_type": "code",
   "execution_count": 97,
   "metadata": {},
   "outputs": [],
   "source": [
    "# Calculate mean age and fill missing values\n",
    "mean_age = data[\"age\"].mean()\n",
    "data[\"age\"] = data[\"age\"].fillna(mean_age)"
   ]
  },
  {
   "cell_type": "markdown",
   "metadata": {},
   "source": [
    "✅ **Filled missing Age values with the mean (`~29.88 years`).**\n",
    "- This keeps the **distribution intact** while avoiding bias.\n",
    "\n",
    "---\n"
   ]
  },
  {
   "cell_type": "markdown",
   "metadata": {},
   "source": [
    "### 💰 Step 3.5: Handling Fare - Median Imputation\n",
    "Since only **one fare** is missing, we replace it with the **median** to prevent outliers from skewing the data.\n"
   ]
  },
  {
   "cell_type": "code",
   "execution_count": 98,
   "metadata": {},
   "outputs": [],
   "source": [
    "# Calculate median fare and fill missing values\n",
    "median_fare = data[\"fare\"].median()\n",
    "data[\"fare\"] = data[\"fare\"].fillna(median_fare)\n"
   ]
  },
  {
   "cell_type": "markdown",
   "metadata": {},
   "source": [
    "✅ **Filled missing Fare value with median (`~14.45`).**\n",
    "- Median is **robust to extreme fares**.\n",
    "\n",
    "---\n"
   ]
  },
  {
   "cell_type": "markdown",
   "metadata": {},
   "source": [
    "### 🔍 Step 4: Verifying Data After Handling Missing Values\n",
    "To ensure all missing values have been handled correctly, we re-check the dataset.\n"
   ]
  },
  {
   "cell_type": "code",
   "execution_count": 99,
   "metadata": {},
   "outputs": [
    {
     "name": "stdout",
     "output_type": "stream",
     "text": [
      "✅ No missing values remain in the dataset.\n"
     ]
    }
   ],
   "source": [
    "# Check for any remaining missing values\n",
    "missing_after_cleaning = data.isnull().sum()\n",
    "\n",
    "# Filter only columns with missing values\n",
    "missing_after_cleaning = missing_after_cleaning[missing_after_cleaning > 0]\n",
    "\n",
    "# Display results\n",
    "if missing_after_cleaning.empty:\n",
    "    print(\"✅ No missing values remain in the dataset.\")\n",
    "else:\n",
    "    print(\"⚠️ Columns with remaining missing values:\")\n",
    "    print(missing_after_cleaning)\n"
   ]
  },
  {
   "cell_type": "markdown",
   "metadata": {},
   "source": [
    "## 📌 Task 3: Encoding Categorical Variables\n",
    "\n",
    "Machine learning models typically require **numerical inputs**, so categorical variables must be transformed into numerical representations.  \n",
    "In this step, we:  \n",
    "- **Identify categorical variables** in the dataset.  \n",
    "- **Apply OneHotEncoder** to convert them into numerical form.  \n",
    "- **Discuss the impact** of encoding on model performance.  \n",
    "---\n"
   ]
  },
  {
   "cell_type": "markdown",
   "metadata": {},
   "source": [
    "### 📊 Step 1: Identifying Categorical Variables"
   ]
  },
  {
   "cell_type": "code",
   "execution_count": 100,
   "metadata": {},
   "outputs": [
    {
     "name": "stdout",
     "output_type": "stream",
     "text": [
      "Categorical Variables: ['name', 'sex', 'ticket', 'cabin', 'embarked']\n"
     ]
    }
   ],
   "source": [
    "# Identify categorical variables (excluding dropped columns)\n",
    "categorical_columns = data.select_dtypes(include=[\"object\"]).columns\n",
    "print(\"Categorical Variables:\", list(categorical_columns))\n"
   ]
  },
  {
   "cell_type": "markdown",
   "metadata": {},
   "source": [
    "we are going to stay with sex, cabin and embarked scince ticket (their ticket number) and name are not relevant for the ml training."
   ]
  },
  {
   "cell_type": "code",
   "execution_count": 101,
   "metadata": {},
   "outputs": [],
   "source": [
    "# Drop the 'name' column from the dataset\n",
    "data.drop(columns=['name'], inplace=True)\n",
    "data.drop(columns=['ticket'], inplace=True)"
   ]
  },
  {
   "cell_type": "markdown",
   "metadata": {},
   "source": [
    "### 🛠 Step 2: Choosing the Encoding Method\n",
    "\n",
    "Based on **lecture slides**, we apply:\n",
    "| Column   | Encoding Method | Justification |\n",
    "|----------|----------------|---------------|\n",
    "| **sex**  | One-Hot Encoding | Binary categorical (0/1), simple transformation. |\n",
    "| **embarked** | One-Hot Encoding | Small number of unique values (`C`, `Q`, `S`). |\n",
    "| **cabin**  | Label Encoding | Too many unique values, better handled as categorical numbers. |\n",
    "\n",
    "---\n"
   ]
  },
  {
   "cell_type": "markdown",
   "metadata": {},
   "source": [
    "### 🎭 Step 3.1: One-Hot Encoding for \"sex\" and \"embarked\"\n",
    "\n",
    "Since \"sex\" and \"embarked\" have **a small number of categories**, One-Hot Encoding converts them into **binary columns**.\n"
   ]
  },
  {
   "cell_type": "code",
   "execution_count": 102,
   "metadata": {},
   "outputs": [],
   "source": [
    "# Select columns for One-Hot Encoding\n",
    "one_hot_columns = [\"sex\", \"embarked\"]\n",
    "encoder = OneHotEncoder(sparse_output=False, drop=\"first\")  # Avoids multicollinearity\n",
    "\n",
    "# Fit and transform data\n",
    "encoded_features = encoder.fit_transform(data[one_hot_columns])\n",
    "\n",
    "# Convert to DataFrame with meaningful column names\n",
    "encoded_df = pd.DataFrame(encoded_features, columns=encoder.get_feature_names_out(one_hot_columns))\n",
    "\n",
    "# Drop original categorical columns and merge encoded features\n",
    "data = data.drop(columns=one_hot_columns).reset_index(drop=True)\n",
    "data = pd.concat([data, encoded_df], axis=1)"
   ]
  },
  {
   "cell_type": "code",
   "execution_count": 103,
   "metadata": {},
   "outputs": [
    {
     "data": {
      "text/html": [
       "<div>\n",
       "<style scoped>\n",
       "    .dataframe tbody tr th:only-of-type {\n",
       "        vertical-align: middle;\n",
       "    }\n",
       "\n",
       "    .dataframe tbody tr th {\n",
       "        vertical-align: top;\n",
       "    }\n",
       "\n",
       "    .dataframe thead th {\n",
       "        text-align: right;\n",
       "    }\n",
       "</style>\n",
       "<table border=\"1\" class=\"dataframe\">\n",
       "  <thead>\n",
       "    <tr style=\"text-align: right;\">\n",
       "      <th></th>\n",
       "      <th>pclass</th>\n",
       "      <th>survived</th>\n",
       "      <th>age</th>\n",
       "      <th>sibsp</th>\n",
       "      <th>parch</th>\n",
       "      <th>fare</th>\n",
       "      <th>cabin</th>\n",
       "      <th>sex_male</th>\n",
       "      <th>embarked_Q</th>\n",
       "      <th>embarked_S</th>\n",
       "    </tr>\n",
       "  </thead>\n",
       "  <tbody>\n",
       "    <tr>\n",
       "      <th>0</th>\n",
       "      <td>1</td>\n",
       "      <td>1</td>\n",
       "      <td>29.0000</td>\n",
       "      <td>0</td>\n",
       "      <td>0</td>\n",
       "      <td>211.3375</td>\n",
       "      <td>B5</td>\n",
       "      <td>0.0</td>\n",
       "      <td>0.0</td>\n",
       "      <td>1.0</td>\n",
       "    </tr>\n",
       "    <tr>\n",
       "      <th>1</th>\n",
       "      <td>1</td>\n",
       "      <td>1</td>\n",
       "      <td>0.9167</td>\n",
       "      <td>1</td>\n",
       "      <td>2</td>\n",
       "      <td>151.5500</td>\n",
       "      <td>C22 C26</td>\n",
       "      <td>1.0</td>\n",
       "      <td>0.0</td>\n",
       "      <td>1.0</td>\n",
       "    </tr>\n",
       "    <tr>\n",
       "      <th>2</th>\n",
       "      <td>1</td>\n",
       "      <td>0</td>\n",
       "      <td>2.0000</td>\n",
       "      <td>1</td>\n",
       "      <td>2</td>\n",
       "      <td>151.5500</td>\n",
       "      <td>C22 C26</td>\n",
       "      <td>0.0</td>\n",
       "      <td>0.0</td>\n",
       "      <td>1.0</td>\n",
       "    </tr>\n",
       "    <tr>\n",
       "      <th>3</th>\n",
       "      <td>1</td>\n",
       "      <td>0</td>\n",
       "      <td>30.0000</td>\n",
       "      <td>1</td>\n",
       "      <td>2</td>\n",
       "      <td>151.5500</td>\n",
       "      <td>C22 C26</td>\n",
       "      <td>1.0</td>\n",
       "      <td>0.0</td>\n",
       "      <td>1.0</td>\n",
       "    </tr>\n",
       "    <tr>\n",
       "      <th>4</th>\n",
       "      <td>1</td>\n",
       "      <td>0</td>\n",
       "      <td>25.0000</td>\n",
       "      <td>1</td>\n",
       "      <td>2</td>\n",
       "      <td>151.5500</td>\n",
       "      <td>C22 C26</td>\n",
       "      <td>0.0</td>\n",
       "      <td>0.0</td>\n",
       "      <td>1.0</td>\n",
       "    </tr>\n",
       "  </tbody>\n",
       "</table>\n",
       "</div>"
      ],
      "text/plain": [
       "   pclass  survived      age  sibsp  parch      fare    cabin  sex_male  \\\n",
       "0       1         1  29.0000      0      0  211.3375       B5       0.0   \n",
       "1       1         1   0.9167      1      2  151.5500  C22 C26       1.0   \n",
       "2       1         0   2.0000      1      2  151.5500  C22 C26       0.0   \n",
       "3       1         0  30.0000      1      2  151.5500  C22 C26       1.0   \n",
       "4       1         0  25.0000      1      2  151.5500  C22 C26       0.0   \n",
       "\n",
       "   embarked_Q  embarked_S  \n",
       "0         0.0         1.0  \n",
       "1         0.0         1.0  \n",
       "2         0.0         1.0  \n",
       "3         0.0         1.0  \n",
       "4         0.0         1.0  "
      ]
     },
     "execution_count": 103,
     "metadata": {},
     "output_type": "execute_result"
    }
   ],
   "source": [
    "data.head()"
   ]
  },
  {
   "cell_type": "markdown",
   "metadata": {},
   "source": [
    "✅ **Applied One-Hot Encoding**\n",
    "- Converted **\"sex\"** to `sex_male` (0 = female, 1 = male).\n",
    "- Converted **\"embarked\"** into binary columns (`embarked_Q`, `embarked_S`).\n"
   ]
  },
  {
   "cell_type": "markdown",
   "metadata": {},
   "source": [
    "### 🏠 Step 3.2: Label Encoding for \"Cabin\"\n",
    "\n",
    "Since **Cabin has many unique values**, we assign a **numerical category** to each unique cabin ID.\n"
   ]
  },
  {
   "cell_type": "code",
   "execution_count": 104,
   "metadata": {},
   "outputs": [],
   "source": [
    "# Initialize Label Encoder\n",
    "label_encoder = LabelEncoder()\n",
    "\n",
    "# Fit and transform Cabin column\n",
    "data[\"cabin\"] = label_encoder.fit_transform(data[\"cabin\"])\n"
   ]
  },
  {
   "cell_type": "code",
   "execution_count": 105,
   "metadata": {},
   "outputs": [
    {
     "data": {
      "text/html": [
       "<div>\n",
       "<style scoped>\n",
       "    .dataframe tbody tr th:only-of-type {\n",
       "        vertical-align: middle;\n",
       "    }\n",
       "\n",
       "    .dataframe tbody tr th {\n",
       "        vertical-align: top;\n",
       "    }\n",
       "\n",
       "    .dataframe thead th {\n",
       "        text-align: right;\n",
       "    }\n",
       "</style>\n",
       "<table border=\"1\" class=\"dataframe\">\n",
       "  <thead>\n",
       "    <tr style=\"text-align: right;\">\n",
       "      <th></th>\n",
       "      <th>pclass</th>\n",
       "      <th>survived</th>\n",
       "      <th>age</th>\n",
       "      <th>sibsp</th>\n",
       "      <th>parch</th>\n",
       "      <th>fare</th>\n",
       "      <th>cabin</th>\n",
       "      <th>sex_male</th>\n",
       "      <th>embarked_Q</th>\n",
       "      <th>embarked_S</th>\n",
       "    </tr>\n",
       "  </thead>\n",
       "  <tbody>\n",
       "    <tr>\n",
       "      <th>0</th>\n",
       "      <td>1</td>\n",
       "      <td>1</td>\n",
       "      <td>29.0000</td>\n",
       "      <td>0</td>\n",
       "      <td>0</td>\n",
       "      <td>211.3375</td>\n",
       "      <td>43</td>\n",
       "      <td>0.0</td>\n",
       "      <td>0.0</td>\n",
       "      <td>1.0</td>\n",
       "    </tr>\n",
       "    <tr>\n",
       "      <th>1</th>\n",
       "      <td>1</td>\n",
       "      <td>1</td>\n",
       "      <td>0.9167</td>\n",
       "      <td>1</td>\n",
       "      <td>2</td>\n",
       "      <td>151.5500</td>\n",
       "      <td>79</td>\n",
       "      <td>1.0</td>\n",
       "      <td>0.0</td>\n",
       "      <td>1.0</td>\n",
       "    </tr>\n",
       "    <tr>\n",
       "      <th>2</th>\n",
       "      <td>1</td>\n",
       "      <td>0</td>\n",
       "      <td>2.0000</td>\n",
       "      <td>1</td>\n",
       "      <td>2</td>\n",
       "      <td>151.5500</td>\n",
       "      <td>79</td>\n",
       "      <td>0.0</td>\n",
       "      <td>0.0</td>\n",
       "      <td>1.0</td>\n",
       "    </tr>\n",
       "    <tr>\n",
       "      <th>3</th>\n",
       "      <td>1</td>\n",
       "      <td>0</td>\n",
       "      <td>30.0000</td>\n",
       "      <td>1</td>\n",
       "      <td>2</td>\n",
       "      <td>151.5500</td>\n",
       "      <td>79</td>\n",
       "      <td>1.0</td>\n",
       "      <td>0.0</td>\n",
       "      <td>1.0</td>\n",
       "    </tr>\n",
       "    <tr>\n",
       "      <th>4</th>\n",
       "      <td>1</td>\n",
       "      <td>0</td>\n",
       "      <td>25.0000</td>\n",
       "      <td>1</td>\n",
       "      <td>2</td>\n",
       "      <td>151.5500</td>\n",
       "      <td>79</td>\n",
       "      <td>0.0</td>\n",
       "      <td>0.0</td>\n",
       "      <td>1.0</td>\n",
       "    </tr>\n",
       "  </tbody>\n",
       "</table>\n",
       "</div>"
      ],
      "text/plain": [
       "   pclass  survived      age  sibsp  parch      fare  cabin  sex_male  \\\n",
       "0       1         1  29.0000      0      0  211.3375     43       0.0   \n",
       "1       1         1   0.9167      1      2  151.5500     79       1.0   \n",
       "2       1         0   2.0000      1      2  151.5500     79       0.0   \n",
       "3       1         0  30.0000      1      2  151.5500     79       1.0   \n",
       "4       1         0  25.0000      1      2  151.5500     79       0.0   \n",
       "\n",
       "   embarked_Q  embarked_S  \n",
       "0         0.0         1.0  \n",
       "1         0.0         1.0  \n",
       "2         0.0         1.0  \n",
       "3         0.0         1.0  \n",
       "4         0.0         1.0  "
      ]
     },
     "execution_count": 105,
     "metadata": {},
     "output_type": "execute_result"
    }
   ],
   "source": [
    "data.head()"
   ]
  },
  {
   "cell_type": "markdown",
   "metadata": {},
   "source": [
    "✅ **Applied Label Encoding**\n",
    "- Each `cabin` is now represented by a **unique number**.\n",
    "- Helps models **interpret cabin information** while reducing dimensionality.\n"
   ]
  },
  {
   "cell_type": "markdown",
   "metadata": {},
   "source": [
    "### 🔍 Step 4: Verifying Encoded Data\n",
    "\n",
    "After encoding, we check that:\n",
    "1. **Original categorical columns are removed**.\n",
    "2. **Newly encoded numerical features exist**.\n"
   ]
  },
  {
   "cell_type": "code",
   "execution_count": 106,
   "metadata": {},
   "outputs": [
    {
     "name": "stdout",
     "output_type": "stream",
     "text": [
      "Final Dataset Columns:\n",
      "Index(['pclass', 'survived', 'age', 'sibsp', 'parch', 'fare', 'cabin',\n",
      "       'sex_male', 'embarked_Q', 'embarked_S'],\n",
      "      dtype='object')\n"
     ]
    }
   ],
   "source": [
    "print(\"Final Dataset Columns:\")\n",
    "print(data.columns)\n"
   ]
  },
  {
   "cell_type": "markdown",
   "metadata": {},
   "source": [
    "| Column   | Encoding Method | Justification |\n",
    "|----------|----------------|---------------|\n",
    "| **sex**  | One-Hot Encoding | Binary categorical (0/1), simple transformation. |\n",
    "| **embarked** | One-Hot Encoding | Small number of unique values (`C`, `Q`, `S`). |\n",
    "| **cabin**  | Label Encoding | Too many unique values, better handled as categorical numbers. |\n",
    "\n",
    "🚀 **Outcome:**\n",
    "- **No categorical variables remain.**\n",
    "- **Dataset is now fully numerical and ready for ML modeling!**  \n"
   ]
  },
  {
   "cell_type": "code",
   "execution_count": 108,
   "metadata": {},
   "outputs": [
    {
     "data": {
      "text/html": [
       "<div>\n",
       "<style scoped>\n",
       "    .dataframe tbody tr th:only-of-type {\n",
       "        vertical-align: middle;\n",
       "    }\n",
       "\n",
       "    .dataframe tbody tr th {\n",
       "        vertical-align: top;\n",
       "    }\n",
       "\n",
       "    .dataframe thead th {\n",
       "        text-align: right;\n",
       "    }\n",
       "</style>\n",
       "<table border=\"1\" class=\"dataframe\">\n",
       "  <thead>\n",
       "    <tr style=\"text-align: right;\">\n",
       "      <th></th>\n",
       "      <th>pclass</th>\n",
       "      <th>survived</th>\n",
       "      <th>age</th>\n",
       "      <th>sibsp</th>\n",
       "      <th>parch</th>\n",
       "      <th>fare</th>\n",
       "      <th>cabin</th>\n",
       "      <th>sex_male</th>\n",
       "      <th>embarked_Q</th>\n",
       "      <th>embarked_S</th>\n",
       "    </tr>\n",
       "  </thead>\n",
       "  <tbody>\n",
       "    <tr>\n",
       "      <th>0</th>\n",
       "      <td>1</td>\n",
       "      <td>1</td>\n",
       "      <td>29.0000</td>\n",
       "      <td>0</td>\n",
       "      <td>0</td>\n",
       "      <td>211.3375</td>\n",
       "      <td>43</td>\n",
       "      <td>0.0</td>\n",
       "      <td>0.0</td>\n",
       "      <td>1.0</td>\n",
       "    </tr>\n",
       "    <tr>\n",
       "      <th>1</th>\n",
       "      <td>1</td>\n",
       "      <td>1</td>\n",
       "      <td>0.9167</td>\n",
       "      <td>1</td>\n",
       "      <td>2</td>\n",
       "      <td>151.5500</td>\n",
       "      <td>79</td>\n",
       "      <td>1.0</td>\n",
       "      <td>0.0</td>\n",
       "      <td>1.0</td>\n",
       "    </tr>\n",
       "    <tr>\n",
       "      <th>2</th>\n",
       "      <td>1</td>\n",
       "      <td>0</td>\n",
       "      <td>2.0000</td>\n",
       "      <td>1</td>\n",
       "      <td>2</td>\n",
       "      <td>151.5500</td>\n",
       "      <td>79</td>\n",
       "      <td>0.0</td>\n",
       "      <td>0.0</td>\n",
       "      <td>1.0</td>\n",
       "    </tr>\n",
       "    <tr>\n",
       "      <th>3</th>\n",
       "      <td>1</td>\n",
       "      <td>0</td>\n",
       "      <td>30.0000</td>\n",
       "      <td>1</td>\n",
       "      <td>2</td>\n",
       "      <td>151.5500</td>\n",
       "      <td>79</td>\n",
       "      <td>1.0</td>\n",
       "      <td>0.0</td>\n",
       "      <td>1.0</td>\n",
       "    </tr>\n",
       "    <tr>\n",
       "      <th>4</th>\n",
       "      <td>1</td>\n",
       "      <td>0</td>\n",
       "      <td>25.0000</td>\n",
       "      <td>1</td>\n",
       "      <td>2</td>\n",
       "      <td>151.5500</td>\n",
       "      <td>79</td>\n",
       "      <td>0.0</td>\n",
       "      <td>0.0</td>\n",
       "      <td>1.0</td>\n",
       "    </tr>\n",
       "  </tbody>\n",
       "</table>\n",
       "</div>"
      ],
      "text/plain": [
       "   pclass  survived      age  sibsp  parch      fare  cabin  sex_male  \\\n",
       "0       1         1  29.0000      0      0  211.3375     43       0.0   \n",
       "1       1         1   0.9167      1      2  151.5500     79       1.0   \n",
       "2       1         0   2.0000      1      2  151.5500     79       0.0   \n",
       "3       1         0  30.0000      1      2  151.5500     79       1.0   \n",
       "4       1         0  25.0000      1      2  151.5500     79       0.0   \n",
       "\n",
       "   embarked_Q  embarked_S  \n",
       "0         0.0         1.0  \n",
       "1         0.0         1.0  \n",
       "2         0.0         1.0  \n",
       "3         0.0         1.0  \n",
       "4         0.0         1.0  "
      ]
     },
     "execution_count": 108,
     "metadata": {},
     "output_type": "execute_result"
    }
   ],
   "source": [
    "data.head()"
   ]
  }
 ],
 "metadata": {
  "kernelspec": {
   "display_name": "Python 3",
   "language": "python",
   "name": "python3"
  },
  "language_info": {
   "codemirror_mode": {
    "name": "ipython",
    "version": 3
   },
   "file_extension": ".py",
   "mimetype": "text/x-python",
   "name": "python",
   "nbconvert_exporter": "python",
   "pygments_lexer": "ipython3",
   "version": "3.12.4"
  }
 },
 "nbformat": 4,
 "nbformat_minor": 2
}
